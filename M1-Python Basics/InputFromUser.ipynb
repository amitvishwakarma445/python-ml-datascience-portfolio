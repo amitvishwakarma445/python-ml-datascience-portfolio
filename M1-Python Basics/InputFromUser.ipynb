{
 "cells": [
  {
   "cell_type": "code",
   "execution_count": 1,
   "metadata": {},
   "outputs": [
    {
     "name": "stdout",
     "output_type": "stream",
     "text": [
      "22 <class 'str'>\n"
     ]
    }
   ],
   "source": [
    "# input :- by default it takes strung as input\n",
    "age=input(\"what is the age\")\n",
    "print(age, type(age))"
   ]
  },
  {
   "cell_type": "code",
   "execution_count": 2,
   "metadata": {},
   "outputs": [
    {
     "name": "stdout",
     "output_type": "stream",
     "text": [
      "22 <class 'int'>\n"
     ]
    }
   ],
   "source": [
    "# type cast input into integer\n",
    "x=int(input(\"what is the value of x : \"))\n",
    "print(x, type(x))"
   ]
  },
  {
   "cell_type": "code",
   "execution_count": 3,
   "metadata": {},
   "outputs": [
    {
     "name": "stdout",
     "output_type": "stream",
     "text": [
      "sum =  36.0\n",
      "difference =  -12.0\n",
      "product =  288.0\n",
      "quotient =  0.5\n"
     ]
    }
   ],
   "source": [
    "# simple calculater\n",
    "num1 = float(input(\"enter first number\"))\n",
    "num2 = float(input(\"enter second number\"))\n",
    "\n",
    "sum = num1 + num2\n",
    "difference = num1 - num2\n",
    "product = num1 * num2\n",
    "qoutient = num1 / num2\n",
    "\n",
    "print(\"sum = \",sum)\n",
    "print(\"difference = \",difference)\n",
    "print(\"product = \",product)\n",
    "print(\"quotient = \",qoutient)"
   ]
  }
 ],
 "metadata": {
  "kernelspec": {
   "display_name": "myenv",
   "language": "python",
   "name": "python3"
  },
  "language_info": {
   "codemirror_mode": {
    "name": "ipython",
    "version": 3
   },
   "file_extension": ".py",
   "mimetype": "text/x-python",
   "name": "python",
   "nbconvert_exporter": "python",
   "pygments_lexer": "ipython3",
   "version": "3.13.2"
  }
 },
 "nbformat": 4,
 "nbformat_minor": 2
}
