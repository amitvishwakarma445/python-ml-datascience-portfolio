{
 "cells": [
  {
   "cell_type": "markdown",
   "metadata": {},
   "source": [
    "## Encpsulation\n",
    "\n",
    "* Wrapping data(varibles) and methods(functions) together as a single unit."
   ]
  },
  {
   "cell_type": "code",
   "execution_count": null,
   "metadata": {},
   "outputs": [
    {
     "name": "stdout",
     "output_type": "stream",
     "text": [
      "22\n",
      "Amit\n",
      "23\n"
     ]
    }
   ],
   "source": [
    "## Encapsulation with getter setter method\n",
    "## public, pritected, private access modifier\n",
    "\n",
    "class Person:\n",
    "    def __init__(self, name, age):\n",
    "        self.name = name  ## public variable\n",
    "        self.age = age    ## public variable\n",
    "\n",
    "    def get_name(self):\n",
    "        return self.name\n",
    "    \n",
    "    def get_age(self):\n",
    "        return self.age\n",
    "    \n",
    "    def set_name(self, name):\n",
    "        self.name = name\n",
    "    \n",
    "    def set_age(self, age):\n",
    "        if age<0:\n",
    "            return \"age can't be zero or less than zero\"\n",
    "        else:\n",
    "            self.age = age\n",
    "\n",
    "## object creation    \n",
    "person = Person(\"Amit\", 22)\n",
    "print(person.age)\n",
    "print(person.name)\n",
    "person.set_age(23)\n",
    "print(person.get_age())\n"
   ]
  },
  {
   "cell_type": "code",
   "execution_count": 8,
   "metadata": {},
   "outputs": [
    {
     "data": {
      "text/plain": [
       "['__class__',\n",
       " '__delattr__',\n",
       " '__dict__',\n",
       " '__dir__',\n",
       " '__doc__',\n",
       " '__eq__',\n",
       " '__firstlineno__',\n",
       " '__format__',\n",
       " '__ge__',\n",
       " '__getattribute__',\n",
       " '__getstate__',\n",
       " '__gt__',\n",
       " '__hash__',\n",
       " '__init__',\n",
       " '__init_subclass__',\n",
       " '__le__',\n",
       " '__lt__',\n",
       " '__module__',\n",
       " '__ne__',\n",
       " '__new__',\n",
       " '__reduce__',\n",
       " '__reduce_ex__',\n",
       " '__repr__',\n",
       " '__setattr__',\n",
       " '__sizeof__',\n",
       " '__static_attributes__',\n",
       " '__str__',\n",
       " '__subclasshook__',\n",
       " '__weakref__',\n",
       " 'age',\n",
       " 'get_age',\n",
       " 'get_name',\n",
       " 'name',\n",
       " 'set_age',\n",
       " 'set_name']"
      ]
     },
     "execution_count": 8,
     "metadata": {},
     "output_type": "execute_result"
    }
   ],
   "source": [
    "dir(person)"
   ]
  },
  {
   "cell_type": "code",
   "execution_count": null,
   "metadata": {},
   "outputs": [
    {
     "name": "stdout",
     "output_type": "stream",
     "text": [
      "Amit\n",
      "22\n",
      "23\n"
     ]
    }
   ],
   "source": [
    "##private variable\n",
    "\n",
    "class Person:\n",
    "    def __init__(self,name,age):\n",
    "        self.__name = name  ## private variable\n",
    "        self.__age = age    ## private variable\n",
    "    \n",
    "    def get_name(self):\n",
    "        return self.__name\n",
    "    \n",
    "    def get_age(self):\n",
    "        return self.__age\n",
    "    \n",
    "    def set_age(self, age):\n",
    "        self.__age = age\n",
    "    \n",
    "## object creation    \n",
    "person = Person(\"Amit\", 22)\n",
    "print(person.get_name())\n",
    "print(person.get_age())\n",
    "\n",
    "person.set_age(23)\n",
    "print(person.get_age())"
   ]
  },
  {
   "cell_type": "code",
   "execution_count": 20,
   "metadata": {},
   "outputs": [
    {
     "data": {
      "text/plain": [
       "['_Person__age',\n",
       " '_Person__name',\n",
       " '__class__',\n",
       " '__delattr__',\n",
       " '__dict__',\n",
       " '__dir__',\n",
       " '__doc__',\n",
       " '__eq__',\n",
       " '__firstlineno__',\n",
       " '__format__',\n",
       " '__ge__',\n",
       " '__getattribute__',\n",
       " '__getstate__',\n",
       " '__gt__',\n",
       " '__hash__',\n",
       " '__init__',\n",
       " '__init_subclass__',\n",
       " '__le__',\n",
       " '__lt__',\n",
       " '__module__',\n",
       " '__ne__',\n",
       " '__new__',\n",
       " '__reduce__',\n",
       " '__reduce_ex__',\n",
       " '__repr__',\n",
       " '__setattr__',\n",
       " '__sizeof__',\n",
       " '__static_attributes__',\n",
       " '__str__',\n",
       " '__subclasshook__',\n",
       " '__weakref__',\n",
       " 'get_name']"
      ]
     },
     "execution_count": 20,
     "metadata": {},
     "output_type": "execute_result"
    }
   ],
   "source": [
    "dir(person)"
   ]
  },
  {
   "cell_type": "code",
   "execution_count": 27,
   "metadata": {},
   "outputs": [
    {
     "name": "stdout",
     "output_type": "stream",
     "text": [
      "amit\n",
      "22\n"
     ]
    }
   ],
   "source": [
    "## protected Variable\n",
    "\n",
    "class Person:\n",
    "    def __init__(self, name, age):\n",
    "        self._name = name ## protected variable\n",
    "        self._age = age   ## protected variable\n",
    "\n",
    "p = Person(\"amit\", 22)\n",
    "print(p._name)\n",
    "print(p._age) "
   ]
  },
  {
   "cell_type": "code",
   "execution_count": null,
   "metadata": {},
   "outputs": [
    {
     "name": "stdout",
     "output_type": "stream",
     "text": [
      "Length:  80\n",
      "Breadth:  50\n",
      "Area:  4000\n"
     ]
    }
   ],
   "source": [
    "# program to illustrate protected \n",
    "# data members in a class  \n",
    "  \n",
    "  \n",
    "# super class  \n",
    "class Shape:  \n",
    "    def __init__(self, length, breadth):  \n",
    "        self._length = length \n",
    "        self._breadth = breadth  \n",
    "          \n",
    "    # public member function  \n",
    "    def display_sides(self):\n",
    "        print(\"Length: \", self._length)  \n",
    "        print(\"Breadth: \", self._breadth)  \n",
    "  \n",
    "  \n",
    "# derived class  \n",
    "class Rectangle(Shape):\n",
    "    def __init__(self, length, breadth):  \n",
    "        # Calling the constructor of Super class \n",
    "        super().__init__(length, breadth)\n",
    "        ## Shape.__init__(self, length, breadth)\n",
    "          \n",
    "    def calculate_area(self):               \n",
    "        # accessing protected data members of super class  \n",
    "        print(\"Area: \", self._length * self._breadth)  \n",
    "                      \n",
    "  \n",
    "# creating objects of the  \n",
    "# derived class          \n",
    "obj = Rectangle(80, 50)  \n",
    "  \n",
    "# calling derived member  \n",
    "# functions of the class \n",
    "obj.display_sides() \n",
    "  \n",
    "# calling public member \n",
    "# functions of the class  \n",
    "obj.calculate_area()  "
   ]
  }
 ],
 "metadata": {
  "kernelspec": {
   "display_name": "myenv",
   "language": "python",
   "name": "python3"
  },
  "language_info": {
   "codemirror_mode": {
    "name": "ipython",
    "version": 3
   },
   "file_extension": ".py",
   "mimetype": "text/x-python",
   "name": "python",
   "nbconvert_exporter": "python",
   "pygments_lexer": "ipython3",
   "version": "3.13.2"
  }
 },
 "nbformat": 4,
 "nbformat_minor": 2
}
