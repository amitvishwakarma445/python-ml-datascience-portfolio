{
 "cells": [
  {
   "cell_type": "markdown",
   "metadata": {},
   "source": [
    "## Operator Overloading\n",
    "\n",
    "* define the behaviour of operators(+,-*,etc) for custom objects.\n",
    "* it can be achieve by overriding specific magic methods in your class."
   ]
  },
  {
   "cell_type": "code",
   "execution_count": 7,
   "metadata": {},
   "outputs": [
    {
     "data": {
      "text/plain": [
       "'\\n__add__(self, other)    : adds two object using + oprator\\n__asub__(self, other)   : subtracts two object using - oprator\\n__mul__(self, other)    : multiplies two object using * oprator\\n__truediv__(self, other): divides two object using / oprator\\n__eq__(self, other)     : check if two objects are equal using == oprator\\n__lt__(self, other)     : check if one object is less than to another using < oprator\\n__le__(self, other)     : check if one object is less than or equal to another using <= oprator\\n__gt__(self, other)     : check if one object is greater than to another using > oprator\\n__ge__(self, other)     : check if one object is greater than or equal to another using >= oprator\\n\\n'"
      ]
     },
     "execution_count": 7,
     "metadata": {},
     "output_type": "execute_result"
    }
   ],
   "source": [
    "## common operator overloading magic class are\n",
    "'''\n",
    "__add__(self, other)    : adds two object using + oprator\n",
    "__asub__(self, other)   : subtracts two object using - oprator\n",
    "__mul__(self, other)    : multiplies two object using * oprator\n",
    "__truediv__(self, other): divides two object using / oprator\n",
    "__eq__(self, other)     : check if two objects are equal using == oprator\n",
    "__lt__(self, other)     : check if one object is less than to another using < oprator\n",
    "__le__(self, other)     : check if one object is less than or equal to another using <= oprator\n",
    "__gt__(self, other)     : check if one object is greater than to another using > oprator\n",
    "__ge__(self, other)     : check if one object is greater than or equal to another using >= oprator\n",
    "\n",
    "'''"
   ]
  },
  {
   "cell_type": "code",
   "execution_count": 26,
   "metadata": {},
   "outputs": [
    {
     "name": "stdout",
     "output_type": "stream",
     "text": [
      "Vector(4, 7)\n",
      "Vector(2, 1)\n",
      "Vector(18, 24) Vector(6, 18)\n",
      "Vector(1.5, 2.0)\n",
      "False\n",
      "True\n",
      "True\n"
     ]
    }
   ],
   "source": [
    "class Vector:\n",
    "    def __init__(self, x, y):\n",
    "        self.x = x\n",
    "        self.y = y\n",
    "    \n",
    "    def __add__(self, other):\n",
    "        return Vector(self.x+other.x , self.y+other.y)\n",
    "    \n",
    "    def __sub__(self, other):\n",
    "        return Vector(self.x-other.x , self.y-other.y)\n",
    "    \n",
    "    def __mul__(self, other):\n",
    "        return Vector(self.x*other , self.y*other)\n",
    "    \n",
    "    def __truediv__(self, other):\n",
    "        return Vector(self.x/other , self.y/other)\n",
    "    \n",
    "    def __eq__(self, other):\n",
    "        return self.x==other.x and self.y==other.y\n",
    "    \n",
    "    def __gt__(self, other):\n",
    "        return self.x>other.x and self.y>other.y\n",
    "    \n",
    "    def __ge__(self, other):\n",
    "        return self.x>=other.x and self.y>=other.y\n",
    "    \n",
    "    def __str__(self):\n",
    "        return f\"Vector({self.x}, {self.y})\"     \n",
    "\n",
    "\n",
    "##creating object of vector class\n",
    "v1 = Vector(3,4)\n",
    "v2 = Vector(1,3)\n",
    "\n",
    "print(v1+v2)\n",
    "print(v1-v2)\n",
    "print(v1*6, v2*6)\n",
    "print(v1/2)\n",
    "print(v1==v2)\n",
    "print(v1>v2)\n",
    "print(v1>=v2)\n"
   ]
  },
  {
   "cell_type": "code",
   "execution_count": 32,
   "metadata": {},
   "outputs": [
    {
     "name": "stdout",
     "output_type": "stream",
     "text": [
      "ComplexNumber(4, 6i)\n",
      "ComplexNumber(2, 4i)\n",
      "ComplexNumber(-2, 8i)\n",
      "ComplexNumber(4.0, 1.0i)\n",
      "False\n"
     ]
    }
   ],
   "source": [
    "##  overloading operator for  complex numbers\n",
    "\n",
    "class ComplexNumber:\n",
    "    def __init__(self, real,  imag):\n",
    "        self.real = real\n",
    "        self.imag = imag\n",
    "    \n",
    "    def __add__(self, other):\n",
    "        return ComplexNumber(self.real+other.real, self.imag+other.imag)\n",
    "    \n",
    "    def __sub__(self, other):\n",
    "        return ComplexNumber(self.real-other.real, self.imag-other.imag)\n",
    "    \n",
    "    def __mul__(self, other):\n",
    "        real_part = self.real*other.real - self.imag*other.imag\n",
    "        imag_part = self.real*other.imag + other.real*self.imag\n",
    "        return ComplexNumber(real_part, imag_part)\n",
    "    \n",
    "    def __truediv__(self, other):\n",
    "        denominator = other.real**2 + other.imag**2\n",
    "        real_part = (self.real*other.real + self.imag*other.imag)/denominator\n",
    "        imag_part = (other.real*self.imag - self.real*other.imag)/denominator\n",
    "        return ComplexNumber(real_part, imag_part)\n",
    "    \n",
    "    def __eq__(self, other):\n",
    "        return self.real==other.real and self.imag==other.imag\n",
    "\n",
    "    def __repr__(self):\n",
    "        return f\"ComplexNumber({self.real}, {self.imag}i)\"\n",
    "    \n",
    "\n",
    "## object creation \n",
    "c1 = ComplexNumber(3, 5)\n",
    "c2 = ComplexNumber(1, 1)\n",
    "\n",
    "print(c1+c2)\n",
    "print(c1-c2)\n",
    "print(c1*c2)\n",
    "print(c1/c2)\n",
    "print(c1==c2)"
   ]
  }
 ],
 "metadata": {
  "kernelspec": {
   "display_name": "myenv",
   "language": "python",
   "name": "python3"
  },
  "language_info": {
   "codemirror_mode": {
    "name": "ipython",
    "version": 3
   },
   "file_extension": ".py",
   "mimetype": "text/x-python",
   "name": "python",
   "nbconvert_exporter": "python",
   "pygments_lexer": "ipython3",
   "version": "3.13.2"
  }
 },
 "nbformat": 4,
 "nbformat_minor": 2
}
