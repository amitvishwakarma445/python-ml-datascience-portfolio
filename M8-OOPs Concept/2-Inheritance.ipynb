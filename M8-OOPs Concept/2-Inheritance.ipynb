{
 "cells": [
  {
   "cell_type": "markdown",
   "metadata": {},
   "source": [
    "## Inheritance in Python"
   ]
  },
  {
   "cell_type": "code",
   "execution_count": null,
   "metadata": {},
   "outputs": [
    {
     "name": "stdout",
     "output_type": "stream",
     "text": [
      "the person will drive petrol car\n"
     ]
    }
   ],
   "source": [
    "## parent class\n",
    "class Car:\n",
    "    ## constructor\n",
    "    def __init__(self, windows, doors, engineType):\n",
    "        self.windows = windows\n",
    "        self.doors = doors\n",
    "        self.engineType = engineType\n",
    "\n",
    "    def drive(self):\n",
    "        return f\"the person will drive {self.engineType} car\"\n",
    "\n",
    "## \n",
    "car1 = Car(4,5,'petrol')\n",
    "print(car1.drive())\n",
    "\n",
    "\n"
   ]
  },
  {
   "cell_type": "code",
   "execution_count": 3,
   "metadata": {},
   "outputs": [
    {
     "name": "stdout",
     "output_type": "stream",
     "text": [
      "True\n",
      "electric\n",
      "4\n",
      "4\n",
      "the person will drive electric car\n"
     ]
    }
   ],
   "source": [
    "## I want to inherit the property of parent Car into another car\n",
    "\n",
    "class Tesla(Car):\n",
    "    def __init__(self, windows, doors, engineType, is_selfdriving):\n",
    "        super().__init__(windows,doors,engineType)\n",
    "        self.is_selfdriving = is_selfdriving\n",
    "    \n",
    "    def selfdriving(self):\n",
    "        return self.is_selfdriving\n",
    "    \n",
    "\n",
    "\n",
    "tesla1 = Tesla(4, 5, 'electric', True)\n",
    "print(tesla1.is_selfdriving)\n",
    "print(tesla1.engineType)\n",
    "print(tesla1.doors)\n",
    "print(tesla1.windows)\n",
    "print(tesla1.drive())\n",
    "        "
   ]
  },
  {
   "cell_type": "markdown",
   "metadata": {},
   "source": [
    "## multhiple inheritance"
   ]
  },
  {
   "cell_type": "code",
   "execution_count": 13,
   "metadata": {},
   "outputs": [
    {
     "name": "stdout",
     "output_type": "stream",
     "text": [
      "Hira\n",
      "Satyam\n",
      "Hira is barking\n",
      "Hira\n"
     ]
    }
   ],
   "source": [
    "## base class1\n",
    "class Animal:\n",
    "    def __init__(self, name):\n",
    "        self.name = name\n",
    "    \n",
    "    def speak(self):\n",
    "        print(\"define to child class\")\n",
    "\n",
    "    def animal_name(self):\n",
    "        return self.name\n",
    "\n",
    "\n",
    "## base class2\n",
    "class Pet:\n",
    "    def __init__(self, owner):\n",
    "        self.owner = owner\n",
    "    \n",
    "\n",
    "## Derived class\n",
    "class Dog(Animal, Pet):\n",
    "    def __init__(self, name, owner):\n",
    "        Animal.__init__(self, name)\n",
    "        Pet.__init__(self, owner)\n",
    "\n",
    "    def speak(self):\n",
    "        return f\"{self.name} is barking\"\n",
    "    \n",
    "    def animal_name(self):\n",
    "        return super().animal_name()\n",
    "\n",
    "\n",
    "\n",
    "## dog object\n",
    "dog1 = Dog('Hira', 'Satyam')\n",
    "\n",
    "print(dog1.name)\n",
    "print(dog1.owner)\n",
    "print(dog1.speak())\n",
    "print(dog1.animal_name())\n"
   ]
  }
 ],
 "metadata": {
  "kernelspec": {
   "display_name": "myenv",
   "language": "python",
   "name": "python3"
  },
  "language_info": {
   "codemirror_mode": {
    "name": "ipython",
    "version": 3
   },
   "file_extension": ".py",
   "mimetype": "text/x-python",
   "name": "python",
   "nbconvert_exporter": "python",
   "pygments_lexer": "ipython3",
   "version": "3.13.2"
  }
 },
 "nbformat": 4,
 "nbformat_minor": 2
}
