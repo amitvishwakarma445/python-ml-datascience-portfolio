{
 "cells": [
  {
   "cell_type": "markdown",
   "metadata": {},
   "source": [
    "## Custom Exception\n",
    "\n",
    "* raise\n",
    "* throw"
   ]
  },
  {
   "cell_type": "code",
   "execution_count": 2,
   "metadata": {},
   "outputs": [
    {
     "name": "stdout",
     "output_type": "stream",
     "text": [
      "sorry, your age should bs greater than 20 and less than 30\n"
     ]
    }
   ],
   "source": [
    "class dobException(Exception):\n",
    "    pass\n",
    "\n",
    "\n",
    "year = int(input('Enter the year of dob :'))\n",
    "age = 2025-year\n",
    "\n",
    "try:\n",
    "    if age<=30 and age >=20:\n",
    "        print('you are valid to appear in this exam')\n",
    "    else:\n",
    "        raise dobException\n",
    "except dobException:\n",
    "    print('sorry, your age should bs greater than 20 and less than 30')"
   ]
  }
 ],
 "metadata": {
  "kernelspec": {
   "display_name": "myenv",
   "language": "python",
   "name": "python3"
  },
  "language_info": {
   "codemirror_mode": {
    "name": "ipython",
    "version": 3
   },
   "file_extension": ".py",
   "mimetype": "text/x-python",
   "name": "python",
   "nbconvert_exporter": "python",
   "pygments_lexer": "ipython3",
   "version": "3.13.2"
  }
 },
 "nbformat": 4,
 "nbformat_minor": 2
}
