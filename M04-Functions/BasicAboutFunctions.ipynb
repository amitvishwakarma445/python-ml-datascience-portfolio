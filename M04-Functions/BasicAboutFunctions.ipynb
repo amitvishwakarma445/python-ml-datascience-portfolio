{
 "cells": [
  {
   "cell_type": "markdown",
   "metadata": {},
   "source": [
    "## functions in Python\n",
    "\n",
    "* ### Introduction to functions\n",
    "  * function is a block of code that perform a spesific task.\n",
    "  * function helps in organising code, reusing code and improve readability\n",
    "    1. Defining functions\n",
    "    2. calling functions\n",
    "    3. function parameters\n",
    "    4. default parameters\n",
    "    5. variable length arguments\n",
    "    6. return statement"
   ]
  },
  {
   "cell_type": "markdown",
   "metadata": {},
   "source": [
    "## 1. Defining function and Syntax"
   ]
  },
  {
   "cell_type": "code",
   "execution_count": 1,
   "metadata": {},
   "outputs": [],
   "source": [
    "## syntax\n",
    "\n",
    "def function_name(parameter):\n",
    "    \"\"\"Dockstring\"\"\"\n",
    "    # function body\n",
    "    return expression"
   ]
  },
  {
   "cell_type": "code",
   "execution_count": 2,
   "metadata": {},
   "outputs": [
    {
     "name": "stdout",
     "output_type": "stream",
     "text": [
      "24 is even number\n"
     ]
    }
   ],
   "source": [
    "## why function require\n",
    "\n",
    "num=24\n",
    "if num%2==0:\n",
    "    print(num,\"is even number\")\n",
    "else:\n",
    "    print(num,\"in not even number\")"
   ]
  },
  {
   "cell_type": "code",
   "execution_count": 3,
   "metadata": {},
   "outputs": [],
   "source": [
    "def even_or_odd(num):\n",
    "    \"\"\"This function finds number is even or odd\"\"\"\n",
    "    if num%2==0:\n",
    "        print(num,\"is even number\")\n",
    "    else:\n",
    "        print(num,\"in odd number\")"
   ]
  },
  {
   "cell_type": "markdown",
   "metadata": {},
   "source": [
    "## 2. Calling function"
   ]
  },
  {
   "cell_type": "code",
   "execution_count": 4,
   "metadata": {},
   "outputs": [
    {
     "name": "stdout",
     "output_type": "stream",
     "text": [
      "26 is even number\n"
     ]
    }
   ],
   "source": [
    "## calling this function\n",
    "\n",
    "even_or_odd(26)"
   ]
  },
  {
   "cell_type": "code",
   "execution_count": 5,
   "metadata": {},
   "outputs": [
    {
     "name": "stdout",
     "output_type": "stream",
     "text": [
      "13 in odd number\n"
     ]
    }
   ],
   "source": [
    "even_or_odd(13)"
   ]
  },
  {
   "cell_type": "markdown",
   "metadata": {},
   "source": [
    "## 3. function parameters"
   ]
  },
  {
   "cell_type": "code",
   "execution_count": 6,
   "metadata": {},
   "outputs": [
    {
     "name": "stdout",
     "output_type": "stream",
     "text": [
      "7\n"
     ]
    }
   ],
   "source": [
    "## function with multiple parameters\n",
    "\n",
    "def add(a,b):\n",
    "    return a+b\n",
    "\n",
    "\n",
    "result = add(3,4)\n",
    "print(result)"
   ]
  },
  {
   "cell_type": "markdown",
   "metadata": {},
   "source": [
    "## 4. Default parameter"
   ]
  },
  {
   "cell_type": "code",
   "execution_count": 7,
   "metadata": {},
   "outputs": [
    {
     "name": "stdout",
     "output_type": "stream",
     "text": [
      "Hello Amit welcome to paradise\n"
     ]
    }
   ],
   "source": [
    "## default parameter\n",
    "\n",
    "## why use defaullt parameter\n",
    "\n",
    "def greet(name):\n",
    "    print(f\"Hello {name} welcome to paradise\")\n",
    "\n",
    "## calling the function\n",
    "greet(\"Amit\")"
   ]
  },
  {
   "cell_type": "code",
   "execution_count": 8,
   "metadata": {},
   "outputs": [
    {
     "name": "stdout",
     "output_type": "stream",
     "text": [
      "Hello Guest welcome to paradise\n",
      "Hello Manish welcome to paradise\n"
     ]
    }
   ],
   "source": [
    "## if I dont give parameter then\n",
    "\n",
    "def greet(name=\"Guest\"):\n",
    "    print(f\"Hello {name} welcome to paradise\")\n",
    "\n",
    "\n",
    "## calling the function\n",
    "greet()\n",
    "greet(\"Manish\")"
   ]
  },
  {
   "cell_type": "markdown",
   "metadata": {},
   "source": [
    "## 5. Variable length arguments"
   ]
  },
  {
   "cell_type": "code",
   "execution_count": 9,
   "metadata": {},
   "outputs": [],
   "source": [
    "## variable length argument\n",
    "## positional (args) argument\n",
    "\n",
    "def print_numbers(*args):\n",
    "    for arg in args:\n",
    "        print(arg, end=\" \")"
   ]
  },
  {
   "cell_type": "code",
   "execution_count": 10,
   "metadata": {},
   "outputs": [
    {
     "name": "stdout",
     "output_type": "stream",
     "text": [
      "1 2 3 4 5 6 7 8 Amit "
     ]
    }
   ],
   "source": [
    "print_numbers(1,2,3,4,5,6,7,8,\"Amit\")"
   ]
  },
  {
   "cell_type": "code",
   "execution_count": 11,
   "metadata": {},
   "outputs": [],
   "source": [
    "## keywords argument (kwargs)\n",
    "## all the values given to the funtion must be in key-value pairs\n",
    "\n",
    "def print_detail(**kwargs):\n",
    "    for key,value in kwargs.items():\n",
    "        print(f\"{key}:{value}\")"
   ]
  },
  {
   "cell_type": "code",
   "execution_count": 12,
   "metadata": {},
   "outputs": [
    {
     "name": "stdout",
     "output_type": "stream",
     "text": [
      "name:Amit\n",
      "age:22\n",
      "country:India\n"
     ]
    }
   ],
   "source": [
    "print_detail(name=\"Amit\", age=22, country=\"India\")"
   ]
  },
  {
   "cell_type": "code",
   "execution_count": 13,
   "metadata": {},
   "outputs": [],
   "source": [
    "## combine both positional and keywords arguments\n",
    "\n",
    "def positional_keyword_args(*args, **kwagrgs):\n",
    "    print(\"o positional arguments args:\")\n",
    "    for arg in args:\n",
    "        print(\"-\",arg)\n",
    "\n",
    "    print(\"o keyword arguments args:\")\n",
    "    for key,value in kwagrgs.items():\n",
    "        print(f\"-{key}:{value}\")"
   ]
  },
  {
   "cell_type": "code",
   "execution_count": 14,
   "metadata": {},
   "outputs": [
    {
     "name": "stdout",
     "output_type": "stream",
     "text": [
      "o positional arguments args:\n",
      "- 1\n",
      "- 2\n",
      "- 3\n",
      "- 4\n",
      "- 5\n",
      "o keyword arguments args:\n",
      "-name:Amit\n",
      "-age:22\n",
      "-country:India\n"
     ]
    }
   ],
   "source": [
    "positional_keyword_args(1,2,3,4,5, name=\"Amit\", age=22, country=\"India\")"
   ]
  },
  {
   "cell_type": "markdown",
   "metadata": {},
   "source": [
    "## Return statement"
   ]
  },
  {
   "cell_type": "code",
   "execution_count": 15,
   "metadata": {},
   "outputs": [
    {
     "name": "stdout",
     "output_type": "stream",
     "text": [
      "6\n"
     ]
    }
   ],
   "source": [
    "## return single parameter\n",
    "\n",
    "def multiply(a,b):\n",
    "    return a*b\n",
    "\n",
    "print(multiply(2,3))"
   ]
  },
  {
   "cell_type": "code",
   "execution_count": 16,
   "metadata": {},
   "outputs": [
    {
     "name": "stdout",
     "output_type": "stream",
     "text": [
      "(2, 3, 6)\n"
     ]
    }
   ],
   "source": [
    "## return multiple parameter\n",
    "\n",
    "def multiply(a,b):\n",
    "    return a,b,a*b\n",
    "\n",
    "print(multiply(2,3))"
   ]
  }
 ],
 "metadata": {
  "kernelspec": {
   "display_name": "myenv",
   "language": "python",
   "name": "python3"
  },
  "language_info": {
   "codemirror_mode": {
    "name": "ipython",
    "version": 3
   },
   "file_extension": ".py",
   "mimetype": "text/x-python",
   "name": "python",
   "nbconvert_exporter": "python",
   "pygments_lexer": "ipython3",
   "version": "3.13.2"
  }
 },
 "nbformat": 4,
 "nbformat_minor": 2
}
