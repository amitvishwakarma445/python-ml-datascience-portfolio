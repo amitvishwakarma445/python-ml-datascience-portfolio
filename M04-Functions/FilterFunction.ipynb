{
 "cells": [
  {
   "cell_type": "markdown",
   "metadata": {},
   "source": [
    "## The filter() function in Python\n",
    "\n",
    "* used to filter the data"
   ]
  },
  {
   "cell_type": "markdown",
   "metadata": {},
   "source": [
    "## "
   ]
  },
  {
   "cell_type": "code",
   "execution_count": 1,
   "metadata": {},
   "outputs": [
    {
     "name": "stdout",
     "output_type": "stream",
     "text": [
      "True\n",
      "False\n"
     ]
    }
   ],
   "source": [
    "def is_even(num):\n",
    "    return num%2==0\n",
    "\n",
    "print(is_even(22))\n",
    "print(is_even(21))"
   ]
  },
  {
   "cell_type": "code",
   "execution_count": 2,
   "metadata": {},
   "outputs": [
    {
     "name": "stdout",
     "output_type": "stream",
     "text": [
      "[2, 4, 6, 8, 10]\n"
     ]
    }
   ],
   "source": [
    "## find out all even numbers\n",
    "numbers = [1,2,3,4,5,6,7,8,9,10]\n",
    "\n",
    "even_num_list = list(filter(is_even, numbers))\n",
    "\n",
    "print(even_num_list)"
   ]
  },
  {
   "cell_type": "code",
   "execution_count": 4,
   "metadata": {},
   "outputs": [
    {
     "name": "stdout",
     "output_type": "stream",
     "text": [
      "[6, 7, 8, 9, 10]\n"
     ]
    }
   ],
   "source": [
    "## filter with lambda funtion\n",
    "\n",
    "## find number which is greater than 5\n",
    "\n",
    "numbers = [1,2,3,4,5,6,7,8,9,10]\n",
    "\n",
    "greater_than_five = list(filter(lambda x:x>5, numbers))\n",
    "\n",
    "print(greater_than_five)"
   ]
  },
  {
   "cell_type": "code",
   "execution_count": 5,
   "metadata": {},
   "outputs": [
    {
     "name": "stdout",
     "output_type": "stream",
     "text": [
      "[6, 8, 10]\n"
     ]
    }
   ],
   "source": [
    "## filter with lambda funtion with multiple condition\n",
    "\n",
    "## find even and greater than 5 numbers\n",
    "\n",
    "numbers = [1,2,3,4,5,6,7,8,9,10]\n",
    "\n",
    "even_greater_than_five = list(filter(lambda x:x>5 and x%2==0, numbers))\n",
    "\n",
    "print(even_greater_than_five)"
   ]
  },
  {
   "cell_type": "code",
   "execution_count": null,
   "metadata": {},
   "outputs": [
    {
     "name": "stdout",
     "output_type": "stream",
     "text": [
      "[{'name': 'Krish', 'age': 32}, {'name': 'jack', 'age': 27}]\n"
     ]
    }
   ],
   "source": [
    "## filter() to check age is greater than 25 and print all them\n",
    "\n",
    "people = [\n",
    "    {'name':\"Amit\", 'age':22},\n",
    "    {'name':\"Krish\", 'age':32},\n",
    "    {'name':\"jack\", 'age':27},\n",
    "]\n",
    "\n",
    "## function\n",
    "def age_greater_than_25(person):\n",
    "    return person['age']>25\n",
    "\n",
    "\n",
    "person_age_greater_than_25 = list(filter(age_greater_than_25, people))\n",
    "\n",
    "print(person_age_greater_than_25)\n"
   ]
  }
 ],
 "metadata": {
  "kernelspec": {
   "display_name": "myenv",
   "language": "python",
   "name": "python3"
  },
  "language_info": {
   "codemirror_mode": {
    "name": "ipython",
    "version": 3
   },
   "file_extension": ".py",
   "mimetype": "text/x-python",
   "name": "python",
   "nbconvert_exporter": "python",
   "pygments_lexer": "ipython3",
   "version": "3.13.2"
  }
 },
 "nbformat": 4,
 "nbformat_minor": 2
}
