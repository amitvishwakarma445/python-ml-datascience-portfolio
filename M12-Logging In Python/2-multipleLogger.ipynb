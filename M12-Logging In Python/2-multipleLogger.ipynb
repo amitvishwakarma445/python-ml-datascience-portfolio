{
 "cells": [
  {
   "cell_type": "markdown",
   "metadata": {},
   "source": [
    "## logging with multiple logger\n",
    "\n",
    "For multiple logger we need to create multiple logger"
   ]
  },
  {
   "cell_type": "code",
   "execution_count": 1,
   "metadata": {},
   "outputs": [
    {
     "name": "stderr",
     "output_type": "stream",
     "text": [
      "2025-03-27 / 22-01-48 / Module_1 / DEBUG / debug message\n",
      "2025-03-27 / 22-01-48 / Module_2 / WARNING / It is a warning message\n",
      "2025-03-27 / 22-01-48 / Module_1 / ERROR / Did you try to divide by zero?\n",
      "2025-03-27 / 22-01-48 / Module_1 / CRITICAL / Internet is down\n"
     ]
    }
   ],
   "source": [
    "import logging\n",
    "\n",
    "## create logger for module 1\n",
    "logger1 = logging.getLogger(\"Module_1\")\n",
    "logger1.setLevel(level=logging.DEBUG)\n",
    "\n",
    "## create logger for module 2\n",
    "logger2 = logging.getLogger(\"Module_2\")\n",
    "logger2.setLevel(level=logging.WARNING)\n",
    "\n",
    "## configure logging settings\n",
    "logging.basicConfig(level=logging.DEBUG,\n",
    "                    format=\"%(asctime)s / %(name)s / %(levelname)s / %(message)s\",\n",
    "                    datefmt='%Y-%m-%d / %H-%M-%S'\n",
    ")\n",
    "\n",
    "logger1.debug(\"debug message\")\n",
    "logger2.info(\"Just an information message\")\n",
    "logger2.warning(\"It is a warning message\")\n",
    "logger1.error(\"Did you try to divide by zero?\")\n",
    "logger1.critical(\"Internet is down\")"
   ]
  }
 ],
 "metadata": {
  "kernelspec": {
   "display_name": "myenv",
   "language": "python",
   "name": "python3"
  },
  "language_info": {
   "codemirror_mode": {
    "name": "ipython",
    "version": 3
   },
   "file_extension": ".py",
   "mimetype": "text/x-python",
   "name": "python",
   "nbconvert_exporter": "python",
   "pygments_lexer": "ipython3",
   "version": "3.13.2"
  }
 },
 "nbformat": 4,
 "nbformat_minor": 2
}
