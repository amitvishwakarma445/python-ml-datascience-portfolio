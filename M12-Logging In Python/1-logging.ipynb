{
 "cells": [
  {
   "cell_type": "markdown",
   "metadata": {},
   "source": [
    "## Pyhton Logging\n",
    "\n",
    "* Logging is a cruciaql ascept of any application, proving a way to track events, errors, and operational information.\n",
    "* Python built-in logging  module offers a flexible framework for emitting Log messages from Pyython Programs."
   ]
  },
  {
   "cell_type": "code",
   "execution_count": 1,
   "metadata": {},
   "outputs": [
    {
     "name": "stderr",
     "output_type": "stream",
     "text": [
      "2025-03-27 / 22-04-23 / root / DEBUG / debug message\n",
      "2025-03-27 / 22-04-23 / root / INFO / Just an information message\n",
      "2025-03-27 / 22-04-23 / root / WARNING / It is a warning message\n",
      "2025-03-27 / 22-04-23 / root / ERROR / Did you try to divide by zero?\n",
      "2025-03-27 / 22-04-23 / root / CRITICAL / Internet is down\n"
     ]
    }
   ],
   "source": [
    "import logging\n",
    "\n",
    "## configure the basic logging setting\n",
    "logging.basicConfig(level=logging.DEBUG,\n",
    "                    format=\"%(asctime)s / %(name)s / %(levelname)s / %(message)s\",\n",
    "                    datefmt='%Y-%m-%d / %H-%M-%S'\n",
    "                    )\n",
    "\n",
    "# log message with different levels\n",
    "logging.debug(\"debug message\")\n",
    "logging.info(\"Just an information message\")\n",
    "logging.warning(\"It is a warning message\")\n",
    "logging.error(\"Did you try to divide by zero?\")\n",
    "logging.critical(\"Internet is down\")"
   ]
  },
  {
   "cell_type": "markdown",
   "metadata": {},
   "source": [
    "## Log Levels and their name\n",
    "\n",
    "Python's Logging module has several log levels indicating the severity of events. the default leevls are:-\n",
    "\n",
    "1. debug():- Detailed Information, Typically of interest only when diagnosing problem\n",
    "2. info():- Confirmation that things are working as expected\n",
    "3. warning():-An indication that something unexpected happened or indicative of some problem in the near future<br>\n",
    "    (eg. *'disk space low'*). THe S/W is still working as expected\n",
    "4. error():- Due to a more serious problem, the s/w has noot been able to perform some functiions.\n",
    "5. critical():-A very serious error, indicating that the program itself may be unable to continue running"
   ]
  },
  {
   "cell_type": "code",
   "execution_count": null,
   "metadata": {},
   "outputs": [],
   "source": [
    "import logging\n",
    "\n",
    "## NOTE- before run this code first restart the kernal\n",
    "\n",
    "# Corrected logger configuration\n",
    "logging.basicConfig(filename='new_file.log',  # Log messages to file\n",
    "                    filemode='w',            # Overwrite the file on each run\n",
    "                    format='%(asctime)s - %(name)s- %(levelname)s - %(message)s',  \n",
    "                    level=logging.DEBUG)  # Set logging level\n",
    "\n",
    "# Create logger object\n",
    "logger = logging.getLogger(\"my_module\")  ## if i don't give any module name, by default give 'root'\n",
    "\n",
    "# Test messages\n",
    "logger.debug(\"debug message\")\n",
    "logger.info(\"Just an information message\")\n",
    "logger.warning(\"It is a warning message\")\n",
    "logger.error(\"Did you try to divide by zero?\")\n",
    "logger.critical(\"Internet is down\")"
   ]
  },
  {
   "cell_type": "code",
   "execution_count": 1,
   "metadata": {},
   "outputs": [],
   "source": [
    "## example 2\n",
    "\n",
    "## before run this code first restart the kernal\n",
    "\n",
    "import logging\n",
    "\n",
    "logging.basicConfig(\n",
    "    filename=\"app.log\",\n",
    "    filemode='w',\n",
    "    format=\"%(asctime)s-%(name)s-%(levelname)s-%(message)s\",\n",
    "    datefmt='%Y-%m-%d %H-%M-%S / ',\n",
    "    level=logging.DEBUG\n",
    ")\n",
    "\n",
    "logging.debug(\"debug message\")\n",
    "logging.info(\"Just an information message\")\n",
    "logging.warning(\"It is a warning message\")\n",
    "logging.error(\"Did you try to divide by zero?\")\n",
    "logging.critical(\"Internet is down\")"
   ]
  },
  {
   "cell_type": "code",
   "execution_count": 2,
   "metadata": {},
   "outputs": [],
   "source": [
    "logging.debug(\"debug message\")\n",
    "logging.info(\"Just an information message\")\n",
    "logging.warning(\"It is a warning message\")\n",
    "logging.error(\"Did you try to divide by zero?\")\n",
    "logging.critical(\"Internet is down\")"
   ]
  }
 ],
 "metadata": {
  "kernelspec": {
   "display_name": "myenv",
   "language": "python",
   "name": "python3"
  },
  "language_info": {
   "codemirror_mode": {
    "name": "ipython",
    "version": 3
   },
   "file_extension": ".py",
   "mimetype": "text/x-python",
   "name": "python",
   "nbconvert_exporter": "python",
   "pygments_lexer": "ipython3",
   "version": "3.13.2"
  }
 },
 "nbformat": 4,
 "nbformat_minor": 2
}
