{
 "cells": [
  {
   "cell_type": "markdown",
   "metadata": {},
   "source": [
    "## Read a whole file"
   ]
  },
  {
   "cell_type": "code",
   "execution_count": 33,
   "metadata": {},
   "outputs": [
    {
     "name": "stdout",
     "output_type": "stream",
     "text": [
      "her bhai aap kaha ja rhe ho\n",
      "mai bazar ja rha hu\n",
      "first line\n",
      "second line\n",
      "third lineI am goint to show seek function uses\n",
      "this is seek funtion demostration \n",
      "\n"
     ]
    }
   ],
   "source": [
    "with open('example.txt', 'r') as file:\n",
    "    content = file.read()\n",
    "    print(content)\n"
   ]
  },
  {
   "cell_type": "code",
   "execution_count": 34,
   "metadata": {},
   "outputs": [
    {
     "name": "stdout",
     "output_type": "stream",
     "text": [
      "her b\n"
     ]
    }
   ],
   "source": [
    "## read only 5 bit\n",
    "\n",
    "with open('example.txt', 'r') as file:\n",
    "    content = file.read(5)\n",
    "    print(content)"
   ]
  },
  {
   "cell_type": "code",
   "execution_count": 35,
   "metadata": {},
   "outputs": [
    {
     "name": "stdout",
     "output_type": "stream",
     "text": [
      "her bhai aap kaha ja rhe ho\n",
      "mai bazar ja rha hu\n",
      "first line\n",
      "second line\n",
      "third lineI am goint to show seek function uses\n",
      "this is seek funtion demostration\n"
     ]
    }
   ],
   "source": [
    "## read file line by line\n",
    "\n",
    "with open('example.txt', 'r' ) as f:\n",
    "    for line in f:\n",
    "        print(line.strip())  ## strip the special symbol which gives new line"
   ]
  },
  {
   "cell_type": "code",
   "execution_count": 36,
   "metadata": {},
   "outputs": [
    {
     "name": "stdout",
     "output_type": "stream",
     "text": [
      "her bhai aap kaha ja rhe ho\n",
      "\n",
      "mai bazar ja rha hu\n",
      "\n"
     ]
    }
   ],
   "source": [
    "## read through line only\n",
    "\n",
    "with open('example.txt', 'r') as file:\n",
    "    line1 = file.readline()\n",
    "    line2 = file.readline()\n",
    "    print(line1)\n",
    "    print(line2)"
   ]
  },
  {
   "cell_type": "code",
   "execution_count": 37,
   "metadata": {},
   "outputs": [
    {
     "name": "stdout",
     "output_type": "stream",
     "text": [
      "['her bhai aap kaha ja rhe ho\\n', 'mai bazar ja rha hu\\n', 'first line\\n', 'second line\\n', 'third lineI am goint to show seek function uses\\n', 'this is seek funtion demostration \\n']\n"
     ]
    }
   ],
   "source": [
    "## read all the lines at once\n",
    "\n",
    "with open('example.txt', 'r') as file:\n",
    "    all_lines = file.readlines()\n",
    "    print(all_lines)"
   ]
  },
  {
   "cell_type": "markdown",
   "metadata": {},
   "source": [
    "## Writing a file(Overwriting)"
   ]
  },
  {
   "cell_type": "code",
   "execution_count": 38,
   "metadata": {},
   "outputs": [],
   "source": [
    "message = 'her bhai aap kaha ja rhe ho\\n'\n",
    "\n",
    "with open('example.txt', 'w') as file:\n",
    "    file.write(message)"
   ]
  },
  {
   "cell_type": "code",
   "execution_count": 39,
   "metadata": {},
   "outputs": [
    {
     "name": "stdout",
     "output_type": "stream",
     "text": [
      "her bhai aap kaha ja rhe ho\n",
      "\n"
     ]
    }
   ],
   "source": [
    "## after writing read file\n",
    "\n",
    "with open('example.txt', 'r') as file:\n",
    "    content = file.read()\n",
    "    print(content)"
   ]
  },
  {
   "cell_type": "markdown",
   "metadata": {},
   "source": [
    "## Write a file (without overwriting) -> append('a')"
   ]
  },
  {
   "cell_type": "code",
   "execution_count": 40,
   "metadata": {},
   "outputs": [],
   "source": [
    "message1 = 'mai bazar ja rha hu\\n'\n",
    "\n",
    "with open('example.txt', 'a') as file:\n",
    "    file.write(message1)"
   ]
  },
  {
   "cell_type": "code",
   "execution_count": 41,
   "metadata": {},
   "outputs": [
    {
     "name": "stdout",
     "output_type": "stream",
     "text": [
      "her bhai aap kaha ja rhe ho\n",
      "mai bazar ja rha hu\n",
      "\n"
     ]
    }
   ],
   "source": [
    "## after writing read file\n",
    "\n",
    "with open('example.txt', 'r') as file:\n",
    "    content = file.read()\n",
    "    print(content)"
   ]
  },
  {
   "cell_type": "code",
   "execution_count": 42,
   "metadata": {},
   "outputs": [],
   "source": [
    "## Writhing a list of lines to a file\n",
    "\n",
    "list_of_lines = ['first line\\n', 'second line\\n', 'third line\\n']\n",
    "\n",
    "with open('example.txt', 'a') as file:\n",
    "    file.writelines(list_of_lines)"
   ]
  },
  {
   "cell_type": "code",
   "execution_count": 43,
   "metadata": {},
   "outputs": [
    {
     "name": "stdout",
     "output_type": "stream",
     "text": [
      "her bhai aap kaha ja rhe ho\n",
      "mai bazar ja rha hu\n",
      "first line\n",
      "second line\n",
      "third line\n",
      "\n"
     ]
    }
   ],
   "source": [
    "## after writing read file\n",
    "\n",
    "with open('example.txt', 'r') as file:\n",
    "    content = file.read()\n",
    "    print(content)"
   ]
  },
  {
   "cell_type": "markdown",
   "metadata": {},
   "source": [
    "## Writing to a binary file"
   ]
  },
  {
   "cell_type": "code",
   "execution_count": 44,
   "metadata": {},
   "outputs": [],
   "source": [
    "binary_data = b'\\x00\\x01\\x02\\x03\\x04'\n",
    "\n",
    "with open('example1.bin', 'wb') as file:\n",
    "    file.write(binary_data)\n"
   ]
  },
  {
   "cell_type": "markdown",
   "metadata": {},
   "source": [
    "## Reading a binary data"
   ]
  },
  {
   "cell_type": "code",
   "execution_count": 45,
   "metadata": {},
   "outputs": [
    {
     "name": "stdout",
     "output_type": "stream",
     "text": [
      "b'\\x00\\x01\\x02\\x03\\x04'\n"
     ]
    }
   ],
   "source": [
    "with open('example1.bin', 'rb') as file:\n",
    "    content = file.read()\n",
    "    print(content)"
   ]
  },
  {
   "cell_type": "markdown",
   "metadata": {},
   "source": [
    "## copy from source file and paste to destination file"
   ]
  },
  {
   "cell_type": "code",
   "execution_count": 46,
   "metadata": {},
   "outputs": [],
   "source": [
    "with open('example.txt', 'r') as source_file:\n",
    "    content = source_file.read()\n",
    "\n",
    "with open('destination.txt', 'w') as destination_file:\n",
    "    destination_file.write(content)"
   ]
  },
  {
   "cell_type": "code",
   "execution_count": 47,
   "metadata": {},
   "outputs": [
    {
     "name": "stdout",
     "output_type": "stream",
     "text": [
      "total lines in file 'destination.txt' = 5\n",
      "total worlds in file 'destination.txt' = 18\n",
      "total characters in file 'destination.txt' = 64\n"
     ]
    }
   ],
   "source": [
    "### read a text and count the number of lines, words and characters \n",
    "\n",
    "def count_text_file(file_path):\n",
    "    with open(file_path, 'r') as file:\n",
    "        lines = file.readlines()\n",
    "        line_count = len(lines)\n",
    "        word_count = 0               ## word_count = sum(len(line.split()) for line in lines)\n",
    "        character_count = 0\n",
    "\n",
    "        for line in lines:\n",
    "            word_count += len(line.split())\n",
    "            \n",
    "            for word in line.split():\n",
    "                character_count += len(list(word))\n",
    "    \n",
    "    return line_count, word_count, character_count\n",
    "\n",
    "my_file_path = 'destination.txt'\n",
    "line_count, word_count, character_count = count_text_file(my_file_path)\n",
    "\n",
    "print(f\"total lines in file '{my_file_path}' = {line_count}\")\n",
    "print(f\"total worlds in file '{my_file_path}' = {word_count}\")\n",
    "print(f\"total characters in file '{my_file_path}' = {character_count}\")\n",
    "\n"
   ]
  },
  {
   "cell_type": "code",
   "execution_count": 48,
   "metadata": {},
   "outputs": [
    {
     "name": "stdout",
     "output_type": "stream",
     "text": [
      "total lines in file 'destination.txt' = 5\n",
      "total worlds in file 'destination.txt' = 18\n",
      "total characters in file 'destination.txt' = 82\n"
     ]
    }
   ],
   "source": [
    "## method 2\n",
    "\n",
    "def count_text_file(file_path):\n",
    "    with open(file_path, 'r') as file:\n",
    "        lines = file.readlines()\n",
    "        line_count = len(lines)\n",
    "        word_count = sum(len(line.split()) for line in lines)\n",
    "        character_count = sum(len(line) for line in lines)     ## does't work: method-1 is correct|\n",
    "    return line_count, word_count, character_count\n",
    "\n",
    "\n",
    "my_file_path = 'destination.txt'\n",
    "line_count, word_count, character_count = count_text_file(my_file_path)\n",
    "\n",
    "print(f\"total lines in file '{my_file_path}' = {line_count}\")\n",
    "print(f\"total worlds in file '{my_file_path}' = {word_count}\")\n",
    "print(f\"total characters in file '{my_file_path}' = {character_count}\")"
   ]
  },
  {
   "cell_type": "markdown",
   "metadata": {},
   "source": [
    "## seek(no. of lines) : after writing take pointer at first lines"
   ]
  },
  {
   "cell_type": "code",
   "execution_count": 49,
   "metadata": {},
   "outputs": [
    {
     "name": "stdout",
     "output_type": "stream",
     "text": [
      "her bhai aap kaha ja rhe ho\n",
      "mai bazar ja rha hu\n",
      "first line\n",
      "second line\n",
      "third line\n",
      "I am goint to show seek function uses\n",
      "this is seek funtion demostration \n",
      "\n"
     ]
    }
   ],
   "source": [
    "with open(\"example.txt\", \"a+\") as file:\n",
    "    file.write(\"I am goint to show seek function uses\\n\")\n",
    "    file.write(\"this is seek funtion demostration \\n\")\n",
    "\n",
    "    # after write move curser to the begning\n",
    "    file.seek(0)\n",
    "\n",
    "    # read content of file\n",
    "\n",
    "    content = file.read()\n",
    "    print(content)"
   ]
  },
  {
   "cell_type": "code",
   "execution_count": null,
   "metadata": {},
   "outputs": [],
   "source": []
  }
 ],
 "metadata": {
  "kernelspec": {
   "display_name": "myenv",
   "language": "python",
   "name": "python3"
  },
  "language_info": {
   "codemirror_mode": {
    "name": "ipython",
    "version": 3
   },
   "file_extension": ".py",
   "mimetype": "text/x-python",
   "name": "python",
   "nbconvert_exporter": "python",
   "pygments_lexer": "ipython3",
   "version": "3.13.2"
  }
 },
 "nbformat": 4,
 "nbformat_minor": 2
}
