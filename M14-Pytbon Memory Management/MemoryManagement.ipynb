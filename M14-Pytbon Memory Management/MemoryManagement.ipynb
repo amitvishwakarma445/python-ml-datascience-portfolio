{
 "cells": [
  {
   "cell_type": "markdown",
   "metadata": {},
   "source": [
    "## Python Memory MAnagement\n",
    "\n",
    "It involves a combination of automatic garbage collenction, reference counting, and variious internal optimizations to efficient manage memory allocation and deallocation. Understanding these mechanism can help developers write more efficient and robust apploications.\n",
    "\n",
    "1. Key Concept in Python Memory Management\n",
    "2. Memory Alllocation and Deallocation\n",
    "3. reference counting\n",
    "4. Garbage dcollection\n",
    "5. The gc Module"
   ]
  },
  {
   "cell_type": "markdown",
   "metadata": {},
   "source": [
    "### Reference count —\n",
    "\n",
    "a **counter** of how many references point to that object. When an object’s reference count drops to zero, it means no one is using it anymore, and it can be safely deleted from memory."
   ]
  },
  {
   "cell_type": "code",
   "execution_count": 1,
   "metadata": {},
   "outputs": [
    {
     "name": "stdout",
     "output_type": "stream",
     "text": [
      "1\n",
      "2\n"
     ]
    }
   ],
   "source": [
    "import sys\n",
    "\n",
    "a=[]\n",
    "\n",
    "print(sys.getrefcount([]))  ## output: 1 (one because of getrefcount() function)\n",
    "\n",
    "print(sys.getrefcount(a))  ## output: 2 (one for variable a and second for getrefcount() function)"
   ]
  },
  {
   "cell_type": "code",
   "execution_count": 2,
   "metadata": {},
   "outputs": [
    {
     "name": "stdout",
     "output_type": "stream",
     "text": [
      "3\n"
     ]
    }
   ],
   "source": [
    "b=a\n",
    "\n",
    "print(sys.getrefcount(b)) ## output: 3"
   ]
  },
  {
   "cell_type": "code",
   "execution_count": 3,
   "metadata": {},
   "outputs": [],
   "source": [
    "## delete reference b : memory will dealoocated\n",
    "del b"
   ]
  },
  {
   "cell_type": "code",
   "execution_count": 4,
   "metadata": {},
   "outputs": [
    {
     "ename": "NameError",
     "evalue": "name 'b' is not defined",
     "output_type": "error",
     "traceback": [
      "\u001b[1;31m---------------------------------------------------------------------------\u001b[0m",
      "\u001b[1;31mNameError\u001b[0m                                 Traceback (most recent call last)",
      "Cell \u001b[1;32mIn[4], line 1\u001b[0m\n\u001b[1;32m----> 1\u001b[0m \u001b[38;5;28mprint\u001b[39m(sys\u001b[38;5;241m.\u001b[39mgetrefcount(\u001b[43mb\u001b[49m))  \u001b[38;5;66;03m## NameError: name 'b' is not defined\u001b[39;00m\n",
      "\u001b[1;31mNameError\u001b[0m: name 'b' is not defined"
     ]
    }
   ],
   "source": [
    "print(sys.getrefcount(b))  ## NameError: name 'b' is not defined"
   ]
  },
  {
   "cell_type": "code",
   "execution_count": 5,
   "metadata": {},
   "outputs": [
    {
     "name": "stdout",
     "output_type": "stream",
     "text": [
      "2\n"
     ]
    }
   ],
   "source": [
    "print(sys.getrefcount(a))"
   ]
  },
  {
   "cell_type": "markdown",
   "metadata": {},
   "source": [
    "## Garbage Collection (gc)\n",
    "python includes a cyclic garbage collector to habdle reference cycle.<br>\n",
    "Reference cycle occures when object referencne each other, preventing their reference counts from from reaching Zero."
   ]
  },
  {
   "cell_type": "code",
   "execution_count": 2,
   "metadata": {},
   "outputs": [],
   "source": [
    "import gc\n",
    "\n",
    "## enabling garbage collection\n",
    "gc.enable()"
   ]
  },
  {
   "cell_type": "code",
   "execution_count": 7,
   "metadata": {},
   "outputs": [],
   "source": [
    "## disable garbage collection\n",
    "gc.disable()"
   ]
  },
  {
   "cell_type": "markdown",
   "metadata": {},
   "source": [
    "## collect():\n",
    "\n",
    "collect() is used to manually trigger garbage collection in Python. It returns the number of unreachable objects that were found and successfully collected (i.e., cleaned up from memory).\n",
    "\n",
    "## 📌 What It Represents\n",
    "When you call gc.collect(), here’s what happens under the hood:\n",
    "\n",
    "1. Python scans all generations (0, 1, and 2).\n",
    "2. It tries to detect cycles of objects that are no longer reachable.\n",
    "3. It breaks those cycles and frees the memory.\n",
    "4. It returns the number of objects it was able to collect.\n",
    "\n",
    "#### Python GC ki 3 Generations kya hain?\n",
    "* generation 0\n",
    "* generation 1\n",
    "* generation 2\n",
    "\n",
    "\n",
    "#### Kaise Kaam Karta Hai?\n",
    "* Jab aap koi object create karte ho, vo generation 0 me jata hai.\n",
    "* Agar vo object generation 0 se bach jata hai (yaani GC ne usko nahi delete kiya), to vo generation 1 me chala jata hai.\n",
    "* Fir agar vo waha se bhi bacha raha, to vo generation 2 me chala jata hai."
   ]
  },
  {
   "cell_type": "code",
   "execution_count": 8,
   "metadata": {},
   "outputs": [
    {
     "name": "stdout",
     "output_type": "stream",
     "text": [
      "[]\n"
     ]
    }
   ],
   "source": [
    "## get unreachable objects list\n",
    "print(gc.garbage)"
   ]
  },
  {
   "cell_type": "code",
   "execution_count": 9,
   "metadata": {},
   "outputs": [
    {
     "name": "stdout",
     "output_type": "stream",
     "text": [
      "Collected 522 unreachable objects.\n"
     ]
    }
   ],
   "source": [
    "## garbage collector : The number of unreachable objects is returned.\n",
    "import gc\n",
    "\n",
    "unreachable = gc.collect()\n",
    "print(f\"Collected {unreachable} unreachable objects.\")"
   ]
  },
  {
   "cell_type": "code",
   "execution_count": 10,
   "metadata": {},
   "outputs": [
    {
     "name": "stdout",
     "output_type": "stream",
     "text": [
      "(102, 0, 0)\n"
     ]
    }
   ],
   "source": [
    "import gc\n",
    "## The number of unreachable objects is returned.\n",
    "\n",
    "print(gc.get_count())  ## Output: (gen0_count, gen1_count, gen2_count)\n",
    "# e.g., (450, 12, 2)"
   ]
  },
  {
   "cell_type": "code",
   "execution_count": 11,
   "metadata": {},
   "outputs": [
    {
     "name": "stdout",
     "output_type": "stream",
     "text": [
      "0\n",
      "0\n",
      "0\n"
     ]
    }
   ],
   "source": [
    "### specify a generation (0, 1, or 2):\n",
    "\n",
    "print(gc.collect(0))  # Only collect Gen 0\n",
    "print(gc.collect(1))  # Collect Gen 0 and Gen 1\n",
    "print(gc.collect(2))  # Collect all generations (default)"
   ]
  },
  {
   "cell_type": "markdown",
   "metadata": {},
   "source": [
    "## Memory Management Best Practices\n",
    "\n",
    "#### 1. Use Local Varible:\n",
    "* local varibles have a shorter lifespan and are freed sooner than global varibles.\n",
    "#### 2. Avoid Circular Referances:\n",
    "* Circular references can lead memory leak if not properly managed.\n",
    "#### 3. Explicitly Delete Objects:\n",
    "* Use the *del* keyword to delete variables and objectes explicitly.\n",
    "#### 4. Use Generator:\n",
    "* Generator produce items one at a time and only keep one item in memory at a time, making them memory effcient.\n",
    "#### 4. Profile Memory Usages:\n",
    "* Use memory Profiling tools like tracemalloc and memory_profiler to identify memory leaks and optimize memory usage."
   ]
  },
  {
   "cell_type": "code",
   "execution_count": 94,
   "metadata": {},
   "outputs": [
    {
     "name": "stdout",
     "output_type": "stream",
     "text": [
      " obj obj1 is created\n",
      " obj obj2 is created\n",
      " object obj1 is deleted\n",
      " object obj2 is deleted\n"
     ]
    },
    {
     "data": {
      "text/plain": [
       "9"
      ]
     },
     "execution_count": 94,
     "metadata": {},
     "output_type": "execute_result"
    }
   ],
   "source": [
    "## Handling circular reference\n",
    "\n",
    "class MyClass:\n",
    "    def __init__(self, name):\n",
    "        self.name =  name\n",
    "        print(f\" obj {self.name} is created\")\n",
    "    \n",
    "    def __del__(self):\n",
    "        print(f\" object {self.name} is deleted\")\n",
    "\n",
    "\n",
    "\n",
    "obj1 = MyClass(\"obj1\")\n",
    "obj2 = MyClass(\"obj2\")\n",
    "\n",
    "## create circular references\n",
    "obj1.ref = obj2\n",
    "obj2.ref = obj1\n",
    "## Now, obj1 holds a reference to obj2, and obj2 holds a reference to obj1. \n",
    "## So even if you delete obj1 and obj2 (like below), these objects still reference each other,\n",
    "## meaning their reference count doesn’t drop to zero.\n",
    "\n",
    "del obj1\n",
    "del obj2\n",
    "## This removes the names obj1 and obj2 from the current scope.\n",
    "## However, the objects are not immediately destroyed because they are still referring to each other via .ref.\n",
    "## So, their __del__ methods are not called at this point.\n",
    "\n",
    "gc.collect()\n",
    "## This manually triggers Python's garbage collector, which is smart enough to detect circular references.\n",
    "## It sees that the objects can’t be accessed anymore (no external references),\n",
    "## so it cleans them up and calls their destructors (__del__)."
   ]
  },
  {
   "cell_type": "code",
   "execution_count": 116,
   "metadata": {},
   "outputs": [
    {
     "name": "stdout",
     "output_type": "stream",
     "text": [
      "0 1 2 3 4 5 6 7 8 9 "
     ]
    }
   ],
   "source": [
    "## Generators For Memory Efficiency\n",
    "\n",
    "def generate_number(n):\n",
    "    for i in range(n):\n",
    "        yield i\n",
    "    \n",
    "\n",
    "## Using the generator\n",
    "for num in generate_number(10):\n",
    "    print(num, end=\" \")"
   ]
  }
 ],
 "metadata": {
  "kernelspec": {
   "display_name": "myenv",
   "language": "python",
   "name": "python3"
  },
  "language_info": {
   "codemirror_mode": {
    "name": "ipython",
    "version": 3
   },
   "file_extension": ".py",
   "mimetype": "text/x-python",
   "name": "python",
   "nbconvert_exporter": "python",
   "pygments_lexer": "ipython3",
   "version": "3.13.2"
  }
 },
 "nbformat": 4,
 "nbformat_minor": 2
}
