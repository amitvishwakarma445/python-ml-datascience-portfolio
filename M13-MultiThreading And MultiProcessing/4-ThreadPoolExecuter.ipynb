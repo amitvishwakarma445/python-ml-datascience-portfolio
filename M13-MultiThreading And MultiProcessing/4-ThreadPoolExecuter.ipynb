{
 "cells": [
  {
   "cell_type": "markdown",
   "metadata": {},
   "source": [
    "## ThreadPoolExecutor\n",
    "* ThreadPoolExecutor एक थ्रेड मैनेजमेंट टूल है जो मल्टीथ्रेडिंग (Multithreading) को कुशलतापूर्वक नियंत्रित करने के लिए उपयोग किया जाता है।<br>यह एक थ्रेड पूल (Thread Pool) बनाता है और उसमें कार्य (Tasks) को assign करता है,<br>जिससे बार-बार नए Thread बनाने की जरूरत नहीं होती और सिस्टम की performance भी बेहतर होती है।"
   ]
  },
  {
   "cell_type": "markdown",
   "metadata": {},
   "source": [
    "##### Python में ThreadPoolExecutor, concurrent.futures मॉड्यूल में present है।"
   ]
  }
 ],
 "metadata": {
  "language_info": {
   "name": "python"
  }
 },
 "nbformat": 4,
 "nbformat_minor": 2
}
