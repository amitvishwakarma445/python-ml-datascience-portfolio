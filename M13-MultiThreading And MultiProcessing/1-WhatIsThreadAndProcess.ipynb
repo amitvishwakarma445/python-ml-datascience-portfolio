{
 "cells": [
  {
   "cell_type": "markdown",
   "metadata": {},
   "source": [
    "## 1. Process (प्रक्रिया) क्या होता है?\n",
    "Process एक executing program (चल रहा प्रोग्राम) होता है। जब आप कोई प्रोग्राम चलाते हैं, तो उसका एक Process बनता है।\n",
    "\n",
    "#### Example:\n",
    "मान लीजिए, आप एक Text Editor (जैसे MS Word) खोलते हैं। यह एक Process बन जाता है और इसका एक अलग Memory Space होता है।\n",
    "\n",
    "## 2. Thread (धागा) क्या होता है?\n",
    "Thread एक Process के अंदर चलने वाला छोटा Execution Unit होता है। एक Process के अंदर एक से ज्यादा Threads हो सकते हैं, और ये एक ही Memory Space को Share करते हैं।\n",
    "\n",
    "#### Example:\n",
    "मान लीजिए, आप एक Web Browser चला रहे हैं। इसमें कई Threads हो सकते हैं:\n",
    "\n",
    "1. एक Thread Web Page को Load कर रहा है।\n",
    "2. दूसरा Thread User Input को Handle कर रहा है।\n",
    "3. तीसरा Thread Background में Data Download कर रहा है।"
   ]
  },
  {
   "cell_type": "markdown",
   "metadata": {},
   "source": []
  }
 ],
 "metadata": {
  "language_info": {
   "name": "python"
  }
 },
 "nbformat": 4,
 "nbformat_minor": 2
}
