{
 "cells": [
  {
   "cell_type": "markdown",
   "metadata": {},
   "source": [
    "## Multi Threads"
   ]
  },
  {
   "cell_type": "code",
   "execution_count": null,
   "metadata": {},
   "outputs": [
    {
     "name": "stdout",
     "output_type": "stream",
     "text": [
      "number = 0\n",
      "number = 1\n",
      "number = 2\n",
      "number = 3\n",
      "number = 4\n",
      "letter = a\n",
      "letter = b\n",
      "letter = c\n",
      "letter = d\n",
      "letter = e\n",
      "total time to execute = 0.0003390312194824219\n"
     ]
    }
   ],
   "source": [
    "## let a example be taken\n",
    "\n",
    "import time\n",
    "\n",
    "def print_number():\n",
    "    for i in range(5):\n",
    "        print(f\"number = {i}\")\n",
    "\n",
    "def print_letter():\n",
    "    for letter in \"abcde\":\n",
    "        print(f\"letter = {letter}\")\n",
    "\n",
    "## calculate the total time to execute\n",
    "t = time.time()\n",
    "\n",
    "## calling the function\n",
    "print_number()\n",
    "print_letter()\n",
    "\n",
    "finished_time = time.time()-t\n",
    "print(f\"total time to execute = {finished_time}\")"
   ]
  },
  {
   "cell_type": "code",
   "execution_count": 4,
   "metadata": {},
   "outputs": [
    {
     "name": "stdout",
     "output_type": "stream",
     "text": [
      "number = 0\n",
      "number = 1\n",
      "number = 2\n",
      "number = 3\n",
      "number = 4\n",
      "letter = a\n",
      "letter = b\n",
      "letter = c\n",
      "letter = d\n",
      "letter = e\n",
      "total time to execute = 10.014036178588867\n"
     ]
    }
   ],
   "source": [
    "## now uExample 2\n",
    "\n",
    "import time\n",
    "\n",
    "def print_number():\n",
    "    for i in range(5):\n",
    "        time.sleep(1)\n",
    "        print(f\"number = {i}\")\n",
    "\n",
    "def print_letter():\n",
    "    for letter in \"abcde\":\n",
    "        time.sleep(1)\n",
    "        print(f\"letter = {letter}\")\n",
    "\n",
    "## calculate the total time to execute\n",
    "t = time.time()\n",
    "\n",
    "## calling the function\n",
    "print_number()\n",
    "print_letter()\n",
    "\n",
    "finished_time = time.time()-t\n",
    "print(f\"total time to execute = {finished_time}\")"
   ]
  },
  {
   "cell_type": "code",
   "execution_count": 1,
   "metadata": {},
   "outputs": [
    {
     "name": "stdout",
     "output_type": "stream",
     "text": [
      "number = 0letter = a\n",
      "\n",
      "letter = b\n",
      "number = 1\n",
      "number = 2letter = c\n",
      "\n",
      "number = 3\n",
      "letter = d\n",
      "letter = enumber = 4\n",
      "\n",
      "total time to execute = 5.038560628890991\n"
     ]
    }
   ],
   "source": [
    "## now uExample 3\n",
    "\n",
    "import threading\n",
    "import time\n",
    "\n",
    "def print_number():\n",
    "    for i in range(5):\n",
    "        time.sleep(1)\n",
    "        print(f\"number = {i}\")\n",
    "\n",
    "def print_letter():\n",
    "    for letter in \"abcde\":\n",
    "        time.sleep(1)\n",
    "        print(f\"letter = {letter}\")\n",
    "\n",
    "## calculate the total time to execute\n",
    "t = time.time()\n",
    "\n",
    "## create threads\n",
    "thread1 = threading.Thread(target=print_number)\n",
    "thread2 = threading.Thread(target=print_letter)\n",
    "\n",
    "##start threads\n",
    "thread1.start()\n",
    "thread2.start()\n",
    "\n",
    "## wait for the threads to complete\n",
    "thread1.join()\n",
    "thread2.join()\n",
    "\n",
    "finished_time = time.time()-t\n",
    "print(f\"total time to execute = {finished_time}\")"
   ]
  },
  {
   "cell_type": "code",
   "execution_count": null,
   "metadata": {},
   "outputs": [],
   "source": []
  }
 ],
 "metadata": {
  "kernelspec": {
   "display_name": "myenv",
   "language": "python",
   "name": "python3"
  },
  "language_info": {
   "codemirror_mode": {
    "name": "ipython",
    "version": 3
   },
   "file_extension": ".py",
   "mimetype": "text/x-python",
   "name": "python",
   "nbconvert_exporter": "python",
   "pygments_lexer": "ipython3",
   "version": "3.13.2"
  }
 },
 "nbformat": 4,
 "nbformat_minor": 2
}
