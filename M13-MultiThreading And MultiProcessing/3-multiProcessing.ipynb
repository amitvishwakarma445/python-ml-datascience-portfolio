{
 "cells": [
  {
   "cell_type": "markdown",
   "metadata": {},
   "source": [
    "### process that runs on parallel\n",
    "### When to use this:\n",
    "#### 1. CPU Bound task:\n",
    "* Tasks that are heavy on cpu usages<br>(eg. Mathematical Computations, data processing)\n",
    "#### Parallel execution:\n",
    "* multiple cores of the CPU"
   ]
  },
  {
   "cell_type": "markdown",
   "metadata": {},
   "source": []
  }
 ],
 "metadata": {
  "kernelspec": {
   "display_name": "myenv",
   "language": "python",
   "name": "python3"
  },
  "language_info": {
   "name": "python",
   "version": "3.13.2"
  }
 },
 "nbformat": 4,
 "nbformat_minor": 2
}
