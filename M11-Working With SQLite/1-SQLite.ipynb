{
 "cells": [
  {
   "cell_type": "markdown",
   "metadata": {},
   "source": [
    "# SQL & SQLite\n",
    "\n",
    "* SQL (structured Query Language) is a standard Language for  managing and manipulating relational databases.\n",
    "* SQLite is a self-contained , severless, and zero-configuration database engine that is widely used for embeded database system.\n",
    "\n",
    "\n",
    "### Features\n",
    "1. Serverless\n",
    "2. Self-Contained\n",
    "3. Zero-Configuration\n",
    "4. Transactional\n",
    "5. Single-Database"
   ]
  },
  {
   "cell_type": "markdown",
   "metadata": {},
   "source": [
    "## Approach to create module\n",
    "* import the required Module\n",
    "  1. Establish the connection or Create the connection object with the database using the ***connect()*** function of the sqlite3 module\n",
    "  2.  Create a cursor object by calling the cursor method of the connction object.\n",
    "  3.  From table using the CREATE TABLE statement with the ***execute()*** method of the cursor class.\n",
    "  "
   ]
  },
  {
   "cell_type": "code",
   "execution_count": 49,
   "metadata": {},
   "outputs": [],
   "source": [
    "## import SQLite\n",
    "\n",
    "import sqlite3"
   ]
  },
  {
   "cell_type": "markdown",
   "metadata": {},
   "source": [
    "# 1. example.db"
   ]
  },
  {
   "cell_type": "code",
   "execution_count": 50,
   "metadata": {},
   "outputs": [],
   "source": [
    "## create connection object to the database\n",
    "\n",
    "connection_obj = sqlite3.connect(\"example.db\")"
   ]
  },
  {
   "cell_type": "code",
   "execution_count": 51,
   "metadata": {},
   "outputs": [
    {
     "data": {
      "text/plain": [
       "<sqlite3.Connection at 0x221daffa980>"
      ]
     },
     "execution_count": 51,
     "metadata": {},
     "output_type": "execute_result"
    }
   ],
   "source": [
    "connection_obj"
   ]
  },
  {
   "cell_type": "markdown",
   "metadata": {},
   "source": [
    "if you want to execute some queries after the connection is being made.<br>For that, a cursor has to be created using the cursor() method on the connection instance"
   ]
  },
  {
   "cell_type": "code",
   "execution_count": 52,
   "metadata": {},
   "outputs": [],
   "source": [
    "ccursor_obj = connection_obj.cursor()"
   ]
  },
  {
   "cell_type": "code",
   "execution_count": 53,
   "metadata": {},
   "outputs": [
    {
     "data": {
      "text/plain": [
       "<sqlite3.Cursor at 0x221daeb5740>"
      ]
     },
     "execution_count": 53,
     "metadata": {},
     "output_type": "execute_result"
    }
   ],
   "source": [
    "## drop the example database if already exist\n",
    "\n",
    "ccursor_obj.execute(\"DROP TABLE IF EXISTS Employees\")"
   ]
  },
  {
   "cell_type": "markdown",
   "metadata": {},
   "source": [
    "The SQL query to be executed can be written in form of a string, and <br>then executed by calling the execute() method on the cursor object."
   ]
  },
  {
   "cell_type": "code",
   "execution_count": 54,
   "metadata": {},
   "outputs": [
    {
     "name": "stdout",
     "output_type": "stream",
     "text": [
      "Employees table is created\n"
     ]
    }
   ],
   "source": [
    "## Query for creating Table\n",
    "\n",
    "table = \"\"\"\n",
    "CREATE TABLE Employees(\n",
    "name VARCHAR(25) NOT NULL,\n",
    "email VARCHAR(30) NOT NULL,\n",
    "score INT\n",
    ");\n",
    "\"\"\"\n",
    "\n",
    "ccursor_obj.execute(table)\n",
    "\n",
    "print(\"Employees table is created\")"
   ]
  },
  {
   "cell_type": "code",
   "execution_count": 55,
   "metadata": {},
   "outputs": [
    {
     "name": "stdout",
     "output_type": "stream",
     "text": [
      "connection is closed\n"
     ]
    }
   ],
   "source": [
    "## close the connection\n",
    "connection_obj.close()\n",
    "\n",
    "print(\"connection is closed\")"
   ]
  },
  {
   "cell_type": "markdown",
   "metadata": {},
   "source": [
    "## Insert Data\n",
    "\n",
    "1. ***Only Value*** :<pre>\n",
    "*INSERT INTO* table_name *VALUES** (val_1, val_2,..., val_N) </pre>\n",
    "1. ***Column Names and value Both*** : <pre>\n",
    "                                        *INSERT INTO* table_name(val_1, val_2,..., val_N)\n",
    "                                        *VALUES* (col_1, col_2, ... col_N) </pre>\n"
   ]
  },
  {
   "cell_type": "markdown",
   "metadata": {},
   "source": [
    "# 2. Student_table.db"
   ]
  },
  {
   "cell_type": "code",
   "execution_count": 56,
   "metadata": {},
   "outputs": [
    {
     "name": "stdout",
     "output_type": "stream",
     "text": [
      "Data Inserted in the table: \n",
      "('Ram', 'CSE', 98)\n",
      "('Shyam', 'ME', 89)\n",
      "('Geeta', 'EE', 92)\n"
     ]
    }
   ],
   "source": [
    "## SQLite table using only values\n",
    "\n",
    "## Connecting to sqlite\n",
    "connect_obj = sqlite3.connect(\"Student_table.db\")\n",
    "\n",
    "## Creating a cursor object \n",
    "cur_obj = connect_obj.cursor()\n",
    "\n",
    "## creating table\n",
    "\n",
    "cur_obj.execute(\"\"\"\n",
    "Create Table If Not Exists Students(\n",
    "                name Varchar(25) Not Null, \n",
    "                branch Varchar(20) Not Null,\n",
    "                marks Int      \n",
    "                );\n",
    "\"\"\")\n",
    "\n",
    "cur_obj.execute(\"Delete From Students\")\n",
    "\n",
    "## Queries to INSERT records.\n",
    "cur_obj.execute(\"\"\"\n",
    "                Insert Into Students\n",
    "                Values(\"Ram\", \"CSE\", 98)\n",
    "                \"\"\")\n",
    "cur_obj.execute(\"\"\"\n",
    "                Insert Into Students\n",
    "                Values(\"Shyam\", \"ME\", 89)\n",
    "                \"\"\") \n",
    "cur_obj.execute(\"\"\"\n",
    "                Insert Into Students\n",
    "                Values(\"Geeta\", \"EE\", 92)\n",
    "                \"\"\") \n",
    "\n",
    "# Display data inserted \n",
    "print(\"Data Inserted in the table: \")\n",
    "\n",
    "rows = cur_obj.execute(\"Select * From Students\")\n",
    "\n",
    "for row in rows:\n",
    "    print(row)\n",
    "\n",
    "# Commit your changes in the database     \n",
    "connect_obj.commit()\n",
    "\n",
    "connect_obj.close()\n",
    "\n",
    "\n"
   ]
  },
  {
   "cell_type": "markdown",
   "metadata": {},
   "source": [
    "# 3. Employee_table.db"
   ]
  },
  {
   "cell_type": "code",
   "execution_count": 57,
   "metadata": {},
   "outputs": [
    {
     "name": "stdout",
     "output_type": "stream",
     "text": [
      "Employee_table is:\n",
      "(101, 'Rahul', 'Sahani', 'CSE')\n",
      "(102, 'Sonam', 'Khair', 'ME')\n"
     ]
    }
   ],
   "source": [
    "import sqlite3\n",
    "\n",
    "# Establish a connection object to connect SQLite\n",
    "connection = sqlite3.connect(\"Employee_table.db\")\n",
    "\n",
    "cursor = connection.cursor()\n",
    "\n",
    "# Create a table\n",
    "table = \"\"\"\n",
    "Create Table If Not Exists Employee_table(\n",
    "id INTEGER PRIMARY KEY NOT NULL,\n",
    "f_name VARCHAR(15) NOT NULL,\n",
    "l_name VARCHAR(15) NOT NULL,\n",
    "dept_name TEXT\n",
    ");\n",
    "\"\"\"\n",
    "cursor.execute(table)\n",
    "\n",
    "# Truncate table (delete all rows)\n",
    "cursor.execute(\"DELETE FROM Employee_table;\")\n",
    "\n",
    "# Insert data\n",
    "cursor.execute('''\n",
    "Insert Into Employee_table(id, f_name, l_name, dept_name)\n",
    "               Values(101, 'Rahul', 'Sahani', 'CSE')\n",
    "''')\n",
    "cursor.execute('''\n",
    "Insert Into Employee_table(id, f_name, l_name, dept_name)\n",
    "               Values(102, 'Sonam', 'Khair', 'ME')\n",
    "''')\n",
    "\n",
    "# Display data inserted\n",
    "print(\"Employee_table is:\")\n",
    "\n",
    "rows = cursor.execute(\"SELECT * FROM Employee_table\")\n",
    "\n",
    "for row in rows:\n",
    "    print(row)\n",
    "\n",
    "connection.commit()\n",
    "connection.close()"
   ]
  },
  {
   "cell_type": "markdown",
   "metadata": {},
   "source": [
    "# 4. my_table.db"
   ]
  },
  {
   "cell_type": "code",
   "execution_count": 58,
   "metadata": {},
   "outputs": [
    {
     "name": "stdout",
     "output_type": "stream",
     "text": [
      "My_Table is created and value is inserted at :\n"
     ]
    }
   ],
   "source": [
    "## EXAMPLE 1  Create My_Table and insert value\n",
    "\n",
    "import sqlite3 \n",
    "  \n",
    "# Connecting to sqlite \n",
    "# connection object \n",
    "connection_obj = sqlite3.connect('My_Table.db') \n",
    "  \n",
    "# cursor object \n",
    "cursor_obj = connection_obj.cursor() \n",
    "  \n",
    "connection_obj.execute(\"\"\"CREATE TABLE My_Table( \n",
    "  Email varchar(255), \n",
    "  Name varchar(50), \n",
    "  Score int \n",
    "  );\n",
    "                       \"\"\") \n",
    "  \n",
    "connection_obj.execute(\"Delete From My_Table\")\n",
    "\n",
    "connection_obj.execute( \n",
    "    \"\"\"INSERT INTO My_Table (Email,Name,Score) VALUES (\"My_Table1@gmail.com\",\"My_Table1\",25)\"\"\") \n",
    "connection_obj.execute( \n",
    "    \"\"\"INSERT INTO My_Table (Email,Name,Score) VALUES (\"My_Table2@gmail.com\",\"My_Tablek2\",15)\"\"\") \n",
    "connection_obj.execute( \n",
    "    \"\"\"INSERT INTO My_Table (Email,Name,Score) VALUES (\"My_Table3@gmail.com\",\"My_Table3\",36)\"\"\") \n",
    "connection_obj.execute( \n",
    "    \"\"\"INSERT INTO My_Table (Email,Name,Score) VALUES (\"My_Table4@gmail.com\",\"My_Table4\",27)\"\"\") \n",
    "connection_obj.execute( \n",
    "    \"\"\"INSERT INTO My_Table (Email,Name,Score) VALUES (\"My_Table5@gmail.com\",\"My_Table5\",40)\"\"\") \n",
    "connection_obj.execute( \n",
    "    \"\"\"INSERT INTO My_Table (Email,Name,Score) VALUES (\"My_Table6@gmail.com\",\"My_Table6\",36)\"\"\") \n",
    "  \n",
    "connection_obj.commit()\n",
    "\n",
    "print(\"My_Table is created and value is inserted at :\")\n",
    "  \n",
    "# Close the connection \n",
    "connection_obj.close()"
   ]
  },
  {
   "cell_type": "markdown",
   "metadata": {},
   "source": [
    "### fetchall() :- require a cursor object."
   ]
  },
  {
   "cell_type": "code",
   "execution_count": 59,
   "metadata": {},
   "outputs": [
    {
     "name": "stdout",
     "output_type": "stream",
     "text": [
      "All the data of My_Table is :\n",
      "('My_Table1@gmail.com', 'My_Table1', 25)\n",
      "('My_Table2@gmail.com', 'My_Tablek2', 15)\n",
      "('My_Table3@gmail.com', 'My_Table3', 36)\n",
      "('My_Table4@gmail.com', 'My_Table4', 27)\n",
      "('My_Table5@gmail.com', 'My_Table5', 40)\n",
      "('My_Table6@gmail.com', 'My_Table6', 36)\n"
     ]
    }
   ],
   "source": [
    "### Fetch all the values from My_Table\n",
    "\n",
    "\n",
    "# Connecting to sqlite \n",
    "# connection object \n",
    "connection_obj = sqlite3.connect('My_Table.db') \n",
    "  \n",
    "# cursor object \n",
    "cursor_obj = connection_obj.cursor() \n",
    "  \n",
    "# to select all column we will use \n",
    "statement = '''SELECT * FROM My_Table'''\n",
    "  \n",
    "cursor_obj.execute(statement) \n",
    "  \n",
    "print(\"All the data of My_Table is :\") \n",
    "rows = cursor_obj.fetchall() \n",
    "for row in rows: \n",
    "  print(row) \n",
    "  \n",
    "connection_obj.commit() \n",
    "  \n",
    "# Close the connection \n",
    "connection_obj.close()"
   ]
  },
  {
   "cell_type": "code",
   "execution_count": 60,
   "metadata": {},
   "outputs": [
    {
     "data": {
      "text/plain": [
       "<sqlite3.Cursor at 0x221daeb5ec0>"
      ]
     },
     "execution_count": 60,
     "metadata": {},
     "output_type": "execute_result"
    }
   ],
   "source": [
    "## Drop table\n",
    "\n",
    "conn = sqlite3.connect(\"My_Table.db\")\n",
    "\n",
    "conn.execute(\"Drop Table My_Table\")"
   ]
  },
  {
   "cell_type": "markdown",
   "metadata": {},
   "source": []
  },
  {
   "cell_type": "markdown",
   "metadata": {},
   "source": [
    "# 5. database.db"
   ]
  },
  {
   "cell_type": "code",
   "execution_count": 61,
   "metadata": {},
   "outputs": [
    {
     "name": "stdout",
     "output_type": "stream",
     "text": [
      "('My_database1@gmail.com', 'My_database1', 25)\n",
      "('My_database@gmail.com', 'My_database2', 15)\n",
      "('My_database3@gmail.com', 'My_database3', 36)\n",
      "('My_database4@gmail.com', 'My_database4', 27)\n",
      "('My_database5@gmail.com', 'My_database5', 40)\n",
      "('My_database@gmail.com', 'My_database6', 36)\n",
      "My_database is created and values are inserted.\n"
     ]
    }
   ],
   "source": [
    "## Other Example 2\n",
    "\n",
    "import sqlite3 \n",
    "\n",
    "# Connecting to SQLite \n",
    "connection_obj = sqlite3.connect('Database.db') \n",
    "\n",
    "# Creating a cursor object \n",
    "cursor_obj = connection_obj.cursor() \n",
    "\n",
    "# Creating table\n",
    "cursor_obj.execute(\"\"\"CREATE TABLE IF NOT EXISTS My_database( \n",
    "  Email VARCHAR(255), \n",
    "  Name VARCHAR(50), \n",
    "  Score INT \n",
    ");\"\"\") \n",
    "\n",
    "# Deleting existing data \n",
    "cursor_obj.execute(\"DELETE FROM My_database\")\n",
    "\n",
    "# Inserting all Rows of data\n",
    "cursor_obj.executemany(\n",
    "\"\"\"INSERT INTO My_database (Email, Name, Score) VALUES (?,?,?)\"\"\", [\n",
    "    (\"My_database1@gmail.com\", \"My_database1\", 25),\n",
    "    (\"My_database@gmail.com\", \"My_database2\", 15),\n",
    "    (\"My_database3@gmail.com\", \"My_database3\", 36),\n",
    "    (\"My_database4@gmail.com\", \"My_database4\", 27),\n",
    "    (\"My_database5@gmail.com\", \"My_database5\", 40),\n",
    "    (\"My_database@gmail.com\", \"My_database6\", 36)\n",
    "])\n",
    "\n",
    "## Read all the rows\n",
    "output = cursor_obj.execute(\"Select * From My_database\")\n",
    "for row in output:\n",
    "    print(row)\n",
    "\n",
    "print(\"My_database is created and values are inserted.\")\n",
    "\n",
    "connection_obj.commit()\n",
    "# Closing connection \n",
    "connection_obj.close()"
   ]
  },
  {
   "cell_type": "code",
   "execution_count": 62,
   "metadata": {},
   "outputs": [
    {
     "data": {
      "text/plain": [
       "<sqlite3.Cursor at 0x221dab0d940>"
      ]
     },
     "execution_count": 62,
     "metadata": {},
     "output_type": "execute_result"
    }
   ],
   "source": [
    "conn = sqlite3.connect(\"database.db\")\n",
    "\n",
    "conn.execute(\"Drop Table My_database\")"
   ]
  }
 ],
 "metadata": {
  "kernelspec": {
   "display_name": "myenv",
   "language": "python",
   "name": "python3"
  },
  "language_info": {
   "codemirror_mode": {
    "name": "ipython",
    "version": 3
   },
   "file_extension": ".py",
   "mimetype": "text/x-python",
   "name": "python",
   "nbconvert_exporter": "python",
   "pygments_lexer": "ipython3",
   "version": "3.13.2"
  }
 },
 "nbformat": 4,
 "nbformat_minor": 2
}
