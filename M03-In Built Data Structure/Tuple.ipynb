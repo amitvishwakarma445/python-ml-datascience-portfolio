{
 "cells": [
  {
   "cell_type": "markdown",
   "metadata": {},
   "source": [
    "## Tuple in Python\n",
    "\n",
    "### Introduction to tuple\n",
    "\n",
    "* tuples are orderd collection of items which are immutable\n",
    "* they are simillar to lists but their immutability makes them different\n",
    "* two types of indexing as List 1.(0 to n-1)  and  2.(-n to -1)\n",
    "\n",
    "\n",
    "  1. creating tuple\n",
    "  2. converting list to tuple and vice versa\n",
    "  3. Accessing tuple element\n",
    "  4. tuple operations\n",
    "  5. Immutable nature of tuple\n",
    "  6. tuple methods\n",
    "  7. Packing and unpacking tuple\n",
    "  8. Nested tuples"
   ]
  },
  {
   "cell_type": "markdown",
   "metadata": {},
   "source": [
    "## 1. Creating Tuple"
   ]
  },
  {
   "cell_type": "code",
   "execution_count": 2,
   "metadata": {},
   "outputs": [
    {
     "name": "stdout",
     "output_type": "stream",
     "text": [
      "()\n",
      "<class 'tuple'>\n"
     ]
    }
   ],
   "source": [
    "empty_tuple = ()\n",
    "print(empty_tuple)\n",
    "print(type(empty_tuple))"
   ]
  },
  {
   "cell_type": "code",
   "execution_count": 5,
   "metadata": {},
   "outputs": [
    {
     "name": "stdout",
     "output_type": "stream",
     "text": [
      "<class 'list'>\n",
      "<class 'tuple'>\n"
     ]
    }
   ],
   "source": [
    "lst=list()          ## creating list\n",
    "print(type(lst))\n",
    "\n",
    "tpl=tuple()         ## creating tuple\n",
    "print(type(tpl))"
   ]
  },
  {
   "cell_type": "markdown",
   "metadata": {},
   "source": [
    "## 2. Coversion list to tuple and vice versa"
   ]
  },
  {
   "cell_type": "code",
   "execution_count": 11,
   "metadata": {},
   "outputs": [
    {
     "name": "stdout",
     "output_type": "stream",
     "text": [
      "[1, 2, 3, 4, 5, 6] <class 'list'>\n",
      "(1, 2, 3, 4, 5, 6) <class 'tuple'>\n"
     ]
    }
   ],
   "source": [
    "## list to tuple\n",
    "\n",
    "lst = [1,2,3,4,5,6]   ## list\n",
    "print(lst, type(lst))\n",
    "\n",
    "tpl = tuple(lst)      ## tuple\n",
    "print(tpl, type(tpl))"
   ]
  },
  {
   "cell_type": "code",
   "execution_count": 10,
   "metadata": {},
   "outputs": [
    {
     "name": "stdout",
     "output_type": "stream",
     "text": [
      "(1, 2, 3, 4, 5) <class 'tuple'>\n",
      "[1, 2, 3, 4, 5] <class 'list'>\n"
     ]
    }
   ],
   "source": [
    "## tuple to list\n",
    "\n",
    "tpl = (1,2,3,4,5)\n",
    "print(tpl, type(tpl))\n",
    "\n",
    "lst = list(tpl)\n",
    "print(lst, type(lst))"
   ]
  },
  {
   "cell_type": "code",
   "execution_count": 12,
   "metadata": {},
   "outputs": [
    {
     "data": {
      "text/plain": [
       "[12, 23, 3, 4, 56]"
      ]
     },
     "execution_count": 12,
     "metadata": {},
     "output_type": "execute_result"
    }
   ],
   "source": [
    "list((12,23,3,4,56))  ## tuple converted into list"
   ]
  },
  {
   "cell_type": "code",
   "execution_count": 16,
   "metadata": {},
   "outputs": [
    {
     "name": "stdout",
     "output_type": "stream",
     "text": [
      "(3, 'Hello', 3.34, True, (5+8j), 3, 'Hello', 3.34, True, (5+8j))\n"
     ]
    }
   ],
   "source": [
    "mixed_tuple = (3, 'Hello', 3.34, True, 5+8j)\n",
    "print(mixed_tuple*2)\n"
   ]
  },
  {
   "cell_type": "markdown",
   "metadata": {},
   "source": [
    "## 3. Accessing element from tuple"
   ]
  },
  {
   "cell_type": "code",
   "execution_count": 17,
   "metadata": {},
   "outputs": [
    {
     "name": "stdout",
     "output_type": "stream",
     "text": [
      "3\n",
      "Hello\n",
      "3.34\n",
      "True\n",
      "(5+8j)\n"
     ]
    }
   ],
   "source": [
    "mixed_tuple = (3, 'Hello', 3.34, True, 5+8j)\n",
    "print(mixed_tuple[0])\n",
    "print(mixed_tuple[1])\n",
    "print(mixed_tuple[2])\n",
    "print(mixed_tuple[3])\n",
    "print(mixed_tuple[4])"
   ]
  },
  {
   "cell_type": "code",
   "execution_count": 18,
   "metadata": {},
   "outputs": [
    {
     "name": "stdout",
     "output_type": "stream",
     "text": [
      "3\n",
      "Hello\n",
      "3.34\n",
      "True\n",
      "(5+8j)\n"
     ]
    }
   ],
   "source": [
    "print(mixed_tuple[-5])\n",
    "print(mixed_tuple[-4])\n",
    "print(mixed_tuple[-3])\n",
    "print(mixed_tuple[-2])\n",
    "print(mixed_tuple[-1])"
   ]
  },
  {
   "cell_type": "markdown",
   "metadata": {},
   "source": [
    "## 4. Immutable Nature of Tuples"
   ]
  },
  {
   "cell_type": "code",
   "execution_count": 19,
   "metadata": {},
   "outputs": [
    {
     "name": "stdout",
     "output_type": "stream",
     "text": [
      "[1, 'Amit', 3, 4, 5]\n"
     ]
    }
   ],
   "source": [
    "## since List is mutable for example\n",
    "\n",
    "list = [1,2,3,4,5]\n",
    "list[1] = \"Amit\"\n",
    "print(list)"
   ]
  },
  {
   "cell_type": "code",
   "execution_count": 20,
   "metadata": {},
   "outputs": [
    {
     "ename": "TypeError",
     "evalue": "'type' object does not support item assignment",
     "output_type": "error",
     "traceback": [
      "\u001b[1;31m---------------------------------------------------------------------------\u001b[0m",
      "\u001b[1;31mTypeError\u001b[0m                                 Traceback (most recent call last)",
      "Cell \u001b[1;32mIn[20], line 4\u001b[0m\n\u001b[0;32m      1\u001b[0m \u001b[38;5;66;03m## in case of Tuple\u001b[39;00m\n\u001b[0;32m      3\u001b[0m tpl \u001b[38;5;241m=\u001b[39m (\u001b[38;5;241m1\u001b[39m,\u001b[38;5;241m2\u001b[39m,\u001b[38;5;241m3\u001b[39m,\u001b[38;5;241m4\u001b[39m,\u001b[38;5;241m5\u001b[39m)\n\u001b[1;32m----> 4\u001b[0m \u001b[38;5;28;43mtuple\u001b[39;49m\u001b[43m[\u001b[49m\u001b[38;5;241;43m1\u001b[39;49m\u001b[43m]\u001b[49m \u001b[38;5;241m=\u001b[39m \u001b[38;5;124m\"\u001b[39m\u001b[38;5;124mAmit\u001b[39m\u001b[38;5;124m\"\u001b[39m\n\u001b[0;32m      5\u001b[0m \u001b[38;5;28mprint\u001b[39m(tpl)\n",
      "\u001b[1;31mTypeError\u001b[0m: 'type' object does not support item assignment"
     ]
    }
   ],
   "source": [
    "## in case of Tuple\n",
    "\n",
    "tpl = (1,2,3,4,5)\n",
    "tuple[1] = \"Amit\"     ## it gives error\n",
    "print(tpl)"
   ]
  },
  {
   "cell_type": "markdown",
   "metadata": {},
   "source": [
    "## 5. Tuples Methods"
   ]
  },
  {
   "cell_type": "code",
   "execution_count": null,
   "metadata": {},
   "outputs": [
    {
     "name": "stdout",
     "output_type": "stream",
     "text": [
      "2\n",
      "0\n"
     ]
    }
   ],
   "source": [
    "t = (3, \"hello\", 3, True, 4.5)\n",
    "\n",
    "print(t.count(3))  ## cound total no of occurences element in tuple\n",
    "\n",
    "print(t.index(3))  ## show the first index of given value"
   ]
  },
  {
   "cell_type": "code",
   "execution_count": null,
   "metadata": {},
   "outputs": [
    {
     "name": "stdout",
     "output_type": "stream",
     "text": [
      "5\n"
     ]
    }
   ],
   "source": [
    "print(len(t))  ## gives no of element in the tuple(t)"
   ]
  },
  {
   "cell_type": "markdown",
   "metadata": {},
   "source": [
    "## 6. Packing and Unpacking Tuples"
   ]
  },
  {
   "cell_type": "code",
   "execution_count": 28,
   "metadata": {},
   "outputs": [
    {
     "name": "stdout",
     "output_type": "stream",
     "text": [
      "(3, 'Hello', 3.34, (5+8j))\n"
     ]
    }
   ],
   "source": [
    "## packing tuple\n",
    "\n",
    "packed_tuple = 3, 'Hello', 3.34, 5+8j\n",
    "\n",
    "print(packed_tuple)"
   ]
  },
  {
   "cell_type": "code",
   "execution_count": null,
   "metadata": {},
   "outputs": [
    {
     "name": "stdout",
     "output_type": "stream",
     "text": [
      "3\n",
      "Hello\n",
      "3.34\n",
      "(5+8j)\n"
     ]
    }
   ],
   "source": [
    "## Unpacking tuple\n",
    "\n",
    "a,b,c,d = packed_tuple      ## a,b,c,d = 3, 'Hello', 3.34, 5+8j\n",
    "\n",
    "print(a)\n",
    "print(b)\n",
    "print(c)\n",
    "print(d)"
   ]
  },
  {
   "cell_type": "code",
   "execution_count": null,
   "metadata": {},
   "outputs": [
    {
     "name": "stdout",
     "output_type": "stream",
     "text": [
      "3 <class 'int'>\n",
      "['Hello', 3.34] <class 'list'>\n",
      "(5+8j)\n"
     ]
    }
   ],
   "source": [
    "## unpacked with *\n",
    "\n",
    "first, *middle, last = packed_tuple\n",
    "\n",
    "print(first)    ## int type\n",
    "print(middle)   ## list type\n",
    "print(last)     ## int type"
   ]
  },
  {
   "cell_type": "markdown",
   "metadata": {},
   "source": [
    "## 7. Nested Tuple"
   ]
  },
  {
   "cell_type": "code",
   "execution_count": 36,
   "metadata": {},
   "outputs": [
    {
     "name": "stdout",
     "output_type": "stream",
     "text": [
      "Hello\n",
      "(7, 8, 9, 10)\n",
      "(2, 3)\n"
     ]
    }
   ],
   "source": [
    "nested_tuple = ((1,2,3,4),(5,6,\"Hello\",\"Python\",True),(7,8,9,10))\n",
    "\n",
    "## access element\n",
    "\n",
    "print(nested_tuple[1][2]) \n",
    "print(nested_tuple[2])\n",
    "print(nested_tuple[0][1:3])"
   ]
  },
  {
   "cell_type": "code",
   "execution_count": 37,
   "metadata": {},
   "outputs": [
    {
     "name": "stdout",
     "output_type": "stream",
     "text": [
      "(1, 2, 3, 4)\n",
      "(5, 6, 'Hello', 'Python', True)\n",
      "(7, 8, 9, 10)\n"
     ]
    }
   ],
   "source": [
    "## iteration in tuple\n",
    "\n",
    "for sub_tuple in nested_tuple:\n",
    "    print(sub_tuple)"
   ]
  },
  {
   "cell_type": "code",
   "execution_count": 41,
   "metadata": {},
   "outputs": [
    {
     "name": "stdout",
     "output_type": "stream",
     "text": [
      "1 2 3 4 \n",
      "5 6 Hello Python True \n",
      "7 8 9 10 \n"
     ]
    }
   ],
   "source": [
    "## iteration in tuple\n",
    "\n",
    "for sub_tuple in nested_tuple:\n",
    "    for item in sub_tuple:\n",
    "        print(item, end=\" \")\n",
    "    print()"
   ]
  }
 ],
 "metadata": {
  "kernelspec": {
   "display_name": "myenv",
   "language": "python",
   "name": "python3"
  },
  "language_info": {
   "codemirror_mode": {
    "name": "ipython",
    "version": 3
   },
   "file_extension": ".py",
   "mimetype": "text/x-python",
   "name": "python",
   "nbconvert_exporter": "python",
   "pygments_lexer": "ipython3",
   "version": "3.13.2"
  }
 },
 "nbformat": 4,
 "nbformat_minor": 2
}
