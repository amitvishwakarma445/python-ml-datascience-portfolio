{
 "cells": [
  {
   "cell_type": "markdown",
   "metadata": {},
   "source": [
    "### Introduction to List\n",
    "\n",
    "* List are ordered, mutable collection of items\n",
    "* they can contain items of difference data type\n",
    "* Index starts ( 0 to n-1 ) from left to right\n",
    "* and also ( -1 to -n ) from right to left\n",
    "\n",
    "\n",
    "    1. creating lists\n",
    "    2. accessing list elements\n",
    "    3. modifying list elements\n",
    "    4. list method\n",
    "    5. slicing lists\n",
    "    6. iterative over lists\n",
    "    7. list comprehension\n",
    "    8. nested lists"
   ]
  },
  {
   "cell_type": "markdown",
   "metadata": {},
   "source": [
    "## 1. Creating List"
   ]
  },
  {
   "cell_type": "code",
   "execution_count": 1,
   "metadata": {},
   "outputs": [
    {
     "name": "stdout",
     "output_type": "stream",
     "text": [
      "<class 'list'>\n"
     ]
    }
   ],
   "source": [
    "## creating List\n",
    "\n",
    "list=[]\n",
    "print(type(list))"
   ]
  },
  {
   "cell_type": "code",
   "execution_count": 2,
   "metadata": {},
   "outputs": [
    {
     "name": "stdout",
     "output_type": "stream",
     "text": [
      "['Amit', 'Suman', 'Manish', 'Sheetal']\n"
     ]
    }
   ],
   "source": [
    "names=[\"Amit\", \"Suman\", \"Manish\", \"Sheetal\"]\n",
    "print(names)"
   ]
  },
  {
   "cell_type": "code",
   "execution_count": 3,
   "metadata": {},
   "outputs": [
    {
     "name": "stdout",
     "output_type": "stream",
     "text": [
      "[1, 'Hello', 3.45, True, (6+8j)]\n"
     ]
    }
   ],
   "source": [
    "Mixed_list=[1,\"Hello\",3.45, True, 6+8j]\n",
    "print(Mixed_list)"
   ]
  },
  {
   "cell_type": "code",
   "execution_count": 4,
   "metadata": {},
   "outputs": [
    {
     "name": "stdout",
     "output_type": "stream",
     "text": [
      "['apple', 'banana', 'cherry', 'kiwi', 'guava']\n"
     ]
    }
   ],
   "source": [
    "fruit=[\"apple\",\"banana\",\"cherry\",\"kiwi\",\"guava\"]\n",
    "print(fruit)"
   ]
  },
  {
   "cell_type": "markdown",
   "metadata": {},
   "source": [
    "## 2. Access List Element"
   ]
  },
  {
   "cell_type": "code",
   "execution_count": 5,
   "metadata": {},
   "outputs": [
    {
     "name": "stdout",
     "output_type": "stream",
     "text": [
      "apple\n",
      "banana\n",
      "cherry\n",
      "kiwi\n",
      "guava\n"
     ]
    }
   ],
   "source": [
    "## accessing list element with +ve index\n",
    "\n",
    "print(fruit[0])\n",
    "print(fruit[1])\n",
    "print(fruit[2])\n",
    "print(fruit[3])\n",
    "print(fruit[4])"
   ]
  },
  {
   "cell_type": "code",
   "execution_count": 6,
   "metadata": {},
   "outputs": [
    {
     "name": "stdout",
     "output_type": "stream",
     "text": [
      "apple\n",
      "banana\n",
      "cherry\n",
      "kiwi\n",
      "guava\n"
     ]
    }
   ],
   "source": [
    "## access list element with -ve index\n",
    "\n",
    "print(fruit[-5])\n",
    "print(fruit[-4])\n",
    "print(fruit[-3])\n",
    "print(fruit[-2])\n",
    "print(fruit[-1])"
   ]
  },
  {
   "cell_type": "markdown",
   "metadata": {},
   "source": [
    "## 3. Modifying the list"
   ]
  },
  {
   "cell_type": "code",
   "execution_count": 7,
   "metadata": {},
   "outputs": [
    {
     "name": "stdout",
     "output_type": "stream",
     "text": [
      "['apple', 'watermelon', 'cherry', 'kiwi', 'guava']\n"
     ]
    }
   ],
   "source": [
    "## modifying the list element\n",
    "\n",
    "fruit[1] = \"watermelon\"   ## banana replaced with watermelon\n",
    "print(fruit)"
   ]
  },
  {
   "cell_type": "markdown",
   "metadata": {},
   "source": [
    "## 4. Methods Starts here"
   ]
  },
  {
   "cell_type": "code",
   "execution_count": 8,
   "metadata": {},
   "outputs": [
    {
     "name": "stdout",
     "output_type": "stream",
     "text": [
      "['apple', 'watermelon', 'cherry', 'kiwi', 'guava', 'orange']\n"
     ]
    }
   ],
   "source": [
    "## List Methods\n",
    "\n",
    "fruit.append(\"orange\")  ## add an iten to the end\n",
    "print(fruit)"
   ]
  },
  {
   "cell_type": "code",
   "execution_count": 9,
   "metadata": {},
   "outputs": [
    {
     "name": "stdout",
     "output_type": "stream",
     "text": [
      "6\n"
     ]
    }
   ],
   "source": [
    "print(len(fruit))"
   ]
  },
  {
   "cell_type": "code",
   "execution_count": 10,
   "metadata": {},
   "outputs": [
    {
     "name": "stdout",
     "output_type": "stream",
     "text": [
      "['banana', 'apple', 'watermelon', 'cherry', 'kiwi', 'guava', 'orange']\n"
     ]
    }
   ],
   "source": [
    "fruit.insert(0, \"banana\") ## at index 0 banana will add\n",
    "print(fruit)"
   ]
  },
  {
   "cell_type": "code",
   "execution_count": 11,
   "metadata": {},
   "outputs": [
    {
     "name": "stdout",
     "output_type": "stream",
     "text": [
      "['apple', 'watermelon', 'cherry', 'kiwi', 'guava', 'orange']\n"
     ]
    }
   ],
   "source": [
    "fruit.remove(\"banana\")  ## removes 1st occurance of existing object from the list... if object not exist then gives error\n",
    "print(fruit)"
   ]
  },
  {
   "cell_type": "code",
   "execution_count": 12,
   "metadata": {},
   "outputs": [
    {
     "name": "stdout",
     "output_type": "stream",
     "text": [
      "orange\n",
      "cherry\n"
     ]
    }
   ],
   "source": [
    "poped_LastElement = fruit.pop()  ## by default remove and return the last element of list\n",
    "print(poped_LastElement)\n",
    "\n",
    "\n",
    "poped_element = fruit.pop(2)    ## remove and return 2nd element from the list\n",
    "print(poped_element)\n"
   ]
  },
  {
   "cell_type": "code",
   "execution_count": 13,
   "metadata": {},
   "outputs": [
    {
     "name": "stdout",
     "output_type": "stream",
     "text": [
      "['apple', 'watermelon', 'kiwi', 'guava']\n"
     ]
    }
   ],
   "source": [
    "print(fruit)"
   ]
  },
  {
   "cell_type": "code",
   "execution_count": 14,
   "metadata": {},
   "outputs": [
    {
     "name": "stdout",
     "output_type": "stream",
     "text": [
      "2\n"
     ]
    }
   ],
   "source": [
    "idx = fruit.index(\"kiwi\")  ## gives the index of object of list\n",
    "print(idx)"
   ]
  },
  {
   "cell_type": "code",
   "execution_count": 15,
   "metadata": {},
   "outputs": [
    {
     "name": "stdout",
     "output_type": "stream",
     "text": [
      "['apple', 'banana', 'cherry', 'banana', 'kiwi', 'guava']\n"
     ]
    }
   ],
   "source": [
    "### another list\n",
    "\n",
    "my_fruits=[\"apple\",\"banana\",\"cherry\",\"kiwi\",\"guava\"]\n",
    "my_fruits.insert(3,\"banana\")\n",
    "print(my_fruits)"
   ]
  },
  {
   "cell_type": "code",
   "execution_count": 16,
   "metadata": {},
   "outputs": [
    {
     "name": "stdout",
     "output_type": "stream",
     "text": [
      "2\n"
     ]
    }
   ],
   "source": [
    "count = my_fruits.count(\"banana\")  ## count the number of object\n",
    "print(count)"
   ]
  },
  {
   "cell_type": "code",
   "execution_count": 17,
   "metadata": {},
   "outputs": [
    {
     "name": "stdout",
     "output_type": "stream",
     "text": [
      "['apple', 'banana', 'banana', 'cherry', 'guava', 'kiwi']\n"
     ]
    }
   ],
   "source": [
    "my_fruits.sort()  ## sort the list in ascending order\n",
    "print(my_fruits)"
   ]
  },
  {
   "cell_type": "code",
   "execution_count": 18,
   "metadata": {},
   "outputs": [
    {
     "name": "stdout",
     "output_type": "stream",
     "text": [
      "['kiwi', 'guava', 'cherry', 'banana', 'banana', 'apple']\n"
     ]
    }
   ],
   "source": [
    "my_fruits.sort(reverse=True)   ## sort into descending order\n",
    "print(my_fruits)"
   ]
  },
  {
   "cell_type": "code",
   "execution_count": 19,
   "metadata": {},
   "outputs": [
    {
     "name": "stdout",
     "output_type": "stream",
     "text": [
      "['apple', 'banana', 'banana', 'cherry', 'guava', 'kiwi']\n"
     ]
    }
   ],
   "source": [
    "my_fruits.reverse() ## reverse the list element\n",
    "print(my_fruits)"
   ]
  },
  {
   "cell_type": "code",
   "execution_count": 20,
   "metadata": {},
   "outputs": [
    {
     "name": "stdout",
     "output_type": "stream",
     "text": [
      "[]\n"
     ]
    }
   ],
   "source": [
    "my_fruits.clear()  ## remove all the element\n",
    "print(my_fruits)"
   ]
  },
  {
   "cell_type": "markdown",
   "metadata": {},
   "source": [
    "## 5. Slicing List"
   ]
  },
  {
   "cell_type": "code",
   "execution_count": 21,
   "metadata": {},
   "outputs": [
    {
     "name": "stdout",
     "output_type": "stream",
     "text": [
      "[3, 4, 5]\n",
      "[1, 2, 3, 4, 5]\n",
      "[6, 7, 8, 9, 10]\n",
      "[1, 3, 5, 7, 9]\n",
      "[10, 9, 8, 7, 6, 5, 4, 3, 2, 1]\n"
     ]
    }
   ],
   "source": [
    "number = [1,2,3,4,5,6,7,8,9,10]\n",
    "print(number[2:5])\n",
    "print(number[:5])\n",
    "print(number[5:])\n",
    "print(number[::2])\n",
    "print(number[::-1])     ###  [start : till-1 : jump]"
   ]
  },
  {
   "cell_type": "markdown",
   "metadata": {},
   "source": [
    "## 6. Iterate over List"
   ]
  },
  {
   "cell_type": "code",
   "execution_count": 22,
   "metadata": {},
   "outputs": [
    {
     "name": "stdout",
     "output_type": "stream",
     "text": [
      "4 python 5.67 True (6+8j) "
     ]
    }
   ],
   "source": [
    "## iterate over list\n",
    "\n",
    "mixed_data = [4, \"python\", 5.67, True, 6+8j]\n",
    "for i in mixed_data:\n",
    "    print(i, end=\" \")"
   ]
  },
  {
   "cell_type": "code",
   "execution_count": 23,
   "metadata": {},
   "outputs": [
    {
     "name": "stdout",
     "output_type": "stream",
     "text": [
      "0 4\n",
      "1 python\n",
      "2 5.67\n",
      "3 True\n",
      "4 (6+8j)\n"
     ]
    }
   ],
   "source": [
    "## iterate with index\n",
    "for idx, data in enumerate(mixed_data):\n",
    "    print(idx, data)"
   ]
  },
  {
   "cell_type": "markdown",
   "metadata": {},
   "source": [
    "## 7. List Comprehension\n",
    "\n",
    "* Basic Syntax--------------[expression for i in iterable]\n",
    "* with conditional logic----[expression for i in iterable if condition]\n",
    "\n",
    "   ### Nested List Comprehension\n",
    "\n",
    "  * Syntax--------------[expression for item1 in iterable1 for item2 in iterable2]"
   ]
  },
  {
   "cell_type": "code",
   "execution_count": 24,
   "metadata": {},
   "outputs": [
    {
     "name": "stdout",
     "output_type": "stream",
     "text": [
      "[0, 1, 4, 9, 16, 25]\n"
     ]
    }
   ],
   "source": [
    "## example without list comprehension\n",
    "\n",
    "## square all the number till 5 and store in list\n",
    "list=[]\n",
    "for i in range(6):\n",
    "    list.append(i**2)\n",
    "\n",
    "print(list)"
   ]
  },
  {
   "cell_type": "code",
   "execution_count": 25,
   "metadata": {},
   "outputs": [
    {
     "name": "stdout",
     "output_type": "stream",
     "text": [
      "[0, 1, 4, 9, 16, 25]\n"
     ]
    }
   ],
   "source": [
    "## using List Comprehension\n",
    "\n",
    "## square all the number till 5 and store in list\n",
    "square = [x**2 for x in range(6)]\n",
    "print(square)"
   ]
  },
  {
   "cell_type": "code",
   "execution_count": 26,
   "metadata": {},
   "outputs": [
    {
     "name": "stdout",
     "output_type": "stream",
     "text": [
      "[0, 2, 4, 6, 8]\n"
     ]
    }
   ],
   "source": [
    "## example without list comprehension with condition\n",
    "\n",
    "## using List Comprehension\n",
    "\n",
    "even_num=[]\n",
    "for num in range(10):\n",
    "    if num%2==0:\n",
    "        even_num.append(num)\n",
    "\n",
    "print(even_num)"
   ]
  },
  {
   "cell_type": "code",
   "execution_count": 27,
   "metadata": {},
   "outputs": [
    {
     "name": "stdout",
     "output_type": "stream",
     "text": [
      "[0, 2, 4, 6, 8]\n"
     ]
    }
   ],
   "source": [
    "## using List Comprehension\n",
    "\n",
    "## using List Comprehenson\n",
    "\n",
    "even_number = [num for num in range(10) if num%2==0]\n",
    "print(even_number)"
   ]
  },
  {
   "cell_type": "code",
   "execution_count": 28,
   "metadata": {},
   "outputs": [
    {
     "name": "stdout",
     "output_type": "stream",
     "text": [
      "[[1, 'a'], [1, 'b'], [1, 'c'], [2, 'a'], [2, 'b'], [2, 'c']]\n"
     ]
    }
   ],
   "source": [
    "## nested list comprehension\n",
    "\n",
    "## make pairs will all element\n",
    "\n",
    "list1=[1,2]\n",
    "list2=[\"a\",\"b\",\"c\"]\n",
    "\n",
    "pair = [[x,y] for x in list1 for y in list2]\n",
    "\n",
    "print(pair)\n"
   ]
  },
  {
   "cell_type": "code",
   "execution_count": 29,
   "metadata": {},
   "outputs": [
    {
     "name": "stdout",
     "output_type": "stream",
     "text": [
      "[4, 7, 5, 6]\n"
     ]
    }
   ],
   "source": [
    "## list comprehension with function call\n",
    "\n",
    "words=[\"Amit\", \"Sheetal\", \"Suman\",\"Manish\"]\n",
    "length = [len(word) for word in words]\n",
    "print(length)"
   ]
  },
  {
   "cell_type": "markdown",
   "metadata": {},
   "source": [
    "## 8. Nested List"
   ]
  },
  {
   "cell_type": "code",
   "execution_count": 30,
   "metadata": {},
   "outputs": [
    {
     "name": "stdout",
     "output_type": "stream",
     "text": [
      "[[1, 2, 3], ['hello', 'Pyhton', 'Programming'], [True, (5+6j)]]\n"
     ]
    }
   ],
   "source": [
    "nested_list = [[1,2,3],[\"hello\",\"Pyhton\",\"Programming\"],[True, 5+6j]]\n",
    "print(nested_list)"
   ]
  },
  {
   "cell_type": "code",
   "execution_count": 31,
   "metadata": {},
   "outputs": [
    {
     "name": "stdout",
     "output_type": "stream",
     "text": [
      "[1, 2, 3]\n",
      "['hello', 'Pyhton', 'Programming']\n",
      "[True, (5+6j)]\n"
     ]
    }
   ],
   "source": [
    "print(nested_list[0])\n",
    "print(nested_list[1])\n",
    "print(nested_list[2])"
   ]
  },
  {
   "cell_type": "code",
   "execution_count": 32,
   "metadata": {},
   "outputs": [
    {
     "name": "stdout",
     "output_type": "stream",
     "text": [
      "hello\n",
      "Pyhton\n"
     ]
    }
   ],
   "source": [
    "print(nested_list[1][0])\n",
    "print(nested_list[1][1])"
   ]
  },
  {
   "cell_type": "code",
   "execution_count": 33,
   "metadata": {},
   "outputs": [
    {
     "name": "stdout",
     "output_type": "stream",
     "text": [
      "['hello', 'Pyhton']\n"
     ]
    }
   ],
   "source": [
    "print(nested_list[1][0:2])  ## slicing"
   ]
  },
  {
   "cell_type": "code",
   "execution_count": 34,
   "metadata": {},
   "outputs": [
    {
     "name": "stdout",
     "output_type": "stream",
     "text": [
      "(5, 'Name', 7)\n"
     ]
    }
   ],
   "source": [
    "nested_list = [[1,2,3],[\"hello\",\"Pyhton\",\"Programming\"],(5,\"Name\",7,8,9)]\n",
    "\n",
    "print(nested_list[2][0:3])"
   ]
  }
 ],
 "metadata": {
  "kernelspec": {
   "display_name": "myenv",
   "language": "python",
   "name": "python3"
  },
  "language_info": {
   "codemirror_mode": {
    "name": "ipython",
    "version": 3
   },
   "file_extension": ".py",
   "mimetype": "text/x-python",
   "name": "python",
   "nbconvert_exporter": "python",
   "pygments_lexer": "ipython3",
   "version": "3.13.2"
  }
 },
 "nbformat": 4,
 "nbformat_minor": 2
}
