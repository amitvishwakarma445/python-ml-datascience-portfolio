{
 "cells": [
  {
   "cell_type": "markdown",
   "metadata": {},
   "source": [
    "## Numpy in Python\n",
    "\n",
    "* is a fundamental library for scientific computing in python.\n",
    "* it provides support for *arrays* and *matrices* along with a collection of mathematical functions operate on these data structures.\n",
    "\n",
    "#### **Install Numpy in Pyhton**\n",
    "* !pip install numpy"
   ]
  },
  {
   "cell_type": "code",
   "execution_count": 1,
   "metadata": {},
   "outputs": [
    {
     "name": "stdout",
     "output_type": "stream",
     "text": [
      "Requirement already satisfied: numpy in c:\\users\\asus\\desktop\\pythonprogammingfordatascience\\myenv\\lib\\site-packages (2.2.3)\n"
     ]
    }
   ],
   "source": [
    "!pip install numpy"
   ]
  },
  {
   "cell_type": "code",
   "execution_count": 2,
   "metadata": {},
   "outputs": [],
   "source": [
    "import numpy as np"
   ]
  },
  {
   "cell_type": "code",
   "execution_count": 5,
   "metadata": {},
   "outputs": [
    {
     "name": "stdout",
     "output_type": "stream",
     "text": [
      "<class 'numpy.ndarray'>\n",
      "0\n"
     ]
    }
   ],
   "source": [
    "## 0 dimenstional array\n",
    "arr0 = np.array(5)\n",
    "\n",
    "print(type(arr0))\n",
    "\n",
    "print(arr0.ndim)"
   ]
  },
  {
   "cell_type": "code",
   "execution_count": null,
   "metadata": {},
   "outputs": [
    {
     "name": "stdout",
     "output_type": "stream",
     "text": [
      "<class 'numpy.ndarray'>\n",
      "(6,)\n",
      "int64\n",
      "1\n"
     ]
    }
   ],
   "source": [
    "## create array using numpy\n",
    "\n",
    "## 1D array\n",
    "arr1 = np.array([2,1,4,3,5,6])\n",
    "print(type(arr1))\n",
    "print(arr1.shape) ## tells no. of element and dimention of array\n",
    "print(arr1.dtype) ## int64 : system based\n",
    "\n",
    "print(arr1.ndim)  ## 1 dimention"
   ]
  },
  {
   "cell_type": "code",
   "execution_count": null,
   "metadata": {},
   "outputs": [
    {
     "name": "stdout",
     "output_type": "stream",
     "text": [
      "(6,)\n",
      "dimention of arr : 1\n"
     ]
    }
   ],
   "source": [
    "## reshape arr1 into 1-Dimentional array\n",
    "\n",
    "arr2 = np.array([2,1,4,3,5,6])\n",
    "print(arr2.shape)  ## row and col  ->  output: (6,) indicate 1D array with 6 element\n",
    "\n",
    "print(\"dimention of arr :\",arr2.ndim)"
   ]
  },
  {
   "cell_type": "code",
   "execution_count": null,
   "metadata": {},
   "outputs": [
    {
     "data": {
      "text/plain": [
       "array([[2, 3, 4],\n",
       "       [5, 6, 7]])"
      ]
     },
     "metadata": {},
     "output_type": "display_data"
    },
    {
     "name": "stdout",
     "output_type": "stream",
     "text": [
      "[[2 3 4]\n",
      " [5 6 7]]\n",
      "shape of array :  (2, 3)\n",
      "dimention of arr : 2\n"
     ]
    }
   ],
   "source": [
    "arr3 = np.array([[2,3,4],\n",
    "                 [5,6,7]])\n",
    "\n",
    "display(arr3)\n",
    "\n",
    "print(arr3)\n",
    "print('shape of array : ',arr3.shape)   ## (2, 3)  2-rows and 3-cols\n",
    "\n",
    "\n",
    "\n",
    "print(\"dimention of arr :\",arr3.ndim)"
   ]
  },
  {
   "cell_type": "code",
   "execution_count": 53,
   "metadata": {},
   "outputs": [
    {
     "name": "stdout",
     "output_type": "stream",
     "text": [
      "[0 1 2 3 4]\n",
      "[2 3 4 5]\n",
      "[2 4 6]\n",
      "[2. 5. 8.]\n"
     ]
    }
   ],
   "source": [
    "## arange(start, stop, steps, dtype=None) function\n",
    "\n",
    "arr1 = np.arange(5)\n",
    "print(arr1)  # [0 1 2 3 4]\n",
    "\n",
    "arr2 = np.arange(2, 6)\n",
    "print(arr2)  # [2 3 4 5]\n",
    "\n",
    "arr3 = np.arange(2, 7, 2)\n",
    "print(arr3)\n",
    "\n",
    "arr4 = np.arange(2, 9, 3, dtype=float)\n",
    "print(arr4)\n"
   ]
  },
  {
   "cell_type": "code",
   "execution_count": 55,
   "metadata": {},
   "outputs": [
    {
     "name": "stdout",
     "output_type": "stream",
     "text": [
      "[ 1  2  3  4  5  6  7  8  9 10 11 12]\n"
     ]
    }
   ],
   "source": [
    "## arrange the numbers from 1 to 12 in 1D array\n",
    "arr1 = np.arange(1, 13)\n",
    "print(arr1)"
   ]
  },
  {
   "cell_type": "code",
   "execution_count": 56,
   "metadata": {},
   "outputs": [
    {
     "name": "stdout",
     "output_type": "stream",
     "text": [
      "[[ 1  2  3  4]\n",
      " [ 5  6  7  8]\n",
      " [ 9 10 11 12]]\n"
     ]
    }
   ],
   "source": [
    "## arrange the numbers from 1 to 12 in 2D (3 row and 4 col) array\n",
    "arr2 = np.arange(1, 13).reshape(3, 4)  \n",
    "print(arr2)"
   ]
  },
  {
   "cell_type": "code",
   "execution_count": 58,
   "metadata": {},
   "outputs": [
    {
     "name": "stdout",
     "output_type": "stream",
     "text": [
      "[[ 1  2]\n",
      " [ 3  4]\n",
      " [ 5  6]\n",
      " [ 7  8]\n",
      " [ 9 10]\n",
      " [11 12]]\n"
     ]
    }
   ],
   "source": [
    "## arrange the numbers from 1 to 12 in 2D (6 row and 2 col) array\n",
    "arr3 = np.arange(1, 13).reshape(6, 2)  \n",
    "print(arr3)"
   ]
  },
  {
   "cell_type": "code",
   "execution_count": 61,
   "metadata": {},
   "outputs": [
    {
     "name": "stdout",
     "output_type": "stream",
     "text": [
      "[[1]\n",
      " [2]\n",
      " [3]\n",
      " [4]\n",
      " [5]]\n",
      "<class 'numpy.ndarray'>\n"
     ]
    }
   ],
   "source": [
    "## arrange the numbers from 1 to 5 in 2D (5 row and 1 col) array\n",
    "arr4 = np.arange(1, 6).reshape(5, 1)  \n",
    "print(arr4)\n",
    "print(type(arr4))"
   ]
  },
  {
   "cell_type": "code",
   "execution_count": 77,
   "metadata": {},
   "outputs": [
    {
     "name": "stdout",
     "output_type": "stream",
     "text": [
      "<class 'int'>\n",
      "<class 'tuple'>\n",
      "<class 'tuple'>\n",
      "<class 'tuple'>\n"
     ]
    }
   ],
   "source": [
    "x = 2\n",
    "y = (2,)\n",
    "z = (2,3)\n",
    "a = (2,3,4)\n",
    "\n",
    "print(type(x))\n",
    "print(type(y))\n",
    "print(type(z))\n",
    "print(type(a))\n"
   ]
  },
  {
   "cell_type": "code",
   "execution_count": 81,
   "metadata": {},
   "outputs": [
    {
     "name": "stdout",
     "output_type": "stream",
     "text": [
      "array :\n",
      " [[1 2 3]\n",
      " [4 5 6]]\n",
      "\n",
      "shape :  (2, 3)\n",
      "dimensions :  2\n",
      "Size(No. of element) :  6\n",
      "Data types :  int64\n",
      "Item size (in bytes) :  8\n"
     ]
    }
   ],
   "source": [
    "arr = np.array([[1,2,3],\n",
    "               [4,5,6]])\n",
    "\n",
    "print(\"array :\\n\",arr)\n",
    "print()\n",
    "print('shape : ',arr.shape)\n",
    "print('dimensions : ',arr.ndim)\n",
    "print('Size(No. of element) : ', arr.size)\n",
    "print('Data types : ', arr.dtype)\n",
    "print('Item size (in bytes) : ', arr.itemsize)"
   ]
  },
  {
   "cell_type": "code",
   "execution_count": null,
   "metadata": {},
   "outputs": [
    {
     "name": "stdout",
     "output_type": "stream",
     "text": [
      "[1 1 1]\n"
     ]
    }
   ],
   "source": [
    "## ones(row, col) :- every element generate into 1\n",
    "arr1 = np.ones(3, dtype=int)  ## by default dtype=float\n",
    "print(arr1)"
   ]
  },
  {
   "cell_type": "code",
   "execution_count": 75,
   "metadata": {},
   "outputs": [
    {
     "name": "stdout",
     "output_type": "stream",
     "text": [
      "[[1. 1. 1. 1.]\n",
      " [1. 1. 1. 1.]\n",
      " [1. 1. 1. 1.]]\n"
     ]
    }
   ],
   "source": [
    "arr2 = np.ones((3, 4))   ## 3 row and 4 col\n",
    "print(arr2)"
   ]
  },
  {
   "cell_type": "code",
   "execution_count": 74,
   "metadata": {},
   "outputs": [
    {
     "name": "stdout",
     "output_type": "stream",
     "text": [
      "[[[1. 1.]\n",
      "  [1. 1.]\n",
      "  [1. 1.]\n",
      "  [1. 1.]]\n",
      "\n",
      " [[1. 1.]\n",
      "  [1. 1.]\n",
      "  [1. 1.]\n",
      "  [1. 1.]]\n",
      "\n",
      " [[1. 1.]\n",
      "  [1. 1.]\n",
      "  [1. 1.]\n",
      "  [1. 1.]]]\n"
     ]
    }
   ],
   "source": [
    "arr3 = np.ones((3, 4, 2))   ## 3 2D array with (4 row and 2 col)\n",
    "print(arr3)\n"
   ]
  },
  {
   "cell_type": "code",
   "execution_count": 84,
   "metadata": {},
   "outputs": [
    {
     "name": "stdout",
     "output_type": "stream",
     "text": [
      "[[1 0 0]\n",
      " [0 1 0]\n",
      " [0 0 1]]\n"
     ]
    }
   ],
   "source": [
    "## eye(order) : identity matrix\n",
    "\n",
    "identity_matrix = np.eye(3, dtype=int)  # dtype is optinal, by default it is float\n",
    "print(identity_matrix)"
   ]
  },
  {
   "cell_type": "code",
   "execution_count": 86,
   "metadata": {},
   "outputs": [
    {
     "name": "stdout",
     "output_type": "stream",
     "text": [
      "addition :  [6 6 6 6 6]\n",
      "addition :  [-4 -2  0  2  4]\n",
      "addition :  [5 8 9 8 5]\n",
      "addition :  [0.2 0.5 1.  2.  5. ]\n"
     ]
    }
   ],
   "source": [
    "## numpy vectorized operation\n",
    "\n",
    "arr1 = np.array([1,2,3,4,5])\n",
    "arr2 = np.array([5,4,3,2,1])\n",
    "\n",
    "### Element wise addition\n",
    "print(\"addition : \", arr1+arr2)\n",
    "\n",
    "### Element wise subtraction\n",
    "print(\"addition : \", arr1-arr2)\n",
    "\n",
    "### Element wise multiplication\n",
    "print(\"addition : \", arr1*arr2)\n",
    "\n",
    "### Element wise division\n",
    "print(\"addition : \", arr1/arr2)"
   ]
  },
  {
   "cell_type": "code",
   "execution_count": 93,
   "metadata": {},
   "outputs": [
    {
     "name": "stdout",
     "output_type": "stream",
     "text": [
      "[1.         1.41421356 1.73205081 2.         2.23606798]\n",
      "[  2.71828183   7.3890561   20.08553692  54.59815003 148.4131591 ]\n",
      "[ 0.84147098  0.90929743  0.14112001 -0.7568025  -0.95892427]\n",
      "[0.         0.69314718 1.09861229 1.38629436 1.60943791]\n"
     ]
    }
   ],
   "source": [
    "## Univesal Function\n",
    "\n",
    "arr = np.array([1,2,3,4,5])\n",
    "\n",
    "### square root\n",
    "print(np.sqrt(arr))\n",
    "\n",
    "### exponential\n",
    "print(np.exp(arr))\n",
    "\n",
    "### sine(angle)\n",
    "print(np.sin(arr))\n",
    "\n",
    "### natural log\n",
    "print(np.log(arr))"
   ]
  },
  {
   "cell_type": "code",
   "execution_count": 94,
   "metadata": {},
   "outputs": [
    {
     "name": "stdout",
     "output_type": "stream",
     "text": [
      "2\n",
      "9\n"
     ]
    }
   ],
   "source": [
    "## Array slicing and indexing\n",
    "\n",
    "arr = np.array([2,3,4,7,8,9])\n",
    "print(arr[0])\n",
    "print(arr[-1])"
   ]
  },
  {
   "cell_type": "code",
   "execution_count": 96,
   "metadata": {},
   "outputs": [
    {
     "name": "stdout",
     "output_type": "stream",
     "text": [
      "Array :\n",
      " [[1 2 3 4]\n",
      " [5 6 4 3]\n",
      " [2 5 1 7]]\n"
     ]
    }
   ],
   "source": [
    "arr = np.array([[1,2,3,4],\n",
    "                [5,6,4,3],\n",
    "                [2,5,1,7]])\n",
    "\n",
    "print('Array :\\n',arr)"
   ]
  },
  {
   "cell_type": "code",
   "execution_count": 108,
   "metadata": {},
   "outputs": [
    {
     "name": "stdout",
     "output_type": "stream",
     "text": [
      "1\n",
      "\n",
      "[[4 3]\n",
      " [1 7]]\n",
      "\n",
      "[[1 2]\n",
      " [5 6]]\n",
      "\n",
      "[[1 2 3 4]\n",
      " [5 6 4 3]]\n"
     ]
    }
   ],
   "source": [
    "arr = np.array([[1,2,3,4],\n",
    "                [5,6,4,3],\n",
    "                [2,5,1,7]])\n",
    "\n",
    "print(arr[0][0])\n",
    "print()\n",
    "\n",
    "print(arr[1:, 2:])\n",
    "print()\n",
    "\n",
    "print(arr[0:2, 0:2])\n",
    "print()\n",
    "\n",
    "print(arr[0:2, 0:])"
   ]
  },
  {
   "cell_type": "code",
   "execution_count": null,
   "metadata": {},
   "outputs": [
    {
     "name": "stdout",
     "output_type": "stream",
     "text": [
      "[[ 1  2  3  4]\n",
      " [ 5  6 99 99]\n",
      " [ 2  5 99 99]]\n"
     ]
    }
   ],
   "source": [
    "arr = np.array([[1, 2, 3, 4],\n",
    "                [5, 6, 4, 3],\n",
    "                [2, 5, 1, 7]])\n",
    "\n",
    "arr[1:, 2:] = 99\n",
    "\n",
    "print(arr)"
   ]
  },
  {
   "cell_type": "code",
   "execution_count": 123,
   "metadata": {},
   "outputs": [
    {
     "name": "stdout",
     "output_type": "stream",
     "text": [
      "[[1 2 3 4]\n",
      " [5 6 4 3]\n",
      " [2 5 1 7]]\n",
      "\n",
      "[[ 1  2  3  4]\n",
      " [ 5  6 12  9]\n",
      " [ 2  5  3 21]]\n"
     ]
    }
   ],
   "source": [
    "arr = np.array([[1, 2, 3, 4],\n",
    "                [5, 6, 4, 3],\n",
    "                [2, 5, 1, 7]])\n",
    "\n",
    "print(arr)\n",
    "print()\n",
    "arr[1:, 2:] = arr[1:, 2:]*3\n",
    "\n",
    "print(arr)"
   ]
  },
  {
   "cell_type": "code",
   "execution_count": 125,
   "metadata": {},
   "outputs": [
    {
     "name": "stdout",
     "output_type": "stream",
     "text": [
      "[[1 2 3 4]\n",
      " [5 6 4 3]\n",
      " [2 5 1 7]]\n",
      "\n",
      "[[  1   2   3   4]\n",
      " [100 100 100 100]\n",
      " [100 100 100 100]]\n"
     ]
    }
   ],
   "source": [
    "arr = np.array([[1, 2, 3, 4],\n",
    "                [5, 6, 4, 3],\n",
    "                [2, 5, 1, 7]])\n",
    "print(arr)\n",
    "print()\n",
    "\n",
    "arr[1:, 0:] = 100\n",
    "\n",
    "print(arr)"
   ]
  },
  {
   "cell_type": "code",
   "execution_count": 134,
   "metadata": {},
   "outputs": [
    {
     "name": "stdout",
     "output_type": "stream",
     "text": [
      "Mean 5.0\n",
      "5.0\n",
      "2.581988897471611\n",
      "6.666666666666667\n"
     ]
    }
   ],
   "source": [
    "## statistics of given data\n",
    "\n",
    "data = np.array([1,2,3,4,5,6,7,8,9])\n",
    "\n",
    "### mean\n",
    "print('Mean', np.mean(data))\n",
    "\n",
    "### median\n",
    "print(np.median(data))\n",
    "\n",
    "### standard_deviation\n",
    "print(np.std(data))\n",
    "\n",
    "### variance\n",
    "print(np.var(data))"
   ]
  },
  {
   "cell_type": "code",
   "execution_count": 140,
   "metadata": {},
   "outputs": [
    {
     "name": "stdout",
     "output_type": "stream",
     "text": [
      "Normalized data :  [-1.41421356 -0.70710678  0.          0.70710678  1.41421356]\n"
     ]
    }
   ],
   "source": [
    "## statistical concept - Normailzation\n",
    "\n",
    "data = np.array([1,2,3,4,5])\n",
    "\n",
    "mean = np.mean(data)\n",
    "std_dev = np.std(data)\n",
    "\n",
    "normalization = (data - mean) / std_dev\n",
    "\n",
    "print(\"Normalized data : \", normalization)"
   ]
  },
  {
   "cell_type": "code",
   "execution_count": 144,
   "metadata": {},
   "outputs": [
    {
     "name": "stdout",
     "output_type": "stream",
     "text": [
      "[ True  True  True False False False False False]\n",
      "[False False  True  True  True  True False False]\n"
     ]
    }
   ],
   "source": [
    "data = np.array([2,3,4,5,6,7,8,9])\n",
    "\n",
    "print(data < 5)\n",
    "\n",
    "print((data>=4) & (data<=7))"
   ]
  }
 ],
 "metadata": {
  "kernelspec": {
   "display_name": "myenv",
   "language": "python",
   "name": "python3"
  },
  "language_info": {
   "codemirror_mode": {
    "name": "ipython",
    "version": 3
   },
   "file_extension": ".py",
   "mimetype": "text/x-python",
   "name": "python",
   "nbconvert_exporter": "python",
   "pygments_lexer": "ipython3",
   "version": "3.13.2"
  }
 },
 "nbformat": 4,
 "nbformat_minor": 2
}
