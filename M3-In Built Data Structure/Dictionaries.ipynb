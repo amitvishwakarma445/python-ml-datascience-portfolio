{
 "cells": [
  {
   "cell_type": "markdown",
   "metadata": {},
   "source": [
    "## Introduction to Dictionary\n",
    "\n",
    "* Unordered collections of items\n",
    "* they store data in key-value pairs\n",
    "* key must be unique and immutable(eg. strings, numbers and tuples) \n",
    "* while value can be of any type\n",
    "\n",
    "  1. Creating dictionaris\n",
    "  2. Accessing dictionary elements\n",
    "  3. Modifying dictionary element\n",
    "  4. Dictionary Methods\n",
    "  5. Iteration over dictionaries\n",
    "  6. Nested Dictionaries\n",
    "  7. Dictionaries Comprehensions\n",
    "  8. Practical Example"
   ]
  },
  {
   "cell_type": "markdown",
   "metadata": {},
   "source": [
    "## 1. Creating Dictionary"
   ]
  },
  {
   "cell_type": "code",
   "execution_count": 246,
   "metadata": {},
   "outputs": [
    {
     "name": "stdout",
     "output_type": "stream",
     "text": [
      "<class 'dict'>\n"
     ]
    }
   ],
   "source": [
    "empty_dict={}\n",
    "print(type(empty_dict))"
   ]
  },
  {
   "cell_type": "code",
   "execution_count": 247,
   "metadata": {},
   "outputs": [
    {
     "name": "stdout",
     "output_type": "stream",
     "text": [
      "{}\n",
      "<class 'dict'>\n"
     ]
    }
   ],
   "source": [
    "empty_dict=dict()\n",
    "print(empty_dict)\n",
    "print(type(empty_dict))"
   ]
  },
  {
   "cell_type": "code",
   "execution_count": 248,
   "metadata": {},
   "outputs": [
    {
     "name": "stdout",
     "output_type": "stream",
     "text": [
      "{'name': 'Amit', 'age': 22, 'grade': 24}\n",
      "True\n"
     ]
    }
   ],
   "source": [
    "student={\"name\":\"Amit\", \"age\":22,\"grade\":24}\n",
    "print(student)\n",
    "\n",
    "print(\"name\" in student)  ## membership operation works to detect key is present or not"
   ]
  },
  {
   "cell_type": "markdown",
   "metadata": {},
   "source": [
    "## 2. Accessing Elements"
   ]
  },
  {
   "cell_type": "code",
   "execution_count": 249,
   "metadata": {},
   "outputs": [
    {
     "name": "stdout",
     "output_type": "stream",
     "text": [
      "A\n",
      "22\n",
      "A\n",
      "None\n"
     ]
    }
   ],
   "source": [
    "student={\"name\":\"Amit\", \"age\":22,\"grade\":\"A\"}\n",
    "\n",
    "## method 1:\n",
    "\n",
    "print(student['grade'])\n",
    "print(student['age'])\n",
    "\n",
    "## using get()\n",
    "\n",
    "print(student.get('grade'))\n",
    "print(student.get('last_name'))   ## None"
   ]
  },
  {
   "cell_type": "markdown",
   "metadata": {},
   "source": [
    "## 3. Modifying dictionary element"
   ]
  },
  {
   "cell_type": "code",
   "execution_count": 250,
   "metadata": {},
   "outputs": [
    {
     "name": "stdout",
     "output_type": "stream",
     "text": [
      "{'name': 'Amit', 'age': 22, 'grade': 'A'}\n"
     ]
    }
   ],
   "source": [
    "print(student)"
   ]
  },
  {
   "cell_type": "code",
   "execution_count": 251,
   "metadata": {},
   "outputs": [
    {
     "name": "stdout",
     "output_type": "stream",
     "text": [
      "{'name': 'Amit', 'age': 23, 'grade': 'A'}\n",
      "{'name': 'Amit', 'age': 23, 'grade': 'A', 'address': 'India'}\n"
     ]
    }
   ],
   "source": [
    "## update exist value of age\n",
    "student[\"age\"]=23\n",
    "print(student)\n",
    "\n",
    "## add new pairs\n",
    "student[\"address\"]=\"India\"\n",
    "print(student)"
   ]
  },
  {
   "cell_type": "code",
   "execution_count": 252,
   "metadata": {},
   "outputs": [
    {
     "name": "stdout",
     "output_type": "stream",
     "text": [
      "{'name': 'Amit', 'age': 23, 'grade': 'A', 'address': 'India'}\n"
     ]
    }
   ],
   "source": [
    "print(student)"
   ]
  },
  {
   "cell_type": "code",
   "execution_count": 253,
   "metadata": {},
   "outputs": [],
   "source": [
    "del student[\"grade\"]  ## delete the grade key and its vallue"
   ]
  },
  {
   "cell_type": "code",
   "execution_count": 254,
   "metadata": {},
   "outputs": [
    {
     "name": "stdout",
     "output_type": "stream",
     "text": [
      "{'name': 'Amit', 'age': 23, 'address': 'India'}\n"
     ]
    }
   ],
   "source": [
    "print(student)"
   ]
  },
  {
   "cell_type": "markdown",
   "metadata": {},
   "source": [
    "## 4. dictionary Methods"
   ]
  },
  {
   "cell_type": "code",
   "execution_count": 255,
   "metadata": {},
   "outputs": [
    {
     "name": "stdout",
     "output_type": "stream",
     "text": [
      "dict_keys(['name', 'age', 'address'])\n",
      "dict_values(['Amit', 23, 'India'])\n"
     ]
    }
   ],
   "source": [
    "keys = student.keys()   ## gives keys List of dictionary\n",
    "print(keys)\n",
    "\n",
    "values = student.values()\n",
    "print(values)   ## gives values List of dictionary"
   ]
  },
  {
   "cell_type": "code",
   "execution_count": 256,
   "metadata": {},
   "outputs": [
    {
     "name": "stdout",
     "output_type": "stream",
     "text": [
      "dict_items([('name', 'Amit'), ('age', 23), ('address', 'India')])\n"
     ]
    }
   ],
   "source": [
    "print(student.items())  ## gives tuple of all keys-values pairs into a List"
   ]
  },
  {
   "cell_type": "code",
   "execution_count": 257,
   "metadata": {},
   "outputs": [
    {
     "name": "stdout",
     "output_type": "stream",
     "text": [
      "{'name': 'Amit', 'age': 23, 'address': 'India'}\n"
     ]
    }
   ],
   "source": [
    "print(student)"
   ]
  },
  {
   "cell_type": "code",
   "execution_count": 258,
   "metadata": {},
   "outputs": [
    {
     "name": "stdout",
     "output_type": "stream",
     "text": [
      "{'name': 'Amit', 'age': 23, 'address': 'India'}\n",
      "{'name': 'Amit', 'age': 23, 'address': 'India'}\n"
     ]
    }
   ],
   "source": [
    "## shallow copy create\n",
    "\n",
    "stu_shallow_copy = student\n",
    "\n",
    "print(student)\n",
    "print(stu_shallow_copy)"
   ]
  },
  {
   "cell_type": "code",
   "execution_count": 259,
   "metadata": {},
   "outputs": [
    {
     "name": "stdout",
     "output_type": "stream",
     "text": [
      "{'name': 'Manish', 'age': 23, 'address': 'India'}\n",
      "{'name': 'Manish', 'age': 23, 'address': 'India'}\n"
     ]
    }
   ],
   "source": [
    "## if I change the name of stu_shallow_copy\n",
    "stu_shallow_copy[\"name\"] = \"Manish\"\n",
    "\n",
    "print(student)\n",
    "print(stu_shallow_copy)"
   ]
  },
  {
   "cell_type": "code",
   "execution_count": 260,
   "metadata": {},
   "outputs": [
    {
     "name": "stdout",
     "output_type": "stream",
     "text": [
      "{'name': 'Manish', 'age': 23, 'address': 'India'}\n"
     ]
    }
   ],
   "source": [
    "print(student)"
   ]
  },
  {
   "cell_type": "code",
   "execution_count": 261,
   "metadata": {},
   "outputs": [
    {
     "name": "stdout",
     "output_type": "stream",
     "text": [
      "{'name': 'Manish', 'age': 23, 'address': 'India'}\n",
      "{'name': 'Manish', 'age': 23, 'address': 'India'}\n"
     ]
    }
   ],
   "source": [
    "## Deep copy create\n",
    "\n",
    "stu_deep_copy = student.copy()\n",
    "\n",
    "print(student)\n",
    "print(stu_deep_copy)"
   ]
  },
  {
   "cell_type": "code",
   "execution_count": 262,
   "metadata": {},
   "outputs": [
    {
     "name": "stdout",
     "output_type": "stream",
     "text": [
      "{'name': 'Manish', 'age': 23, 'address': 'India'}\n",
      "{'name': 'Sheetal', 'age': 23, 'address': 'India'}\n"
     ]
    }
   ],
   "source": [
    "stu_deep_copy[\"name\"] = \"Sheetal\"\n",
    "\n",
    "print(student)\n",
    "print(stu_deep_copy)"
   ]
  },
  {
   "cell_type": "markdown",
   "metadata": {},
   "source": [
    "## 5. Iterate over Dictionary"
   ]
  },
  {
   "cell_type": "code",
   "execution_count": 263,
   "metadata": {},
   "outputs": [
    {
     "name": "stdout",
     "output_type": "stream",
     "text": [
      "{'name': 'Manish', 'age': 23, 'address': 'India'}\n"
     ]
    }
   ],
   "source": [
    "print(student)"
   ]
  },
  {
   "cell_type": "code",
   "execution_count": 264,
   "metadata": {},
   "outputs": [
    {
     "name": "stdout",
     "output_type": "stream",
     "text": [
      "name\n",
      "age\n",
      "address\n"
     ]
    }
   ],
   "source": [
    "## Iterate over keys\n",
    "\n",
    "for keys in student:\n",
    "    print(keys)"
   ]
  },
  {
   "cell_type": "code",
   "execution_count": 265,
   "metadata": {},
   "outputs": [
    {
     "name": "stdout",
     "output_type": "stream",
     "text": [
      "Manish\n",
      "23\n",
      "India\n",
      "\n",
      "Manish\n",
      "23\n",
      "India\n",
      "\n",
      "Manish\n",
      "23\n",
      "India\n"
     ]
    }
   ],
   "source": [
    "## Iterate over Value\n",
    "\n",
    "for values in student:\n",
    "    print(student[values])\n",
    "\n",
    "\n",
    "print()\n",
    "\n",
    "## or\n",
    "for values in student:\n",
    "    print(student.get(values))\n",
    "\n",
    "print()\n",
    "\n",
    "## or\n",
    "for values in student.values():\n",
    "    print(values)\n",
    "\n"
   ]
  },
  {
   "cell_type": "code",
   "execution_count": 266,
   "metadata": {},
   "outputs": [
    {
     "name": "stdout",
     "output_type": "stream",
     "text": [
      "{'name': 'Manish', 'age': 23, 'address': 'India'}\n",
      "name : Manish\n",
      "age : 23\n",
      "address : India\n",
      "\n",
      "name : Manish\n",
      "age : 23\n",
      "address : India\n"
     ]
    }
   ],
   "source": [
    "## iterate over key-value pairs\n",
    "\n",
    "print(student)\n",
    "\n",
    "for key,value in student.items():\n",
    "    print(f\"{key} : {value}\")\n",
    "\n",
    "\n",
    "## or\n",
    "print()\n",
    "\n",
    "for key in student:\n",
    "    print(f\"{key} : {student.get(key)}\")\n",
    "\n"
   ]
  },
  {
   "cell_type": "markdown",
   "metadata": {},
   "source": [
    "## 6. Nested Dictionaries"
   ]
  },
  {
   "cell_type": "code",
   "execution_count": 267,
   "metadata": {},
   "outputs": [
    {
     "name": "stdout",
     "output_type": "stream",
     "text": [
      "{'student1': {'name': 'Amit', 'age': 22, 'college': 'svn'}, 'student2': {'name': 'Manish', 'age': 20, 'college': 'gb college'}}\n"
     ]
    }
   ],
   "source": [
    "## Nested Dictionaries\n",
    "\n",
    "students = {\n",
    "    \"student1\" : {'name':\"Amit\", 'age':22, 'college':'svn'},\n",
    "    \"student2\" : {'name':\"Manish\", 'age':20, 'college':'gb college'}\n",
    "}\n",
    "print(students)"
   ]
  },
  {
   "cell_type": "code",
   "execution_count": 268,
   "metadata": {},
   "outputs": [
    {
     "name": "stdout",
     "output_type": "stream",
     "text": [
      "Amit\n",
      "20\n"
     ]
    }
   ],
   "source": [
    "## accessing Dictionaries element\n",
    "\n",
    "print(students[\"student1\"]['name'])\n",
    "print(students[\"student2\"]['age'])"
   ]
  },
  {
   "cell_type": "code",
   "execution_count": 269,
   "metadata": {},
   "outputs": [
    {
     "name": "stdout",
     "output_type": "stream",
     "text": [
      "dict_items([('student1', {'name': 'Amit', 'age': 22, 'college': 'svn'}), ('student2', {'name': 'Manish', 'age': 20, 'college': 'gb college'})])\n"
     ]
    }
   ],
   "source": [
    "print(students.items())"
   ]
  },
  {
   "cell_type": "code",
   "execution_count": 270,
   "metadata": {},
   "outputs": [
    {
     "name": "stdout",
     "output_type": "stream",
     "text": [
      "student1 : {'name': 'Amit', 'age': 22, 'college': 'svn'}\n",
      "student2 : {'name': 'Manish', 'age': 20, 'college': 'gb college'}\n"
     ]
    }
   ],
   "source": [
    "## iterating over nested dictionary\n",
    "\n",
    "for stu_id, stu_info in students.items():\n",
    "    print(f\"{stu_id} : {stu_info}\")"
   ]
  },
  {
   "cell_type": "code",
   "execution_count": 271,
   "metadata": {},
   "outputs": [
    {
     "name": "stdout",
     "output_type": "stream",
     "text": [
      "student1 : {'name': 'Amit', 'age': 22, 'college': 'svn'}\n",
      "name : Amit\n",
      "age : 22\n",
      "college : svn\n",
      "student2 : {'name': 'Manish', 'age': 20, 'college': 'gb college'}\n",
      "name : Manish\n",
      "age : 20\n",
      "college : gb college\n"
     ]
    }
   ],
   "source": [
    "## iterating over nested dictionary\n",
    "\n",
    "for stu_id, stu_info in students.items():\n",
    "    print(f\"{stu_id} : {stu_info}\")\n",
    "\n",
    "    for key,value in stu_info.items():\n",
    "        print(f\"{key} : {value}\")"
   ]
  },
  {
   "cell_type": "markdown",
   "metadata": {},
   "source": [
    "## 7. List Coprehension"
   ]
  },
  {
   "cell_type": "code",
   "execution_count": 272,
   "metadata": {},
   "outputs": [
    {
     "name": "stdout",
     "output_type": "stream",
     "text": [
      "{1: 1, 2: 4, 3: 9, 4: 16, 5: 25, 6: 36, 7: 49, 8: 64, 9: 81}\n"
     ]
    }
   ],
   "source": [
    "## numbers and their quuare\n",
    "\n",
    "squares = {num:num**2 for num in range(1,10)}\n",
    "\n",
    "print(squares)"
   ]
  },
  {
   "cell_type": "code",
   "execution_count": 273,
   "metadata": {},
   "outputs": [
    {
     "name": "stdout",
     "output_type": "stream",
     "text": [
      "{2: 4, 4: 16, 6: 36, 8: 64}\n"
     ]
    }
   ],
   "source": [
    "## even numbers and their quuare \n",
    "\n",
    "even_squares = {num:num**2 for num in range(1,10) if num%2==0}\n",
    "\n",
    "print(even_squares)"
   ]
  },
  {
   "cell_type": "markdown",
   "metadata": {},
   "source": [
    "## 8. Practical Exaples"
   ]
  },
  {
   "cell_type": "code",
   "execution_count": 274,
   "metadata": {},
   "outputs": [
    {
     "name": "stdout",
     "output_type": "stream",
     "text": [
      "{1: 3, 2: 2, 5: 3, 4: 4}\n"
     ]
    }
   ],
   "source": [
    "## count the frequenciy of element in list\n",
    "\n",
    "list = [1,1,1,2,2,2+3,4,4,4,4,5,5]\n",
    "num_freq = {}\n",
    "\n",
    "for i in list:\n",
    "    if i in num_freq:\n",
    "        num_freq[i] +=1\n",
    "    else:\n",
    "        num_freq[i] = 1\n",
    "\n",
    "print(num_freq)"
   ]
  },
  {
   "cell_type": "code",
   "execution_count": 276,
   "metadata": {},
   "outputs": [
    {
     "name": "stdout",
     "output_type": "stream",
     "text": [
      "{'a': 1, 'b': 3, 'c': 4}\n"
     ]
    }
   ],
   "source": [
    "## Merge 2 Dictionaries\n",
    "\n",
    "dict1 = {\"a\":1, \"b\":2}\n",
    "dict2 = {\"b\":3, \"c\":4}\n",
    "\n",
    "merged_dictionary = {**dict1, **dict2}\n",
    "print(merged_dictionary)"
   ]
  }
 ],
 "metadata": {
  "kernelspec": {
   "display_name": "myenv",
   "language": "python",
   "name": "python3"
  },
  "language_info": {
   "codemirror_mode": {
    "name": "ipython",
    "version": 3
   },
   "file_extension": ".py",
   "mimetype": "text/x-python",
   "name": "python",
   "nbconvert_exporter": "python",
   "pygments_lexer": "ipython3",
   "version": "3.13.2"
  }
 },
 "nbformat": 4,
 "nbformat_minor": 2
}
