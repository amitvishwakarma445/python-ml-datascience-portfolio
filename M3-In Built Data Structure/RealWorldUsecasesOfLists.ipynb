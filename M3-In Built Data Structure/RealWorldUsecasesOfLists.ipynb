{
 "cells": [
  {
   "cell_type": "markdown",
   "metadata": {},
   "source": [
    "## 1. Manage a To Do List\n",
    "\n",
    "* Create a to do list to keep track of task"
   ]
  },
  {
   "cell_type": "code",
   "execution_count": 23,
   "metadata": {},
   "outputs": [
    {
     "name": "stdout",
     "output_type": "stream",
     "text": [
      "Don't forgrt to pay the utility bills\n",
      "remaining To Do list :\n",
      "-Buy Groceries\n",
      "-Pay Bills\n",
      "-Schudule meeting\n",
      "-Go for a Run\n"
     ]
    }
   ],
   "source": [
    "to_do_list=[\"Buy Groceries\", \"Clean the House\", \"Pay Bills\"]\n",
    "\n",
    "## adding the task\n",
    "to_do_list.append(\"Schudule meeting\")\n",
    "to_do_list.append(\"Go for a Run\")\n",
    "\n",
    "## removing a completed task\n",
    "to_do_list.remove(\"Clean the House\")\n",
    "\n",
    "## checking if a task is in the list\n",
    "if \"Pay Bills\" in to_do_list:\n",
    "    print(\"Don't forgrt to pay the utility bills\")\n",
    "\n",
    "print(\"remaining To Do list :\")\n",
    "for task in to_do_list:\n",
    "    print(f\"-{task}\")"
   ]
  },
  {
   "cell_type": "markdown",
   "metadata": {},
   "source": [
    "## 2. Organising Student Grades\n",
    "\n",
    "* create a list to store and calculate average grade for a student"
   ]
  },
  {
   "cell_type": "code",
   "execution_count": 24,
   "metadata": {},
   "outputs": [
    {
     "name": "stdout",
     "output_type": "stream",
     "text": [
      "average Grade is : 88.00\n",
      "hightest grade :  95\n",
      "lowest grade :  78\n"
     ]
    }
   ],
   "source": [
    "grades = [85, 92, 78, 90, 88]\n",
    "\n",
    "## adding new grade\n",
    "grades.append(95)\n",
    "\n",
    "## calculate the average grade\n",
    "average_grade = sum(grades)/len(grades)\n",
    "print(f\"average Grade is : {average_grade:.2f}\")\n",
    "\n",
    "## finding the hightest grade and lowest grade\n",
    "hightest_grade = max(grades)\n",
    "lowest_grade = min(grades)\n",
    "print(\"hightest grade : \",hightest_grade)\n",
    "print(\"lowest grade : \",lowest_grade)"
   ]
  },
  {
   "cell_type": "markdown",
   "metadata": {},
   "source": [
    "## managing a Inventory\n",
    "\n",
    "* Use a list to manage inventory items in a store"
   ]
  },
  {
   "cell_type": "code",
   "execution_count": 25,
   "metadata": {},
   "outputs": [
    {
     "name": "stdout",
     "output_type": "stream",
     "text": [
      "orange is on stoke\n",
      "inventory List:\n",
      "-apples\n",
      "-orange\n",
      "-grapes\n",
      "-strawberries\n"
     ]
    }
   ],
   "source": [
    "inventory = [\"apples\", \"bananas\", \"orange\", \"grapes\"]\n",
    "\n",
    "## adding new item\n",
    "inventory.append(\"strawberries\")\n",
    "\n",
    "## removing a item that is out of stoke\n",
    "inventory.remove(\"bananas\")\n",
    "\n",
    "## checking if a item in the stoke\n",
    "item = \"orange\"\n",
    "if item in inventory:\n",
    "    print(item,\"is on stoke\")\n",
    "else:\n",
    "    print(item,\"is out of stoke\")\n",
    "\n",
    "## printing the inventory\n",
    "print(\"inventory List:\")\n",
    "for item in inventory:\n",
    "    print(f\"-{item}\")"
   ]
  },
  {
   "cell_type": "markdown",
   "metadata": {},
   "source": [
    "## User feedback\n",
    "\n",
    "* Collect and analyze user feedback"
   ]
  },
  {
   "cell_type": "code",
   "execution_count": 27,
   "metadata": {},
   "outputs": [
    {
     "name": "stdout",
     "output_type": "stream",
     "text": [
      "positive feedback count : 2\n",
      "All feedbacks are:\n",
      "--Great service!\n",
      "--Very Satisfied\n",
      "--could be better\n",
      "--Excellent experience\n",
      "--Not happy with the service\n"
     ]
    }
   ],
   "source": [
    "## collecting user feedback\n",
    "feedback = [\"Great service!\", \"Very Satisfied\", \"could be better\", \"Excellent experience\"]\n",
    "\n",
    "## adding feedback\n",
    "feedback.append(\"Not happy with the service\")\n",
    "\n",
    "## count specific feedback\n",
    "positive_feedback_count = sum(1 for comment in feedback if \"great\" in comment.lower() or \"excellent\" in comment.lower())\n",
    "print(f\"positive feedback count : {positive_feedback_count}\")\n",
    "\n",
    "## print all feedback\n",
    "print(\"All feedbacks are:\")\n",
    "for comment in feedback:\n",
    "    print(f\"--{comment}\")"
   ]
  }
 ],
 "metadata": {
  "kernelspec": {
   "display_name": "myenv",
   "language": "python",
   "name": "python3"
  },
  "language_info": {
   "codemirror_mode": {
    "name": "ipython",
    "version": 3
   },
   "file_extension": ".py",
   "mimetype": "text/x-python",
   "name": "python",
   "nbconvert_exporter": "python",
   "pygments_lexer": "ipython3",
   "version": "3.13.2"
  }
 },
 "nbformat": 4,
 "nbformat_minor": 2
}
