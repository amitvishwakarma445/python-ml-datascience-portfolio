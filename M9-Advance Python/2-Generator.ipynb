{
 "cells": [
  {
   "cell_type": "markdown",
   "metadata": {},
   "source": [
    "## Generayor in python\n",
    "\n",
    "* generator is function that produces a sequence of values lazily, once at a time, rather than storing them all in memory at once like a list.\n",
    "* it used *yield* keyword to produce value\n",
    "  \n",
    "#### yield :\n",
    "* The yield keyword is used to return a list of values from a function.\n",
    "* *return* keyword which stops further execution of the function, while the yield keyword continues to the end of the function."
   ]
  },
  {
   "cell_type": "code",
   "execution_count": 25,
   "metadata": {},
   "outputs": [
    {
     "name": "stdout",
     "output_type": "stream",
     "text": [
      "1\n",
      "4\n",
      "9\n"
     ]
    }
   ],
   "source": [
    "def square(n):\n",
    "    for i in range(1, n+1):\n",
    "        yield i*i\n",
    "    \n",
    "\n",
    "num = square(3)\n",
    "print(next(num))\n",
    "print(next(num))\n",
    "print(next(num))"
   ]
  },
  {
   "cell_type": "code",
   "execution_count": 26,
   "metadata": {},
   "outputs": [
    {
     "name": "stdout",
     "output_type": "stream",
     "text": [
      "1\n",
      "1\n",
      "1\n"
     ]
    }
   ],
   "source": [
    "## using return keyword\n",
    "\n",
    "def square(n):\n",
    "    for i in range(1, n+1):\n",
    "        return i*i\n",
    "    \n",
    "    \n",
    "num = square(3)\n",
    "\n",
    "print(num)\n",
    "print(num)\n",
    "print(num)"
   ]
  },
  {
   "cell_type": "markdown",
   "metadata": {},
   "source": [
    "#### 1. return\n",
    "* Used in regular functions.\n",
    "* Immediately terminates the function.\n",
    "* Returns a single value (or multiple values as a tuple).\n",
    "* Once a function returns, its state is not remembered.\n",
    "\n",
    "#### 2. yield\n",
    "* Used in generator functions.\n",
    "* Does not terminate the function; it pauses execution and remembers its state.\n",
    "* Returns values one at a time, making it memory efficient.\n",
    "* Can be used in loops to generate a sequence."
   ]
  },
  {
   "cell_type": "code",
   "execution_count": 30,
   "metadata": {},
   "outputs": [
    {
     "name": "stdout",
     "output_type": "stream",
     "text": [
      "1\n",
      "2\n"
     ]
    }
   ],
   "source": [
    "def my_generator():\n",
    "    yield 1\n",
    "    yield 2\n",
    "    yield 3\n",
    "\n",
    "num = my_generator()\n",
    "print(next(num))\n",
    "print(next(num))"
   ]
  },
  {
   "cell_type": "code",
   "execution_count": 28,
   "metadata": {},
   "outputs": [
    {
     "name": "stdout",
     "output_type": "stream",
     "text": [
      "1\n",
      "2\n",
      "3\n"
     ]
    }
   ],
   "source": [
    "numbers = my_generator()\n",
    "for num in numbers:\n",
    "    print(num)"
   ]
  },
  {
   "cell_type": "code",
   "execution_count": 31,
   "metadata": {},
   "outputs": [
    {
     "name": "stdout",
     "output_type": "stream",
     "text": [
      "When to use yield instead of return in Python?\n",
      "\n",
      "The yield statement suspends a functionâ€™s execution and sends a value back to the caller,\n",
      "but retains enough state to enable the function to resume where it left off.\n",
      "When the function resumes, it continues execution immediately after the last yield run.\n",
      "This allows its code to produce a series of values over time,\n",
      "rather than computing them at once and sending them back like a list.\n"
     ]
    }
   ],
   "source": [
    "### practical :- Read large file\n",
    "\n",
    "def read_large_file(file_path):\n",
    "    with open(file_path, 'r') as file:\n",
    "        for line in file:\n",
    "            yield line\n",
    "\n",
    "\n",
    "file_path = 'yield_demo.txt'\n",
    "for line in read_large_file(file_path):\n",
    "    print(line.strip())"
   ]
  },
  {
   "cell_type": "code",
   "execution_count": 34,
   "metadata": {},
   "outputs": [
    {
     "name": "stdout",
     "output_type": "stream",
     "text": [
      "When to use yield instead of return in Python?\n",
      "\n",
      "The yield statement suspends a functionâ€™s execution and sends a value back to the caller,\n",
      "but retains enough state to enable the function to resume where it left off.\n"
     ]
    }
   ],
   "source": [
    "### practical :- Read large file\n",
    "\n",
    "def read_large_file(file_path):\n",
    "    with open(file_path, 'r') as file:\n",
    "        for line in file:\n",
    "            yield line\n",
    "\n",
    "\n",
    "file_path = 'yield_demo.txt'\n",
    "line = read_large_file(file_path)\n",
    "print(next(line).strip())\n",
    "print(next(line).strip())\n",
    "print(next(line).strip())\n",
    "print(next(line).strip())"
   ]
  },
  {
   "cell_type": "code",
   "execution_count": null,
   "metadata": {},
   "outputs": [],
   "source": []
  }
 ],
 "metadata": {
  "kernelspec": {
   "display_name": "myenv",
   "language": "python",
   "name": "python3"
  },
  "language_info": {
   "codemirror_mode": {
    "name": "ipython",
    "version": 3
   },
   "file_extension": ".py",
   "mimetype": "text/x-python",
   "name": "python",
   "nbconvert_exporter": "python",
   "pygments_lexer": "ipython3",
   "version": "3.13.2"
  }
 },
 "nbformat": 4,
 "nbformat_minor": 2
}
