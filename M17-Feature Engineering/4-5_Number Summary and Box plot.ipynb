{
 "cells": [
  {
   "cell_type": "markdown",
   "id": "d7724381",
   "metadata": {},
   "source": [
    "## 5 Number Summary and Box Plot\n",
    "\n",
    "1. Minimum – The smallest value in the dataset\n",
    "2. First Quartile (Q1) – The 25th percentile (25% of data is below this)\n",
    "3. Median (Q2) – The middle value (50th percentile)\n",
    "4. Third Quartile (Q3) – The 75th percentile (75% of data is below this)\n",
    "5. Maximum – The largest value in the dataset\n",
    "\n",
    "* IQR (Interquartile Range):- \n",
    "It measures the spread of the middle 50% of a dataset — that is, the range between the first quartile (Q1) and the third quartile (Q3).\n",
    "\n",
    "### Formula\n",
    "* IQR = Q3 − Q1\n",
    "* A value is an outlier if:\n",
    "  * [Value < Q1−1.5 × IQR]  or  [Value> Q3 + 1.5 × IQR]"
   ]
  },
  {
   "cell_type": "code",
   "execution_count": 2,
   "id": "dc30e105",
   "metadata": {},
   "outputs": [],
   "source": [
    "import numpy as np\n",
    "\n",
    "lst_marks = [45,32,56,75,89,54,32,89,90,87,67,54,45,98,99,67,74]\n",
    "\n",
    "## calculate 5 numbers\n",
    "minimum, Q1, medium, Q3 ,maximum = np.quantile(lst_marks, [0, 0.25, 0.50, 0.75, 1.0])"
   ]
  },
  {
   "cell_type": "code",
   "execution_count": 5,
   "id": "381737cc",
   "metadata": {},
   "outputs": [
    {
     "name": "stdout",
     "output_type": "stream",
     "text": [
      "32.0 54.0 67.0 89.0 99.0\n"
     ]
    }
   ],
   "source": [
    "print(minimum, Q1, medium, Q3, maximum)"
   ]
  },
  {
   "cell_type": "code",
   "execution_count": 6,
   "id": "9a0dd0cf",
   "metadata": {},
   "outputs": [
    {
     "name": "stdout",
     "output_type": "stream",
     "text": [
      "35.0\n"
     ]
    }
   ],
   "source": [
    "IQR = Q3-Q1\n",
    "print(IQR)"
   ]
  },
  {
   "cell_type": "code",
   "execution_count": 7,
   "id": "3a715386",
   "metadata": {},
   "outputs": [],
   "source": [
    "lower_fence = Q1-1.5*IQR\n",
    "\n",
    "higher_fence = Q3+1.5*IQR"
   ]
  },
  {
   "cell_type": "code",
   "execution_count": 8,
   "id": "bca412a5",
   "metadata": {},
   "outputs": [
    {
     "data": {
      "text/plain": [
       "np.float64(1.5)"
      ]
     },
     "execution_count": 8,
     "metadata": {},
     "output_type": "execute_result"
    }
   ],
   "source": [
    "lower_fence"
   ]
  },
  {
   "cell_type": "code",
   "execution_count": 9,
   "id": "5e838cf7",
   "metadata": {},
   "outputs": [
    {
     "data": {
      "text/plain": [
       "np.float64(141.5)"
      ]
     },
     "execution_count": 9,
     "metadata": {},
     "output_type": "execute_result"
    }
   ],
   "source": [
    "higher_fence"
   ]
  },
  {
   "cell_type": "markdown",
   "id": "cad6b9c3",
   "metadata": {},
   "source": [
    "## Box plot"
   ]
  },
  {
   "cell_type": "code",
   "execution_count": 15,
   "id": "4c34be02",
   "metadata": {},
   "outputs": [
    {
     "data": {
      "text/plain": [
       "<Axes: >"
      ]
     },
     "execution_count": 15,
     "metadata": {},
     "output_type": "execute_result"
    },
    {
     "data": {
      "image/png": "[encoded data removed]",
      "text/plain": [
       "<Figure size 640x480 with 1 Axes>"
      ]
     },
     "metadata": {},
     "output_type": "display_data"
    }
   ],
   "source": [
    "import seaborn as sns\n",
    "\n",
    "sns.boxplot(lst_marks)"
   ]
  },
  {
   "cell_type": "markdown",
   "id": "273f83f8",
   "metadata": {},
   "source": [
    "## Example included with Outliers"
   ]
  },
  {
   "cell_type": "code",
   "execution_count": 18,
   "id": "5e8fa13b",
   "metadata": {},
   "outputs": [],
   "source": [
    "lst_marks = [-12,-32-87,45,32,56,75,89,54,32,89,90,87,67,54,45,98,99,67,74, 150, 163, 190]"
   ]
  },
  {
   "cell_type": "code",
   "execution_count": 19,
   "id": "cca6a6b5",
   "metadata": {},
   "outputs": [
    {
     "data": {
      "text/plain": [
       "<Axes: >"
      ]
     },
     "execution_count": 19,
     "metadata": {},
     "output_type": "execute_result"
    },
    {
     "data": {
      "image/png": "[encoded data removed]",
      "text/plain": [
       "<Figure size 640x480 with 1 Axes>"
      ]
     },
     "metadata": {},
     "output_type": "display_data"
    }
   ],
   "source": [
    "sns.boxplot(lst_marks)"
   ]
  },
  {
   "cell_type": "code",
   "execution_count": null,
   "id": "81adf3da",
   "metadata": {},
   "outputs": [],
   "source": []
  }
 ],
 "metadata": {
  "kernelspec": {
   "display_name": "myenv",
   "language": "python",
   "name": "python3"
  },
  "language_info": {
   "codemirror_mode": {
    "name": "ipython",
    "version": 3
   },
   "file_extension": ".py",
   "mimetype": "text/x-python",
   "name": "python",
   "nbconvert_exporter": "python",
   "pygments_lexer": "ipython3",
   "version": "3.13.2"
  }
 },
 "nbformat": 4,
 "nbformat_minor": 5
}
