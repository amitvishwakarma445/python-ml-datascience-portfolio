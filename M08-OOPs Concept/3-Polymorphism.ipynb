{
 "cells": [
  {
   "cell_type": "markdown",
   "metadata": {},
   "source": [
    "## polymorphism In Python\n",
    "\n",
    "* polymorphism = Multiple + form\n",
    "\n",
    "* polymorphism occur using *method over riding* and *method over loading*"
   ]
  },
  {
   "cell_type": "markdown",
   "metadata": {},
   "source": [
    "### *Method Overriding*\n",
    "\n",
    "* method overriding allows a child class to provide a specific implementation of a method that is already  defined in its parent class"
   ]
  },
  {
   "cell_type": "code",
   "execution_count": 2,
   "metadata": {},
   "outputs": [
    {
     "name": "stdout",
     "output_type": "stream",
     "text": [
      "Woof!\n",
      "Meow!\n",
      "animal is sounding\n"
     ]
    }
   ],
   "source": [
    "## base class\n",
    "\n",
    "class Animal:\n",
    "    def speak(self):\n",
    "        return \"animal is sounding\"\n",
    "    \n",
    "## derived class \n",
    "class Dog(Animal):\n",
    "    def speak(self):\n",
    "        return \"Woof!\"\n",
    "    \n",
    "## derived class \n",
    "class Cat(Animal):\n",
    "    def speak(self):\n",
    "        return \"Meow!\"\n",
    "    \n",
    "\n",
    "\n",
    "## function that demostrate polymorphism\n",
    "def anaimal_speak(animal_object_name):\n",
    "    print(animal_object_name.speak())\n",
    "\n",
    "\n",
    "dog = Dog()\n",
    "print(dog.speak())\n",
    "\n",
    "cat = Cat()\n",
    "anaimal_speak(cat)\n",
    "\n",
    "lion = Animal()\n",
    "anaimal_speak(lion)\n"
   ]
  },
  {
   "cell_type": "code",
   "execution_count": null,
   "metadata": {},
   "outputs": [
    {
     "name": "stdout",
     "output_type": "stream",
     "text": [
      "20\n",
      "50.24\n"
     ]
    }
   ],
   "source": [
    "## polymorphism with function and method\n",
    "\n",
    "## base class\n",
    "class Shape:\n",
    "    def area(self):\n",
    "        return \"the area of shape\"\n",
    "    \n",
    "## derived class1\n",
    "class Rectangle(Shape):\n",
    "    def __init__(self, width, height):\n",
    "        self.width = width\n",
    "        self.height = height\n",
    "\n",
    "    def area(self):\n",
    "        return self.height*self.width\n",
    "    \n",
    "## derived class2\n",
    "class Circle(Shape):\n",
    "    def __init__(self, radius):\n",
    "        self.radius = radius\n",
    "\n",
    "    def area(self):\n",
    "        return 3.14*self.radius*self.radius\n",
    "    \n",
    "\n",
    "## function demonstrate the polymorphism\n",
    "def print_area(obj_shape):\n",
    "    print(obj_shape.area())\n",
    "\n",
    "\n",
    "rectangle = Rectangle(4,5)\n",
    "print_area(rectangle)\n",
    "\n",
    "circle = Circle(4)\n",
    "print_area(circle)"
   ]
  },
  {
   "cell_type": "markdown",
   "metadata": {},
   "source": [
    "## Polymorphism with Abstact Base classes\n",
    "\n",
    "* Abstract Base Classes (ABC's) are used are used to define common methods for a group of related object\n",
    "* they can enforce that derived classes implement particular methods, promoting consistency across different implementations"
   ]
  },
  {
   "cell_type": "code",
   "execution_count": null,
   "metadata": {},
   "outputs": [
    {
     "name": "stdout",
     "output_type": "stream",
     "text": [
      "Car engine started\n",
      "Motercycle engine started\n"
     ]
    }
   ],
   "source": [
    "from abc import ABC, abstractmethod\n",
    "\n",
    "## define a abstact class\n",
    "class Vehicle(ABC):   ## aabstract class\n",
    "    @abstractmethod # decorator(difine the abstract function)\n",
    "    def start_engine(self):\n",
    "        pass\n",
    "\n",
    "\n",
    "## Drived class\n",
    "class Car(Vehicle):\n",
    "    def start_engine(self):\n",
    "        return \"Car engine started\"\n",
    "    \n",
    "## Derived class 2\n",
    "class Motercycle(Vehicle):\n",
    "    def start_engine(self):\n",
    "        return \"Motercycle engine started\"\n",
    "\n",
    "\n",
    "\n",
    "## fuction that demonstrate polymorphism\n",
    "def start_vehicle(vehicle):\n",
    "    print(vehicle.start_engine())\n",
    "\n",
    "\n",
    "## create objects car and Motercycle\n",
    "car = Car()\n",
    "start_vehicle(car)\n",
    "\n",
    "motercycle = Motercycle()\n",
    "start_vehicle(motercycle)"
   ]
  },
  {
   "cell_type": "code",
   "execution_count": null,
   "metadata": {},
   "outputs": [],
   "source": []
  }
 ],
 "metadata": {
  "kernelspec": {
   "display_name": "myenv",
   "language": "python",
   "name": "python3"
  },
  "language_info": {
   "codemirror_mode": {
    "name": "ipython",
    "version": 3
   },
   "file_extension": ".py",
   "mimetype": "text/x-python",
   "name": "python",
   "nbconvert_exporter": "python",
   "pygments_lexer": "ipython3",
   "version": "3.13.2"
  }
 },
 "nbformat": 4,
 "nbformat_minor": 2
}
