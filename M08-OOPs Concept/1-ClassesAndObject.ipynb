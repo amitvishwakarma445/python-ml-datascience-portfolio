{
 "cells": [
  {
   "cell_type": "markdown",
   "metadata": {},
   "source": [
    "## Classes and object"
   ]
  },
  {
   "cell_type": "code",
   "execution_count": 18,
   "metadata": {},
   "outputs": [
    {
     "name": "stdout",
     "output_type": "stream",
     "text": [
      "<class 'type'>\n"
     ]
    }
   ],
   "source": [
    "## a class is a blueprint of objects. attribute and methods\n",
    "\n",
    "class Car:\n",
    "    pass\n",
    "\n",
    "print(type(Car))"
   ]
  },
  {
   "cell_type": "code",
   "execution_count": null,
   "metadata": {},
   "outputs": [
    {
     "name": "stdout",
     "output_type": "stream",
     "text": [
      "buddy\n",
      "3\n",
      "\n",
      "Hira age is 2\n"
     ]
    }
   ],
   "source": [
    "## instance variable and method\n",
    "\n",
    "class Dog:\n",
    "    ## constructor\n",
    "    def __init__(self, nm, ag):\n",
    "        self.name = nm\n",
    "        self.age = ag\n",
    "\n",
    "## create object of dog\n",
    "dog1 = Dog('buddy', 3)\n",
    "print(dog1.name)\n",
    "print(dog1.age)\n",
    "\n",
    "print()\n",
    "\n",
    "dog2 = Dog('Hira', 2)\n",
    "print(f\"{dog2.name} age is {dog2.age}\")"
   ]
  },
  {
   "cell_type": "code",
   "execution_count": 20,
   "metadata": {},
   "outputs": [
    {
     "name": "stdout",
     "output_type": "stream",
     "text": [
      "pussy is saying woof\n",
      "'name':pussy, 'age':3\n"
     ]
    }
   ],
   "source": [
    "## Define a class with instance Methods\n",
    "\n",
    "class Dog:\n",
    "    def __init__(self, name, age):\n",
    "        self.name = name\n",
    "        self.age = age\n",
    "    \n",
    "    def bark(self):\n",
    "        return f'{self.name} is saying woof'\n",
    "    \n",
    "    def get_detail(self):\n",
    "        return f\"'name':{self.name}, 'age':{self.age}\"\n",
    "    \n",
    "\n",
    "## calling method\n",
    "dog3 = Dog('pussy', 3)\n",
    "print(dog3.bark())\n",
    "\n",
    "print(dog3.get_detail())"
   ]
  },
  {
   "cell_type": "code",
   "execution_count": 25,
   "metadata": {},
   "outputs": [
    {
     "name": "stdout",
     "output_type": "stream",
     "text": [
      "Amit has 1000 rs.\n",
      "1500 is deposite. New balance is 2500 rs.\n",
      "Amit\n",
      "2500\n",
      "Amit has 2500 rs.\n",
      "500 is withdrawed. New balance is 2000 rs.\n",
      "Amit has 2000 rs.\n"
     ]
    }
   ],
   "source": [
    "## Modeling a banck account\n",
    "\n",
    "class BankAccount:\n",
    "    def __init__(self, owner, balance=0):\n",
    "        self.owner = owner\n",
    "        self.balance = balance\n",
    "    \n",
    "    def deposite(self, amount):\n",
    "        self.balance += amount\n",
    "        print(f\"{amount} is deposite. New balance is {self.balance} rs.\")\n",
    "    \n",
    "    def withdraw(self, amount):\n",
    "        if self.balance < amount :\n",
    "            return f\"Insufficient balance\"\n",
    "        else:\n",
    "            self.balance -= amount\n",
    "            print(f\"{amount} is withdrawed. New balance is {self.balance} rs.\")\n",
    "        \n",
    "    def get_detail(self):\n",
    "        print(f\"{self.owner} has {self.balance} rs.\")\n",
    "\n",
    "\n",
    "## create an account\n",
    "account = BankAccount('Amit', 1000)\n",
    "account.get_detail()\n",
    "\n",
    "account.deposite(1500)\n",
    "print(account.owner)\n",
    "print(account.balance)\n",
    "\n",
    "account.get_detail()\n",
    "account.withdraw(500)\n",
    "account.get_detail()"
   ]
  }
 ],
 "metadata": {
  "kernelspec": {
   "display_name": "myenv",
   "language": "python",
   "name": "python3"
  },
  "language_info": {
   "codemirror_mode": {
    "name": "ipython",
    "version": 3
   },
   "file_extension": ".py",
   "mimetype": "text/x-python",
   "name": "python",
   "nbconvert_exporter": "python",
   "pygments_lexer": "ipython3",
   "version": "3.13.2"
  }
 },
 "nbformat": 4,
 "nbformat_minor": 2
}
