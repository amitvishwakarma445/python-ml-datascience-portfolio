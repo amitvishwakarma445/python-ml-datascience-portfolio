{
 "cells": [
  {
   "cell_type": "markdown",
   "metadata": {},
   "source": [
    "## Magic method\n",
    "\n",
    "* called also \"dunder method (duble underscore methods)\"\n",
    "* are special method that start and end with double underscore\n",
    "* these method enable you to difine the behaviour of objects for built-in operations, such as arithmethics, comparison, and more."
   ]
  },
  {
   "cell_type": "markdown",
   "metadata": {},
   "source": [
    "## Magic method\n",
    "\n",
    "* magic method are predefined methods in pyhton that you can override to change the behaviour of your objects.\n",
    "* some common magic methods are :-"
   ]
  },
  {
   "cell_type": "code",
   "execution_count": 1,
   "metadata": {},
   "outputs": [],
   "source": [
    "## __init__()   : initialize new instance(global variable) of a class\n",
    "## __str__()    : retrun a string repersentation of an object\n",
    "## __repr__()   : return an official string repersentation of an object\n",
    "## __len__()    : return a length of an object\n",
    "## __getitem__(): gets an item from a container\n",
    "## __setitem__(): sets an item in a container"
   ]
  },
  {
   "cell_type": "code",
   "execution_count": 2,
   "metadata": {},
   "outputs": [
    {
     "data": {
      "text/plain": [
       "['__class__',\n",
       " '__delattr__',\n",
       " '__dict__',\n",
       " '__dir__',\n",
       " '__doc__',\n",
       " '__eq__',\n",
       " '__firstlineno__',\n",
       " '__format__',\n",
       " '__ge__',\n",
       " '__getattribute__',\n",
       " '__getstate__',\n",
       " '__gt__',\n",
       " '__hash__',\n",
       " '__init__',\n",
       " '__init_subclass__',\n",
       " '__le__',\n",
       " '__lt__',\n",
       " '__module__',\n",
       " '__ne__',\n",
       " '__new__',\n",
       " '__reduce__',\n",
       " '__reduce_ex__',\n",
       " '__repr__',\n",
       " '__setattr__',\n",
       " '__sizeof__',\n",
       " '__static_attributes__',\n",
       " '__str__',\n",
       " '__subclasshook__',\n",
       " '__weakref__']"
      ]
     },
     "execution_count": 2,
     "metadata": {},
     "output_type": "execute_result"
    }
   ],
   "source": [
    "class Person:\n",
    "    pass\n",
    "\n",
    "person = Person()\n",
    "dir(person)"
   ]
  },
  {
   "cell_type": "code",
   "execution_count": 3,
   "metadata": {},
   "outputs": [
    {
     "name": "stdout",
     "output_type": "stream",
     "text": [
      "<__main__.Person object at 0x0000027FE4548050>\n"
     ]
    }
   ],
   "source": [
    "print(person)"
   ]
  },
  {
   "cell_type": "code",
   "execution_count": null,
   "metadata": {},
   "outputs": [
    {
     "name": "stdout",
     "output_type": "stream",
     "text": [
      "name = amit : age = 22\n",
      "person(name=amit, age=22)\n",
      "4\n"
     ]
    }
   ],
   "source": [
    "## Basic methods\n",
    "\n",
    "class Person:\n",
    "    def __init__(self, name, age):\n",
    "        self.name = name\n",
    "        self.age = age\n",
    "    \n",
    "    ## __str__()    : retrun a string repersentation of an object\n",
    "    def __str__(self):\n",
    "        return f\"name = {self.name} : age = {self.age}\"\n",
    "    \n",
    "    ## __repr__()   : return an official string repersentation of an object\n",
    "    def __repr__(self):\n",
    "        return f\"person(name={self.name}, age={self.age})\"\n",
    "    \n",
    "    def __len__(self):\n",
    "        return len(self.name)\n",
    "    \n",
    "     \n",
    "person = Person(\"amit\", 22)\n",
    "print(person)\n",
    "\n",
    "print(repr(person))\n",
    "print(len(person))"
   ]
  }
 ],
 "metadata": {
  "kernelspec": {
   "display_name": "myenv",
   "language": "python",
   "name": "python3"
  },
  "language_info": {
   "codemirror_mode": {
    "name": "ipython",
    "version": 3
   },
   "file_extension": ".py",
   "mimetype": "text/x-python",
   "name": "python",
   "nbconvert_exporter": "python",
   "pygments_lexer": "ipython3",
   "version": "3.13.2"
  }
 },
 "nbformat": 4,
 "nbformat_minor": 2
}
