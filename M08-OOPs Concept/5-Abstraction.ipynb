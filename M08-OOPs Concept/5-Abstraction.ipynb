{
 "cells": [
  {
   "cell_type": "markdown",
   "metadata": {},
   "source": [
    "## Abstraction\n",
    " \n",
    "* Abstraction involve hiding the complex implementation details.\n",
    "* and exposing only the necessary features."
   ]
  },
  {
   "cell_type": "code",
   "execution_count": null,
   "metadata": {},
   "outputs": [
    {
     "name": "stdout",
     "output_type": "stream",
     "text": [
      "vehicle is going to start.\n",
      "Car engine started\n",
      "vehicle is going to start.\n",
      "Motercycle engine started\n"
     ]
    }
   ],
   "source": [
    "from abc import ABC, abstractmethod\n",
    "\n",
    "## define a abstact class\n",
    "class Vehicle(ABC):  ## abstract class\n",
    "\n",
    "    def _driving():\n",
    "        print(\"vehicle is going to start.\")\n",
    "\n",
    "    @abstractmethod # decorator(difine the abstract function)\n",
    "    def start_engine(self):\n",
    "        pass\n",
    "\n",
    "\n",
    "## Drived class\n",
    "class Car(Vehicle):\n",
    "    def start_engine(self):\n",
    "        return \"Car engine started\"\n",
    "    \n",
    "## Derived class 2\n",
    "class Motercycle(Vehicle):\n",
    "    def start_engine(self):\n",
    "        return \"Motercycle engine started\"\n",
    "\n",
    "\n",
    "\n",
    "## fuction that demonstrate polymorphism\n",
    "def start_vehicle(vehicle):\n",
    "    Vehicle._driving()\n",
    "    print(vehicle.start_engine())\n",
    "\n",
    "\n",
    "## create objects car and Motercycle\n",
    "car = Car()\n",
    "start_vehicle(car)\n",
    "\n",
    "motercycle = Motercycle()\n",
    "start_vehicle(motercycle)"
   ]
  },
  {
   "cell_type": "code",
   "execution_count": null,
   "metadata": {},
   "outputs": [],
   "source": []
  }
 ],
 "metadata": {
  "kernelspec": {
   "display_name": "myenv",
   "language": "python",
   "name": "python3"
  },
  "language_info": {
   "codemirror_mode": {
    "name": "ipython",
    "version": 3
   },
   "file_extension": ".py",
   "mimetype": "text/x-python",
   "name": "python",
   "nbconvert_exporter": "python",
   "pygments_lexer": "ipython3",
   "version": "3.13.2"
  }
 },
 "nbformat": 4,
 "nbformat_minor": 2
}
