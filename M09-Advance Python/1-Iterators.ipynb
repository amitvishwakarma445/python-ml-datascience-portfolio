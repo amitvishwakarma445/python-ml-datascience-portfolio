{
 "cells": [
  {
   "cell_type": "markdown",
   "metadata": {},
   "source": [
    "## Iterators in Python\n",
    "\n",
    "* An iterator in Python is an object that holds a sequence of values and provide sequential traversal through a collection of items such as lists, tuples and dictionaries.\n",
    "* The Python iterators object is initialized using the *iter()* method. It uses the *next()* method for iteration.\n",
    "  \n",
    "1. <pre>__iter__(): __iter__() method initializes and returns the iterator object itself.\n",
    "2. <pre>__next__(): the __next__() method retrieves the next available item, throwing a StopIteration exception when no more items are available."
   ]
  },
  {
   "cell_type": "markdown",
   "metadata": {},
   "source": [
    "## Creating an iterator\n",
    "\n",
    "<pre>Creating a custom iterator in Python involves defining a class that implements the__iter__() and __next__().\n",
    "\n",
    "1. Define the Class: Start by defining a class that will act as the iterator.\n",
    "   \n",
    "2. Initialize Attributes: In the __init__() method of the class, initialize any required\n",
    "    attributes that will be used throughout the iteration process.\n",
    "\n",
    "3. Implement __iter__(): This method should return the iterator object itself.\n",
    "    This is usually as simple as returning self.\n",
    "\n",
    "4. Implement __next__(): This method should provide the next item in the sequence\n",
    "    each time it’s called.</pre>"
   ]
  },
  {
   "cell_type": "code",
   "execution_count": 17,
   "metadata": {},
   "outputs": [
    {
     "name": "stdout",
     "output_type": "stream",
     "text": [
      "1\n",
      "2\n",
      "3\n",
      "4\n"
     ]
    }
   ],
   "source": [
    "my_list = [1,2,3,4,5]\n",
    "iterator = iter(my_list)\n",
    "\n",
    "print(next(iterator))\n",
    "print(next(iterator))\n",
    "print(next(iterator))\n",
    "print(next(iterator))"
   ]
  },
  {
   "cell_type": "code",
   "execution_count": 19,
   "metadata": {},
   "outputs": [
    {
     "name": "stdout",
     "output_type": "stream",
     "text": [
      "A\n",
      "m\n",
      "i\n",
      "t\n"
     ]
    },
    {
     "ename": "StopIteration",
     "evalue": "",
     "output_type": "error",
     "traceback": [
      "\u001b[1;31m---------------------------------------------------------------------------\u001b[0m",
      "\u001b[1;31mStopIteration\u001b[0m                             Traceback (most recent call last)",
      "Cell \u001b[1;32mIn[19], line 8\u001b[0m\n\u001b[0;32m      6\u001b[0m \u001b[38;5;28mprint\u001b[39m(\u001b[38;5;28mnext\u001b[39m(iterator))\n\u001b[0;32m      7\u001b[0m \u001b[38;5;28mprint\u001b[39m(\u001b[38;5;28mnext\u001b[39m(iterator))\n\u001b[1;32m----> 8\u001b[0m \u001b[38;5;28mprint\u001b[39m(\u001b[38;5;28;43mnext\u001b[39;49m\u001b[43m(\u001b[49m\u001b[43miterator\u001b[49m\u001b[43m)\u001b[49m)\n",
      "\u001b[1;31mStopIteration\u001b[0m: "
     ]
    }
   ],
   "source": [
    "my_str = \"Amit\"\n",
    "iterator = iter(my_str)\n",
    "\n",
    "print(next(iterator))\n",
    "print(next(iterator))\n",
    "print(next(iterator))\n",
    "print(next(iterator))\n",
    "print(next(iterator))"
   ]
  },
  {
   "cell_type": "code",
   "execution_count": 21,
   "metadata": {},
   "outputs": [
    {
     "name": "stdout",
     "output_type": "stream",
     "text": [
      "A\n",
      "m\n",
      "i\n",
      "t\n",
      "all items are printed now iterator has empty item\n"
     ]
    }
   ],
   "source": [
    "my_str = \"Amit\"\n",
    "iterator = iter(my_str)\n",
    "\n",
    "try:\n",
    "    while True:\n",
    "        print(next(iterator))\n",
    "except StopIteration:\n",
    "    print(\"all items are printed now iterator has empty item\")"
   ]
  },
  {
   "cell_type": "code",
   "execution_count": null,
   "metadata": {},
   "outputs": [
    {
     "name": "stdout",
     "output_type": "stream",
     "text": [
      "<__main__.MyIterator object at 0x0000023CA73C12B0>\n",
      "10\n",
      "20\n",
      "30\n"
     ]
    }
   ],
   "source": [
    "##  Custom iterator creation 1.\n",
    "\n",
    "class MyIterator:\n",
    "    def __init__(self, data):\n",
    "        self.data = data\n",
    "        self.index = 0\n",
    "\n",
    "    def __iter__(self):\n",
    "        return self  # The iterator object itself\n",
    "\n",
    "    def __next__(self):\n",
    "        if self.index >= len(self.data):\n",
    "            raise StopIteration  # Stops iteration when all elements are traversed\n",
    "        value = self.data[self.index]\n",
    "        self.index += 1\n",
    "        return value\n",
    "\n",
    "# Using the iterator\n",
    "numbers = MyIterator([10, 20, 30])\n",
    "print(numbers)\n",
    "for num in numbers:\n",
    "    print(num)"
   ]
  },
  {
   "cell_type": "code",
   "execution_count": null,
   "metadata": {},
   "outputs": [
    {
     "name": "stdout",
     "output_type": "stream",
     "text": [
      "2\n",
      "4\n",
      "6\n",
      "8\n",
      "10\n"
     ]
    }
   ],
   "source": [
    "##  Custom iterator for even numbers creation 2.\n",
    "\n",
    "\n",
    "class EvenNumbers:\n",
    "    def __iter__(self):\n",
    "        self.n = 2  # Start from the first even number\n",
    "        return self\n",
    "\n",
    "    def __next__(self):\n",
    "        x = self.n\n",
    "        self.n += 2  # Increment by 2 to get the next even number\n",
    "        return x\n",
    "\n",
    "# Create an instance of EvenNumbers\n",
    "even = EvenNumbers()\n",
    "it = iter(even)\n",
    "\n",
    "# Print the first five even numbers\n",
    "print(next(it))  \n",
    "print(next(it)) \n",
    "print(next(it))  \n",
    "print(next(it)) \n",
    "print(next(it))  "
   ]
  }
 ],
 "metadata": {
  "kernelspec": {
   "display_name": "myenv",
   "language": "python",
   "name": "python3"
  },
  "language_info": {
   "codemirror_mode": {
    "name": "ipython",
    "version": 3
   },
   "file_extension": ".py",
   "mimetype": "text/x-python",
   "name": "python",
   "nbconvert_exporter": "python",
   "pygments_lexer": "ipython3",
   "version": "3.13.2"
  }
 },
 "nbformat": 4,
 "nbformat_minor": 2
}
