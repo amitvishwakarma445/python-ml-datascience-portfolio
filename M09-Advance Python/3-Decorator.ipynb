{
 "cells": [
  {
   "cell_type": "markdown",
   "metadata": {},
   "source": [
    "## Decorator in python\n",
    "\n",
    "* Decorators are powerful and flexible features in python that allow you to modify the behaviour of a function or class method.\n",
    "* they are commonly used to add functionality to functions or  methods without modifying their actual code."
   ]
  },
  {
   "cell_type": "markdown",
   "metadata": {},
   "source": [
    "# Function copy"
   ]
  },
  {
   "cell_type": "code",
   "execution_count": 20,
   "metadata": {},
   "outputs": [],
   "source": [
    "def welcome():\n",
    "    print(\"welcome to the advanced pyhton\")"
   ]
  },
  {
   "cell_type": "code",
   "execution_count": 21,
   "metadata": {},
   "outputs": [
    {
     "name": "stdout",
     "output_type": "stream",
     "text": [
      "welcome to the advanced pyhton\n",
      "welcome to the advanced pyhton\n"
     ]
    }
   ],
   "source": [
    "## coping function :- always deep copy\n",
    "\n",
    "greet = welcome\n",
    "\n",
    "## calling welcome() function\n",
    "welcome()\n",
    "\n",
    "## delete Welcome() function\n",
    "del welcome\n",
    "\n",
    "## calling greet() function\n",
    "greet()\n",
    "\n",
    "## after delethe the welcome(), calling welcome() function\n",
    "# print(welcome())  ## NameError: name 'welcome' is not defined\n"
   ]
  },
  {
   "cell_type": "markdown",
   "metadata": {},
   "source": [
    "# Closure\n",
    "* function inside function"
   ]
  },
  {
   "cell_type": "code",
   "execution_count": 22,
   "metadata": {},
   "outputs": [],
   "source": [
    "def welcome_method():\n",
    "    msg = \"Hello,  Amit!\"\n",
    "    def sub_welcome_method():\n",
    "        print(msg)\n",
    "        print('welcome to the advanced python topic')\n",
    "        print('learn deeply everything')\n",
    "    return sub_welcome_method()"
   ]
  },
  {
   "cell_type": "code",
   "execution_count": 23,
   "metadata": {},
   "outputs": [
    {
     "name": "stdout",
     "output_type": "stream",
     "text": [
      "Hello,  Amit!\n",
      "welcome to the advanced python topic\n",
      "learn deeply everything\n"
     ]
    }
   ],
   "source": [
    "## calling welcome_method function\n",
    "welcome_method()"
   ]
  },
  {
   "cell_type": "code",
   "execution_count": 24,
   "metadata": {},
   "outputs": [
    {
     "name": "stdout",
     "output_type": "stream",
     "text": [
      "Hello, Amit!\n",
      "welcome to the advanced python topic\n",
      "learn deeply everything\n"
     ]
    }
   ],
   "source": [
    "## leading to the dunder function from closure function\n",
    "\n",
    "## closure function with parameter\n",
    "def welcome_method(msg):\n",
    "    def sub_welcome_method():\n",
    "        print(msg)\n",
    "        print('welcome to the advanced python topic')\n",
    "        print('learn deeply everything')\n",
    "    return sub_welcome_method()\n",
    "\n",
    "\n",
    "## calling to the welcome_method function\n",
    "welcome_method('Hello, Amit!')"
   ]
  },
  {
   "cell_type": "code",
   "execution_count": 25,
   "metadata": {},
   "outputs": [
    {
     "name": "stdout",
     "output_type": "stream",
     "text": [
      "welcome to the advanced python topic\n",
      "\n",
      "learn deeply everything\n"
     ]
    }
   ],
   "source": [
    "## closure functions with built-in functional parameter\n",
    "def welcome_method(function_name):\n",
    "    def sub_welcome_method():\n",
    "        print('welcome to the advanced python topic')\n",
    "        function_name()\n",
    "        print('learn deeply everything')\n",
    "    return sub_welcome_method()\n",
    "\n",
    "\n",
    "## calling to the welcome_method function\n",
    "welcome_method(print)"
   ]
  },
  {
   "cell_type": "code",
   "execution_count": 26,
   "metadata": {},
   "outputs": [
    {
     "name": "stdout",
     "output_type": "stream",
     "text": [
      "Hey Amit Vishwakarma!\n",
      "welcome to the advanced python topic\n",
      "learn deeply everything\n"
     ]
    }
   ],
   "source": [
    "## closure functions with built-in functional parameter\n",
    "\n",
    "def welcome_method(function_name):\n",
    "    def sub_welcome_method():\n",
    "        function_name(\"Hey Amit Vishwakarma!\")\n",
    "        print('welcome to the advanced python topic')\n",
    "        print('learn deeply everything')\n",
    "    return sub_welcome_method()\n",
    "\n",
    "\n",
    "## calling to the welcome_method function\n",
    "welcome_method(print)"
   ]
  },
  {
   "cell_type": "code",
   "execution_count": 27,
   "metadata": {},
   "outputs": [
    {
     "name": "stdout",
     "output_type": "stream",
     "text": [
      "total items :  5\n",
      "welcome to the advanced python topic\n",
      "learn deeply everything\n"
     ]
    }
   ],
   "source": [
    "## closure functions with double parameter\n",
    "\n",
    "def welcome_method(function_name, lst):\n",
    "    def sub_welcome_method():\n",
    "        print(\"total items : \",function_name(lst))\n",
    "        print('welcome to the advanced python topic')\n",
    "        print('learn deeply everything')\n",
    "    return sub_welcome_method()\n",
    "\n",
    "\n",
    "## calling to the welcome_method function\n",
    "welcome_method(len, [1,2,3,4,5])"
   ]
  },
  {
   "cell_type": "markdown",
   "metadata": {},
   "source": [
    "# Decorator"
   ]
  },
  {
   "cell_type": "code",
   "execution_count": 28,
   "metadata": {},
   "outputs": [
    {
     "name": "stdout",
     "output_type": "stream",
     "text": [
      "welcome to the advanced python topic\n",
      "hello\n",
      "learn deeply everything\n"
     ]
    }
   ],
   "source": [
    "## base for decorator\n",
    "\n",
    "def welcome_method(function_name):\n",
    "    def sub_welcome_method():\n",
    "        print('welcome to the advanced python topic')\n",
    "        function_name()\n",
    "        print('learn deeply everything')\n",
    "    return sub_welcome_method()\n",
    "\n",
    "\n",
    "def course_introduction():\n",
    "    print(\"hello\")\n",
    "\n",
    "\n",
    "welcome_method(course_introduction)"
   ]
  },
  {
   "cell_type": "code",
   "execution_count": 29,
   "metadata": {},
   "outputs": [
    {
     "name": "stdout",
     "output_type": "stream",
     "text": [
      "welcome to the advanced python topic\n",
      "hello\n",
      "learn deeply everything\n"
     ]
    }
   ],
   "source": [
    "## Decorator example 1\n",
    "\n",
    "def welcome_method(function_name):\n",
    "    def sub_welcome_method():\n",
    "        print('welcome to the advanced python topic')\n",
    "        function_name()\n",
    "        print('learn deeply everything')\n",
    "    return sub_welcome_method()\n",
    "\n",
    "\n",
    "@welcome_method    ## Decorator     \n",
    "def course_introduction():\n",
    "    print(\"hello\")"
   ]
  },
  {
   "cell_type": "code",
   "execution_count": 30,
   "metadata": {},
   "outputs": [
    {
     "name": "stdout",
     "output_type": "stream",
     "text": [
      "before function is called.\n",
      "hello Amit\n",
      "after function is called.\n"
     ]
    }
   ],
   "source": [
    "## Decorator example 2\n",
    "\n",
    "def my_decorator(func):\n",
    "    def wrapper():\n",
    "        print(\"before function is called.\")\n",
    "        func()\n",
    "        print(\"after function is called.\")\n",
    "    return wrapper()\n",
    "\n",
    "\n",
    "@my_decorator  ## decorator\n",
    "def say_hello():\n",
    "    print(\"hello Amit\")"
   ]
  },
  {
   "cell_type": "code",
   "execution_count": 33,
   "metadata": {},
   "outputs": [
    {
     "name": "stdout",
     "output_type": "stream",
     "text": [
      "Hello\n",
      "Hello\n",
      "Hello\n"
     ]
    }
   ],
   "source": [
    "## Decorator example 3\n",
    "\n",
    "def repeat(n):\n",
    "    def decorator(func):\n",
    "        def wrap(*args, **kwargs):\n",
    "            for _ in range(n):\n",
    "                func(*args, **kwargs)\n",
    "        return wrap\n",
    "    return decorator\n",
    "\n",
    "@repeat(3)\n",
    "def say_hello():\n",
    "    print(\"Hello\")\n",
    "\n",
    "\n",
    "say_hello()"
   ]
  }
 ],
 "metadata": {
  "kernelspec": {
   "display_name": "myenv",
   "language": "python",
   "name": "python3"
  },
  "language_info": {
   "codemirror_mode": {
    "name": "ipython",
    "version": 3
   },
   "file_extension": ".py",
   "mimetype": "text/x-python",
   "name": "python",
   "nbconvert_exporter": "python",
   "pygments_lexer": "ipython3",
   "version": "3.13.2"
  }
 },
 "nbformat": 4,
 "nbformat_minor": 2
}
